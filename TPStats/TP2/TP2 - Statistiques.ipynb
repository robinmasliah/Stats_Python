{
 "cells": [
  {
   "cell_type": "markdown",
   "metadata": {},
   "source": [
    "# TP2 Statistiques\n",
    "### Partie 1"
   ]
  },
  {
   "cell_type": "code",
   "execution_count": 1,
   "metadata": {
    "collapsed": true
   },
   "outputs": [],
   "source": [
    "# packages:\n",
    "\n",
    "from os import path\n",
    "import sys\n",
    "import urllib\n",
    "import zipfile\n",
    "\n",
    "import pandas as pd\n",
    "import numpy as np\n",
    "\n",
    "%matplotlib inline\n",
    "import matplotlib.pyplot as plt\n",
    "import matplotlib.dates as dates\n",
    "import seaborn as sns\n",
    "plt.style.use('seaborn')\n",
    "sns.set(color_codes=True)\n",
    "\n",
    "from sklearn import datasets, linear_model"
   ]
  },
  {
   "cell_type": "markdown",
   "metadata": {},
   "source": [
    "### Q1"
   ]
  },
  {
   "cell_type": "code",
   "execution_count": 36,
   "metadata": {},
   "outputs": [
    {
     "data": {
      "text/html": [
       "<div>\n",
       "<style>\n",
       "    .dataframe thead tr:only-child th {\n",
       "        text-align: right;\n",
       "    }\n",
       "\n",
       "    .dataframe thead th {\n",
       "        text-align: left;\n",
       "    }\n",
       "\n",
       "    .dataframe tbody tr th {\n",
       "        vertical-align: top;\n",
       "    }\n",
       "</style>\n",
       "<table border=\"1\" class=\"dataframe\">\n",
       "  <thead>\n",
       "    <tr style=\"text-align: right;\">\n",
       "      <th></th>\n",
       "      <th>Father</th>\n",
       "      <th>Mother</th>\n",
       "      <th>Height</th>\n",
       "      <th>Kids</th>\n",
       "    </tr>\n",
       "  </thead>\n",
       "  <tbody>\n",
       "    <tr>\n",
       "      <th>count</th>\n",
       "      <td>898.000000</td>\n",
       "      <td>898.000000</td>\n",
       "      <td>898.000000</td>\n",
       "      <td>898.000000</td>\n",
       "    </tr>\n",
       "    <tr>\n",
       "      <th>mean</th>\n",
       "      <td>69.232851</td>\n",
       "      <td>64.084410</td>\n",
       "      <td>66.760690</td>\n",
       "      <td>6.135857</td>\n",
       "    </tr>\n",
       "    <tr>\n",
       "      <th>std</th>\n",
       "      <td>2.470256</td>\n",
       "      <td>2.307025</td>\n",
       "      <td>3.582918</td>\n",
       "      <td>2.685156</td>\n",
       "    </tr>\n",
       "    <tr>\n",
       "      <th>min</th>\n",
       "      <td>62.000000</td>\n",
       "      <td>58.000000</td>\n",
       "      <td>56.000000</td>\n",
       "      <td>1.000000</td>\n",
       "    </tr>\n",
       "    <tr>\n",
       "      <th>25%</th>\n",
       "      <td>68.000000</td>\n",
       "      <td>63.000000</td>\n",
       "      <td>64.000000</td>\n",
       "      <td>4.000000</td>\n",
       "    </tr>\n",
       "    <tr>\n",
       "      <th>50%</th>\n",
       "      <td>69.000000</td>\n",
       "      <td>64.000000</td>\n",
       "      <td>66.500000</td>\n",
       "      <td>6.000000</td>\n",
       "    </tr>\n",
       "    <tr>\n",
       "      <th>75%</th>\n",
       "      <td>71.000000</td>\n",
       "      <td>65.500000</td>\n",
       "      <td>69.700000</td>\n",
       "      <td>8.000000</td>\n",
       "    </tr>\n",
       "    <tr>\n",
       "      <th>max</th>\n",
       "      <td>78.500000</td>\n",
       "      <td>70.500000</td>\n",
       "      <td>79.000000</td>\n",
       "      <td>15.000000</td>\n",
       "    </tr>\n",
       "  </tbody>\n",
       "</table>\n",
       "</div>"
      ],
      "text/plain": [
       "           Father      Mother      Height        Kids\n",
       "count  898.000000  898.000000  898.000000  898.000000\n",
       "mean    69.232851   64.084410   66.760690    6.135857\n",
       "std      2.470256    2.307025    3.582918    2.685156\n",
       "min     62.000000   58.000000   56.000000    1.000000\n",
       "25%     68.000000   63.000000   64.000000    4.000000\n",
       "50%     69.000000   64.000000   66.500000    6.000000\n",
       "75%     71.000000   65.500000   69.700000    8.000000\n",
       "max     78.500000   70.500000   79.000000   15.000000"
      ]
     },
     "execution_count": 36,
     "metadata": {},
     "output_type": "execute_result"
    }
   ],
   "source": [
    "url = 'http://josephsalmon.eu/enseignement/TELECOM/MDI720/datasets/Galton.txt'\n",
    "df_desc = pd.read_csv(url, sep='\\t')\n",
    "df_desc.head()\n",
    "df_desc.count()\n",
    "df_desc.describe()"
   ]
  },
  {
   "cell_type": "markdown",
   "metadata": {},
   "source": [
    "* Ne comporte pas de points abérrants."
   ]
  },
  {
   "cell_type": "markdown",
   "metadata": {},
   "source": [
    "### Q2"
   ]
  },
  {
   "cell_type": "code",
   "execution_count": 37,
   "metadata": {},
   "outputs": [
    {
     "data": {
      "text/html": [
       "<div>\n",
       "<style>\n",
       "    .dataframe thead tr:only-child th {\n",
       "        text-align: right;\n",
       "    }\n",
       "\n",
       "    .dataframe thead th {\n",
       "        text-align: left;\n",
       "    }\n",
       "\n",
       "    .dataframe tbody tr th {\n",
       "        vertical-align: top;\n",
       "    }\n",
       "</style>\n",
       "<table border=\"1\" class=\"dataframe\">\n",
       "  <thead>\n",
       "    <tr style=\"text-align: right;\">\n",
       "      <th></th>\n",
       "      <th>Family</th>\n",
       "      <th>Father</th>\n",
       "      <th>Mother</th>\n",
       "      <th>Gender</th>\n",
       "      <th>Height</th>\n",
       "      <th>Kids</th>\n",
       "    </tr>\n",
       "  </thead>\n",
       "  <tbody>\n",
       "    <tr>\n",
       "      <th>0</th>\n",
       "      <td>1</td>\n",
       "      <td>199.0</td>\n",
       "      <td>170.0</td>\n",
       "      <td>M</td>\n",
       "      <td>186.0</td>\n",
       "      <td>4</td>\n",
       "    </tr>\n",
       "    <tr>\n",
       "      <th>1</th>\n",
       "      <td>1</td>\n",
       "      <td>199.0</td>\n",
       "      <td>170.0</td>\n",
       "      <td>F</td>\n",
       "      <td>176.0</td>\n",
       "      <td>4</td>\n",
       "    </tr>\n",
       "    <tr>\n",
       "      <th>2</th>\n",
       "      <td>1</td>\n",
       "      <td>199.0</td>\n",
       "      <td>170.0</td>\n",
       "      <td>F</td>\n",
       "      <td>175.0</td>\n",
       "      <td>4</td>\n",
       "    </tr>\n",
       "    <tr>\n",
       "      <th>3</th>\n",
       "      <td>1</td>\n",
       "      <td>199.0</td>\n",
       "      <td>170.0</td>\n",
       "      <td>F</td>\n",
       "      <td>175.0</td>\n",
       "      <td>4</td>\n",
       "    </tr>\n",
       "    <tr>\n",
       "      <th>4</th>\n",
       "      <td>2</td>\n",
       "      <td>192.0</td>\n",
       "      <td>169.0</td>\n",
       "      <td>M</td>\n",
       "      <td>187.0</td>\n",
       "      <td>4</td>\n",
       "    </tr>\n",
       "  </tbody>\n",
       "</table>\n",
       "</div>"
      ],
      "text/plain": [
       "  Family  Father  Mother Gender  Height  Kids\n",
       "0      1   199.0   170.0      M   186.0     4\n",
       "1      1   199.0   170.0      F   176.0     4\n",
       "2      1   199.0   170.0      F   175.0     4\n",
       "3      1   199.0   170.0      F   175.0     4\n",
       "4      2   192.0   169.0      M   187.0     4"
      ]
     },
     "execution_count": 37,
     "metadata": {},
     "output_type": "execute_result"
    }
   ],
   "source": [
    "# Conversion des inches en cm et arrondies\n",
    "df_desc['Father'] = round(df_desc['Father'] * 2.54)\n",
    "df_desc['Mother'] = round(df_desc['Mother'] * 2.54)\n",
    "df_desc['Height'] = round(df_desc['Height'] * 2.54)\n",
    "df_desc.head()"
   ]
  },
  {
   "cell_type": "markdown",
   "metadata": {},
   "source": [
    "* Conversion des inches en cm et valeurs arrondies."
   ]
  },
  {
   "cell_type": "code",
   "execution_count": 38,
   "metadata": {},
   "outputs": [
    {
     "name": "stdout",
     "output_type": "stream",
     "text": [
      "Number of observations left: 0\n"
     ]
    },
    {
     "data": {
      "text/html": [
       "<div>\n",
       "<style>\n",
       "    .dataframe thead tr:only-child th {\n",
       "        text-align: right;\n",
       "    }\n",
       "\n",
       "    .dataframe thead th {\n",
       "        text-align: left;\n",
       "    }\n",
       "\n",
       "    .dataframe tbody tr th {\n",
       "        vertical-align: top;\n",
       "    }\n",
       "</style>\n",
       "<table border=\"1\" class=\"dataframe\">\n",
       "  <thead>\n",
       "    <tr style=\"text-align: right;\">\n",
       "      <th></th>\n",
       "      <th>Family</th>\n",
       "      <th>Father</th>\n",
       "      <th>Mother</th>\n",
       "      <th>Gender</th>\n",
       "      <th>Height</th>\n",
       "      <th>Kids</th>\n",
       "    </tr>\n",
       "  </thead>\n",
       "  <tbody>\n",
       "    <tr>\n",
       "      <th>0</th>\n",
       "      <td>1</td>\n",
       "      <td>199.0</td>\n",
       "      <td>170.0</td>\n",
       "      <td>M</td>\n",
       "      <td>186.0</td>\n",
       "      <td>4</td>\n",
       "    </tr>\n",
       "    <tr>\n",
       "      <th>1</th>\n",
       "      <td>1</td>\n",
       "      <td>199.0</td>\n",
       "      <td>170.0</td>\n",
       "      <td>F</td>\n",
       "      <td>176.0</td>\n",
       "      <td>4</td>\n",
       "    </tr>\n",
       "    <tr>\n",
       "      <th>2</th>\n",
       "      <td>1</td>\n",
       "      <td>199.0</td>\n",
       "      <td>170.0</td>\n",
       "      <td>F</td>\n",
       "      <td>175.0</td>\n",
       "      <td>4</td>\n",
       "    </tr>\n",
       "    <tr>\n",
       "      <th>3</th>\n",
       "      <td>1</td>\n",
       "      <td>199.0</td>\n",
       "      <td>170.0</td>\n",
       "      <td>F</td>\n",
       "      <td>175.0</td>\n",
       "      <td>4</td>\n",
       "    </tr>\n",
       "    <tr>\n",
       "      <th>4</th>\n",
       "      <td>2</td>\n",
       "      <td>192.0</td>\n",
       "      <td>169.0</td>\n",
       "      <td>M</td>\n",
       "      <td>187.0</td>\n",
       "      <td>4</td>\n",
       "    </tr>\n",
       "    <tr>\n",
       "      <th>5</th>\n",
       "      <td>2</td>\n",
       "      <td>192.0</td>\n",
       "      <td>169.0</td>\n",
       "      <td>M</td>\n",
       "      <td>184.0</td>\n",
       "      <td>4</td>\n",
       "    </tr>\n",
       "    <tr>\n",
       "      <th>6</th>\n",
       "      <td>2</td>\n",
       "      <td>192.0</td>\n",
       "      <td>169.0</td>\n",
       "      <td>F</td>\n",
       "      <td>166.0</td>\n",
       "      <td>4</td>\n",
       "    </tr>\n",
       "    <tr>\n",
       "      <th>7</th>\n",
       "      <td>2</td>\n",
       "      <td>192.0</td>\n",
       "      <td>169.0</td>\n",
       "      <td>F</td>\n",
       "      <td>166.0</td>\n",
       "      <td>4</td>\n",
       "    </tr>\n",
       "    <tr>\n",
       "      <th>8</th>\n",
       "      <td>3</td>\n",
       "      <td>190.0</td>\n",
       "      <td>163.0</td>\n",
       "      <td>M</td>\n",
       "      <td>180.0</td>\n",
       "      <td>2</td>\n",
       "    </tr>\n",
       "    <tr>\n",
       "      <th>9</th>\n",
       "      <td>3</td>\n",
       "      <td>190.0</td>\n",
       "      <td>163.0</td>\n",
       "      <td>F</td>\n",
       "      <td>173.0</td>\n",
       "      <td>2</td>\n",
       "    </tr>\n",
       "    <tr>\n",
       "      <th>10</th>\n",
       "      <td>4</td>\n",
       "      <td>190.0</td>\n",
       "      <td>163.0</td>\n",
       "      <td>M</td>\n",
       "      <td>179.0</td>\n",
       "      <td>5</td>\n",
       "    </tr>\n",
       "    <tr>\n",
       "      <th>11</th>\n",
       "      <td>4</td>\n",
       "      <td>190.0</td>\n",
       "      <td>163.0</td>\n",
       "      <td>M</td>\n",
       "      <td>174.0</td>\n",
       "      <td>5</td>\n",
       "    </tr>\n",
       "    <tr>\n",
       "      <th>12</th>\n",
       "      <td>4</td>\n",
       "      <td>190.0</td>\n",
       "      <td>163.0</td>\n",
       "      <td>F</td>\n",
       "      <td>170.0</td>\n",
       "      <td>5</td>\n",
       "    </tr>\n",
       "    <tr>\n",
       "      <th>13</th>\n",
       "      <td>4</td>\n",
       "      <td>190.0</td>\n",
       "      <td>163.0</td>\n",
       "      <td>F</td>\n",
       "      <td>164.0</td>\n",
       "      <td>5</td>\n",
       "    </tr>\n",
       "    <tr>\n",
       "      <th>14</th>\n",
       "      <td>4</td>\n",
       "      <td>190.0</td>\n",
       "      <td>163.0</td>\n",
       "      <td>F</td>\n",
       "      <td>160.0</td>\n",
       "      <td>5</td>\n",
       "    </tr>\n",
       "    <tr>\n",
       "      <th>15</th>\n",
       "      <td>5</td>\n",
       "      <td>190.0</td>\n",
       "      <td>149.0</td>\n",
       "      <td>M</td>\n",
       "      <td>183.0</td>\n",
       "      <td>6</td>\n",
       "    </tr>\n",
       "    <tr>\n",
       "      <th>16</th>\n",
       "      <td>5</td>\n",
       "      <td>190.0</td>\n",
       "      <td>149.0</td>\n",
       "      <td>M</td>\n",
       "      <td>175.0</td>\n",
       "      <td>6</td>\n",
       "    </tr>\n",
       "    <tr>\n",
       "      <th>17</th>\n",
       "      <td>5</td>\n",
       "      <td>190.0</td>\n",
       "      <td>149.0</td>\n",
       "      <td>M</td>\n",
       "      <td>173.0</td>\n",
       "      <td>6</td>\n",
       "    </tr>\n",
       "    <tr>\n",
       "      <th>18</th>\n",
       "      <td>5</td>\n",
       "      <td>190.0</td>\n",
       "      <td>149.0</td>\n",
       "      <td>F</td>\n",
       "      <td>169.0</td>\n",
       "      <td>6</td>\n",
       "    </tr>\n",
       "    <tr>\n",
       "      <th>19</th>\n",
       "      <td>5</td>\n",
       "      <td>190.0</td>\n",
       "      <td>149.0</td>\n",
       "      <td>F</td>\n",
       "      <td>159.0</td>\n",
       "      <td>6</td>\n",
       "    </tr>\n",
       "    <tr>\n",
       "      <th>20</th>\n",
       "      <td>5</td>\n",
       "      <td>190.0</td>\n",
       "      <td>149.0</td>\n",
       "      <td>F</td>\n",
       "      <td>159.0</td>\n",
       "      <td>6</td>\n",
       "    </tr>\n",
       "    <tr>\n",
       "      <th>21</th>\n",
       "      <td>6</td>\n",
       "      <td>188.0</td>\n",
       "      <td>173.0</td>\n",
       "      <td>F</td>\n",
       "      <td>177.0</td>\n",
       "      <td>1</td>\n",
       "    </tr>\n",
       "    <tr>\n",
       "      <th>22</th>\n",
       "      <td>7</td>\n",
       "      <td>188.0</td>\n",
       "      <td>173.0</td>\n",
       "      <td>M</td>\n",
       "      <td>194.0</td>\n",
       "      <td>6</td>\n",
       "    </tr>\n",
       "    <tr>\n",
       "      <th>23</th>\n",
       "      <td>7</td>\n",
       "      <td>188.0</td>\n",
       "      <td>173.0</td>\n",
       "      <td>M</td>\n",
       "      <td>188.0</td>\n",
       "      <td>6</td>\n",
       "    </tr>\n",
       "    <tr>\n",
       "      <th>24</th>\n",
       "      <td>7</td>\n",
       "      <td>188.0</td>\n",
       "      <td>173.0</td>\n",
       "      <td>M</td>\n",
       "      <td>185.0</td>\n",
       "      <td>6</td>\n",
       "    </tr>\n",
       "    <tr>\n",
       "      <th>25</th>\n",
       "      <td>7</td>\n",
       "      <td>188.0</td>\n",
       "      <td>173.0</td>\n",
       "      <td>M</td>\n",
       "      <td>185.0</td>\n",
       "      <td>6</td>\n",
       "    </tr>\n",
       "    <tr>\n",
       "      <th>26</th>\n",
       "      <td>7</td>\n",
       "      <td>188.0</td>\n",
       "      <td>173.0</td>\n",
       "      <td>F</td>\n",
       "      <td>179.0</td>\n",
       "      <td>6</td>\n",
       "    </tr>\n",
       "    <tr>\n",
       "      <th>27</th>\n",
       "      <td>7</td>\n",
       "      <td>188.0</td>\n",
       "      <td>173.0</td>\n",
       "      <td>F</td>\n",
       "      <td>163.0</td>\n",
       "      <td>6</td>\n",
       "    </tr>\n",
       "    <tr>\n",
       "      <th>28</th>\n",
       "      <td>8</td>\n",
       "      <td>188.0</td>\n",
       "      <td>169.0</td>\n",
       "      <td>F</td>\n",
       "      <td>179.0</td>\n",
       "      <td>3</td>\n",
       "    </tr>\n",
       "    <tr>\n",
       "      <th>29</th>\n",
       "      <td>8</td>\n",
       "      <td>188.0</td>\n",
       "      <td>169.0</td>\n",
       "      <td>F</td>\n",
       "      <td>173.0</td>\n",
       "      <td>3</td>\n",
       "    </tr>\n",
       "    <tr>\n",
       "      <th>...</th>\n",
       "      <td>...</td>\n",
       "      <td>...</td>\n",
       "      <td>...</td>\n",
       "      <td>...</td>\n",
       "      <td>...</td>\n",
       "      <td>...</td>\n",
       "    </tr>\n",
       "    <tr>\n",
       "      <th>868</th>\n",
       "      <td>198</td>\n",
       "      <td>163.0</td>\n",
       "      <td>163.0</td>\n",
       "      <td>M</td>\n",
       "      <td>182.0</td>\n",
       "      <td>7</td>\n",
       "    </tr>\n",
       "    <tr>\n",
       "      <th>869</th>\n",
       "      <td>198</td>\n",
       "      <td>163.0</td>\n",
       "      <td>163.0</td>\n",
       "      <td>M</td>\n",
       "      <td>173.0</td>\n",
       "      <td>7</td>\n",
       "    </tr>\n",
       "    <tr>\n",
       "      <th>870</th>\n",
       "      <td>198</td>\n",
       "      <td>163.0</td>\n",
       "      <td>163.0</td>\n",
       "      <td>F</td>\n",
       "      <td>166.0</td>\n",
       "      <td>7</td>\n",
       "    </tr>\n",
       "    <tr>\n",
       "      <th>871</th>\n",
       "      <td>198</td>\n",
       "      <td>163.0</td>\n",
       "      <td>163.0</td>\n",
       "      <td>F</td>\n",
       "      <td>163.0</td>\n",
       "      <td>7</td>\n",
       "    </tr>\n",
       "    <tr>\n",
       "      <th>872</th>\n",
       "      <td>198</td>\n",
       "      <td>163.0</td>\n",
       "      <td>163.0</td>\n",
       "      <td>F</td>\n",
       "      <td>157.0</td>\n",
       "      <td>7</td>\n",
       "    </tr>\n",
       "    <tr>\n",
       "      <th>873</th>\n",
       "      <td>198</td>\n",
       "      <td>163.0</td>\n",
       "      <td>163.0</td>\n",
       "      <td>F</td>\n",
       "      <td>157.0</td>\n",
       "      <td>7</td>\n",
       "    </tr>\n",
       "    <tr>\n",
       "      <th>874</th>\n",
       "      <td>198</td>\n",
       "      <td>163.0</td>\n",
       "      <td>163.0</td>\n",
       "      <td>F</td>\n",
       "      <td>155.0</td>\n",
       "      <td>7</td>\n",
       "    </tr>\n",
       "    <tr>\n",
       "      <th>875</th>\n",
       "      <td>199</td>\n",
       "      <td>163.0</td>\n",
       "      <td>163.0</td>\n",
       "      <td>M</td>\n",
       "      <td>179.0</td>\n",
       "      <td>7</td>\n",
       "    </tr>\n",
       "    <tr>\n",
       "      <th>876</th>\n",
       "      <td>199</td>\n",
       "      <td>163.0</td>\n",
       "      <td>163.0</td>\n",
       "      <td>M</td>\n",
       "      <td>173.0</td>\n",
       "      <td>7</td>\n",
       "    </tr>\n",
       "    <tr>\n",
       "      <th>877</th>\n",
       "      <td>199</td>\n",
       "      <td>163.0</td>\n",
       "      <td>163.0</td>\n",
       "      <td>F</td>\n",
       "      <td>170.0</td>\n",
       "      <td>7</td>\n",
       "    </tr>\n",
       "    <tr>\n",
       "      <th>878</th>\n",
       "      <td>199</td>\n",
       "      <td>163.0</td>\n",
       "      <td>163.0</td>\n",
       "      <td>F</td>\n",
       "      <td>165.0</td>\n",
       "      <td>7</td>\n",
       "    </tr>\n",
       "    <tr>\n",
       "      <th>879</th>\n",
       "      <td>199</td>\n",
       "      <td>163.0</td>\n",
       "      <td>163.0</td>\n",
       "      <td>F</td>\n",
       "      <td>163.0</td>\n",
       "      <td>7</td>\n",
       "    </tr>\n",
       "    <tr>\n",
       "      <th>880</th>\n",
       "      <td>199</td>\n",
       "      <td>163.0</td>\n",
       "      <td>163.0</td>\n",
       "      <td>F</td>\n",
       "      <td>163.0</td>\n",
       "      <td>7</td>\n",
       "    </tr>\n",
       "    <tr>\n",
       "      <th>881</th>\n",
       "      <td>199</td>\n",
       "      <td>163.0</td>\n",
       "      <td>163.0</td>\n",
       "      <td>F</td>\n",
       "      <td>152.0</td>\n",
       "      <td>7</td>\n",
       "    </tr>\n",
       "    <tr>\n",
       "      <th>882</th>\n",
       "      <td>200</td>\n",
       "      <td>163.0</td>\n",
       "      <td>160.0</td>\n",
       "      <td>M</td>\n",
       "      <td>164.0</td>\n",
       "      <td>1</td>\n",
       "    </tr>\n",
       "    <tr>\n",
       "      <th>883</th>\n",
       "      <td>201</td>\n",
       "      <td>163.0</td>\n",
       "      <td>152.0</td>\n",
       "      <td>M</td>\n",
       "      <td>168.0</td>\n",
       "      <td>2</td>\n",
       "    </tr>\n",
       "    <tr>\n",
       "      <th>884</th>\n",
       "      <td>201</td>\n",
       "      <td>163.0</td>\n",
       "      <td>152.0</td>\n",
       "      <td>F</td>\n",
       "      <td>152.0</td>\n",
       "      <td>2</td>\n",
       "    </tr>\n",
       "    <tr>\n",
       "      <th>885</th>\n",
       "      <td>203</td>\n",
       "      <td>157.0</td>\n",
       "      <td>168.0</td>\n",
       "      <td>M</td>\n",
       "      <td>163.0</td>\n",
       "      <td>3</td>\n",
       "    </tr>\n",
       "    <tr>\n",
       "      <th>886</th>\n",
       "      <td>203</td>\n",
       "      <td>157.0</td>\n",
       "      <td>168.0</td>\n",
       "      <td>F</td>\n",
       "      <td>157.0</td>\n",
       "      <td>3</td>\n",
       "    </tr>\n",
       "    <tr>\n",
       "      <th>887</th>\n",
       "      <td>203</td>\n",
       "      <td>157.0</td>\n",
       "      <td>168.0</td>\n",
       "      <td>F</td>\n",
       "      <td>155.0</td>\n",
       "      <td>3</td>\n",
       "    </tr>\n",
       "    <tr>\n",
       "      <th>888</th>\n",
       "      <td>204</td>\n",
       "      <td>159.0</td>\n",
       "      <td>160.0</td>\n",
       "      <td>M</td>\n",
       "      <td>169.0</td>\n",
       "      <td>2</td>\n",
       "    </tr>\n",
       "    <tr>\n",
       "      <th>889</th>\n",
       "      <td>204</td>\n",
       "      <td>159.0</td>\n",
       "      <td>160.0</td>\n",
       "      <td>F</td>\n",
       "      <td>145.0</td>\n",
       "      <td>2</td>\n",
       "    </tr>\n",
       "    <tr>\n",
       "      <th>890</th>\n",
       "      <td>136A</td>\n",
       "      <td>174.0</td>\n",
       "      <td>165.0</td>\n",
       "      <td>M</td>\n",
       "      <td>183.0</td>\n",
       "      <td>8</td>\n",
       "    </tr>\n",
       "    <tr>\n",
       "      <th>891</th>\n",
       "      <td>136A</td>\n",
       "      <td>174.0</td>\n",
       "      <td>165.0</td>\n",
       "      <td>M</td>\n",
       "      <td>179.0</td>\n",
       "      <td>8</td>\n",
       "    </tr>\n",
       "    <tr>\n",
       "      <th>892</th>\n",
       "      <td>136A</td>\n",
       "      <td>174.0</td>\n",
       "      <td>165.0</td>\n",
       "      <td>M</td>\n",
       "      <td>174.0</td>\n",
       "      <td>8</td>\n",
       "    </tr>\n",
       "    <tr>\n",
       "      <th>893</th>\n",
       "      <td>136A</td>\n",
       "      <td>174.0</td>\n",
       "      <td>165.0</td>\n",
       "      <td>M</td>\n",
       "      <td>174.0</td>\n",
       "      <td>8</td>\n",
       "    </tr>\n",
       "    <tr>\n",
       "      <th>894</th>\n",
       "      <td>136A</td>\n",
       "      <td>174.0</td>\n",
       "      <td>165.0</td>\n",
       "      <td>M</td>\n",
       "      <td>172.0</td>\n",
       "      <td>8</td>\n",
       "    </tr>\n",
       "    <tr>\n",
       "      <th>895</th>\n",
       "      <td>136A</td>\n",
       "      <td>174.0</td>\n",
       "      <td>165.0</td>\n",
       "      <td>F</td>\n",
       "      <td>163.0</td>\n",
       "      <td>8</td>\n",
       "    </tr>\n",
       "    <tr>\n",
       "      <th>896</th>\n",
       "      <td>136A</td>\n",
       "      <td>174.0</td>\n",
       "      <td>165.0</td>\n",
       "      <td>F</td>\n",
       "      <td>161.0</td>\n",
       "      <td>8</td>\n",
       "    </tr>\n",
       "    <tr>\n",
       "      <th>897</th>\n",
       "      <td>136A</td>\n",
       "      <td>174.0</td>\n",
       "      <td>165.0</td>\n",
       "      <td>F</td>\n",
       "      <td>160.0</td>\n",
       "      <td>8</td>\n",
       "    </tr>\n",
       "  </tbody>\n",
       "</table>\n",
       "<p>898 rows × 6 columns</p>\n",
       "</div>"
      ],
      "text/plain": [
       "    Family  Father  Mother Gender  Height  Kids\n",
       "0        1   199.0   170.0      M   186.0     4\n",
       "1        1   199.0   170.0      F   176.0     4\n",
       "2        1   199.0   170.0      F   175.0     4\n",
       "3        1   199.0   170.0      F   175.0     4\n",
       "4        2   192.0   169.0      M   187.0     4\n",
       "5        2   192.0   169.0      M   184.0     4\n",
       "6        2   192.0   169.0      F   166.0     4\n",
       "7        2   192.0   169.0      F   166.0     4\n",
       "8        3   190.0   163.0      M   180.0     2\n",
       "9        3   190.0   163.0      F   173.0     2\n",
       "10       4   190.0   163.0      M   179.0     5\n",
       "11       4   190.0   163.0      M   174.0     5\n",
       "12       4   190.0   163.0      F   170.0     5\n",
       "13       4   190.0   163.0      F   164.0     5\n",
       "14       4   190.0   163.0      F   160.0     5\n",
       "15       5   190.0   149.0      M   183.0     6\n",
       "16       5   190.0   149.0      M   175.0     6\n",
       "17       5   190.0   149.0      M   173.0     6\n",
       "18       5   190.0   149.0      F   169.0     6\n",
       "19       5   190.0   149.0      F   159.0     6\n",
       "20       5   190.0   149.0      F   159.0     6\n",
       "21       6   188.0   173.0      F   177.0     1\n",
       "22       7   188.0   173.0      M   194.0     6\n",
       "23       7   188.0   173.0      M   188.0     6\n",
       "24       7   188.0   173.0      M   185.0     6\n",
       "25       7   188.0   173.0      M   185.0     6\n",
       "26       7   188.0   173.0      F   179.0     6\n",
       "27       7   188.0   173.0      F   163.0     6\n",
       "28       8   188.0   169.0      F   179.0     3\n",
       "29       8   188.0   169.0      F   173.0     3\n",
       "..     ...     ...     ...    ...     ...   ...\n",
       "868    198   163.0   163.0      M   182.0     7\n",
       "869    198   163.0   163.0      M   173.0     7\n",
       "870    198   163.0   163.0      F   166.0     7\n",
       "871    198   163.0   163.0      F   163.0     7\n",
       "872    198   163.0   163.0      F   157.0     7\n",
       "873    198   163.0   163.0      F   157.0     7\n",
       "874    198   163.0   163.0      F   155.0     7\n",
       "875    199   163.0   163.0      M   179.0     7\n",
       "876    199   163.0   163.0      M   173.0     7\n",
       "877    199   163.0   163.0      F   170.0     7\n",
       "878    199   163.0   163.0      F   165.0     7\n",
       "879    199   163.0   163.0      F   163.0     7\n",
       "880    199   163.0   163.0      F   163.0     7\n",
       "881    199   163.0   163.0      F   152.0     7\n",
       "882    200   163.0   160.0      M   164.0     1\n",
       "883    201   163.0   152.0      M   168.0     2\n",
       "884    201   163.0   152.0      F   152.0     2\n",
       "885    203   157.0   168.0      M   163.0     3\n",
       "886    203   157.0   168.0      F   157.0     3\n",
       "887    203   157.0   168.0      F   155.0     3\n",
       "888    204   159.0   160.0      M   169.0     2\n",
       "889    204   159.0   160.0      F   145.0     2\n",
       "890   136A   174.0   165.0      M   183.0     8\n",
       "891   136A   174.0   165.0      M   179.0     8\n",
       "892   136A   174.0   165.0      M   174.0     8\n",
       "893   136A   174.0   165.0      M   174.0     8\n",
       "894   136A   174.0   165.0      M   172.0     8\n",
       "895   136A   174.0   165.0      F   163.0     8\n",
       "896   136A   174.0   165.0      F   161.0     8\n",
       "897   136A   174.0   165.0      F   160.0     8\n",
       "\n",
       "[898 rows x 6 columns]"
      ]
     },
     "execution_count": 38,
     "metadata": {},
     "output_type": "execute_result"
    }
   ],
   "source": [
    "# Compte des valeurs manquantes (VM)\n",
    "cpt = 0\n",
    "for el in df_desc:\n",
    "    if (pd.isnull(el) == True):\n",
    "        cpt = cpt + 1\n",
    "\n",
    "print('Number of observations left: %s' % str(cpt))\n",
    "df_desc.dropna(axis=1, how='all')"
   ]
  },
  {
   "cell_type": "markdown",
   "metadata": {},
   "source": [
    "* Suppression des valeurs manquantes."
   ]
  },
  {
   "cell_type": "markdown",
   "metadata": {},
   "source": [
    "### Q3"
   ]
  },
  {
   "cell_type": "code",
   "execution_count": 39,
   "metadata": {},
   "outputs": [
    {
     "data": {
      "text/plain": [
       "<matplotlib.legend.Legend at 0x7f354a78f358>"
      ]
     },
     "execution_count": 39,
     "metadata": {},
     "output_type": "execute_result"
    },
    {
     "data": {
      "image/png": "[encoded data removed]",
      "text/plain": [
       "<matplotlib.figure.Figure at 0x7f354a78f6a0>"
      ]
     },
     "metadata": {},
     "output_type": "display_data"
    }
   ],
   "source": [
    "# Changer couler des axes\n",
    "df_desc['Father'].plot.density(color='#1f77b4')\n",
    "df_desc['Mother'].plot.density(color='#ffa233')\n",
    "plt.xlabel('Father & Mother'), plt.ylabel('Density')\n",
    "plt.title('Densité à noyau gaussien des hommes et des femmes')\n",
    "plt.legend()"
   ]
  },
  {
   "cell_type": "markdown",
   "metadata": {},
   "source": [
    "### Q4"
   ]
  },
  {
   "cell_type": "code",
   "execution_count": 40,
   "metadata": {},
   "outputs": [
    {
     "data": {
      "image/png": "[encoded data removed]",
      "text/plain": [
       "<matplotlib.figure.Figure at 0x7f3552c98c50>"
      ]
     },
     "metadata": {},
     "output_type": "display_data"
    }
   ],
   "source": [
    "x = df_desc.Father.values.reshape(898, 1)\n",
    "y = df_desc.Mother.values.reshape(898, 1)\n",
    "\n",
    "\n",
    "regr = linear_model.LinearRegression()\n",
    "regr.fit(x, y)\n",
    "\n",
    "xlabels = \"Father Height\"\n",
    "ylabels = \"Mother Height\"\n",
    "\n",
    "\n",
    "plt.scatter(x, y, label=\"Data\", color='#ffa233')\n",
    "plt.plot(x, regr.predict(x), 'o', color='blue', linewidth=3,\n",
    "         label=\"LinearReg-no-intercept\", markeredgecolor='k', markeredgewidth=1)\n",
    "\n",
    "\n",
    "plt.legend(numpoints=1, loc=2)  # numpoints = 1 for nicer display\n",
    "plt.xlabel(xlabels), plt.ylabel(ylabels)\n",
    "plt.title('Linear Regression of Father in function of Mothers')\n",
    "plt.tight_layout()\n",
    "plt.show()"
   ]
  },
  {
   "cell_type": "markdown",
   "metadata": {},
   "source": [
    "### Q5"
   ]
  },
  {
   "cell_type": "code",
   "execution_count": 41,
   "metadata": {},
   "outputs": [
    {
     "name": "stderr",
     "output_type": "stream",
     "text": [
      "/home/robin/anaconda3/lib/python3.6/site-packages/ipykernel_launcher.py:3: FutureWarning: pd.groupby() is deprecated and will be removed Please use the Series.groupby() or DataFrame.groupby() methods\n",
      "  This is separate from the ipykernel package so we can avoid doing imports until\n"
     ]
    },
    {
     "data": {
      "text/plain": [
       "(array([ 103.,   47.,   32.,    7.,    5.,    2.,    0.,    0.,    0.,    1.]),\n",
       " array([   1. ,   23.4,   45.8,   68.2,   90.6,  113. ,  135.4,  157.8,\n",
       "         180.2,  202.6,  225. ]),\n",
       " <a list of 10 Patch objects>)"
      ]
     },
     "execution_count": 41,
     "metadata": {},
     "output_type": "execute_result"
    },
    {
     "data": {
      "image/png": "[encoded data removed]",
      "text/plain": [
       "<matplotlib.figure.Figure at 0x7f355267a908>"
      ]
     },
     "metadata": {},
     "output_type": "display_data"
    }
   ],
   "source": [
    "# groupby family\n",
    "df_desc.set_index(['Family'], inplace=True)\n",
    "df_desc1 = pd.groupby(df_desc['Kids'], by=[df_desc.index]).sum()\n",
    "plt.hist(df_desc1)"
   ]
  },
  {
   "cell_type": "markdown",
   "metadata": {},
   "source": [
    "* Histogramme du nombre d'enfants par famille"
   ]
  },
  {
   "cell_type": "markdown",
   "metadata": {},
   "source": [
    "### Q6"
   ]
  },
  {
   "cell_type": "code",
   "execution_count": 42,
   "metadata": {
    "collapsed": true
   },
   "outputs": [],
   "source": [
    "col = df_desc.apply ( lambda row : (row[\"Father\"] + 1.08 * row[\"Mother\"]) / 2, axis = 1 ) \n",
    "df_desc[\"MidParents\"] = col"
   ]
  },
  {
   "cell_type": "markdown",
   "metadata": {},
   "source": [
    "* Création de la colonne MIdParents"
   ]
  },
  {
   "cell_type": "markdown",
   "metadata": {},
   "source": [
    "### Q7"
   ]
  },
  {
   "cell_type": "code",
   "execution_count": 43,
   "metadata": {},
   "outputs": [
    {
     "data": {
      "image/png": "[encoded data removed]",
      "text/plain": [
       "<matplotlib.figure.Figure at 0x7f354a7240b8>"
      ]
     },
     "metadata": {},
     "output_type": "display_data"
    },
    {
     "name": "stdout",
     "output_type": "stream",
     "text": [
      "Intercept (Theta 0) =  [ 58.25591659]\n",
      "Coef (Theta 1) =  [ 0.63309377]\n"
     ]
    }
   ],
   "source": [
    "x = df_desc.MidParents.values.reshape(898, 1)\n",
    "y = df_desc.Height.values.reshape(898, 1)\n",
    "\n",
    "regr = linear_model.LinearRegression(\n",
    "    fit_intercept=True, n_jobs=1, normalize=True)\n",
    "regr.fit(x, y)\n",
    "\n",
    "fig1 = plt.figure()\n",
    "plt.scatter(x, y, label=\"Data\",  color='orange')\n",
    "plt.plot(x, regr.predict(x), 'o', color='blue', linewidth=3,\n",
    "         label=\"Data\", markeredgecolor='k', markeredgewidth=1)\n",
    "\n",
    "plt.xlabel('MidParents')\n",
    "plt.ylabel('Height')\n",
    "plt.title('Midparent/Height')\n",
    "plt.legend()\n",
    "plt.show()\n",
    "\n",
    "Theta0 = regr.intercept_\n",
    "Theta1 = regr.coef_[0]\n",
    "\n",
    "print('Intercept (Theta 0) = ', regr.intercept_)\n",
    "print('Coef (Theta 1) = ', regr.coef_[0])"
   ]
  },
  {
   "cell_type": "code",
   "execution_count": 44,
   "metadata": {
    "collapsed": true
   },
   "outputs": [],
   "source": [
    "Y_pred = regr.predict(x)"
   ]
  },
  {
   "cell_type": "code",
   "execution_count": 45,
   "metadata": {},
   "outputs": [
    {
     "name": "stdout",
     "output_type": "stream",
     "text": [
      "Vérification par le calcul :\n",
      "[[ 1.          0.31974756]\n",
      " [ 0.31974756  1.        ]]\n",
      "0.319747563184\n"
     ]
    }
   ],
   "source": [
    "print('Vérification par le calcul :')\n",
    "print(np.corrcoef(df_desc['MidParents'], df_desc['Height']))\n",
    "print(np.corrcoef(df_desc['MidParents'], df_desc['Height'])[0,1])"
   ]
  },
  {
   "cell_type": "markdown",
   "metadata": {},
   "source": [
    "### Q8"
   ]
  },
  {
   "cell_type": "code",
   "execution_count": 46,
   "metadata": {
    "collapsed": true,
    "scrolled": true
   },
   "outputs": [],
   "source": [
    "y_pred = Theta0 + (Theta1 * df_desc['MidParents'])"
   ]
  },
  {
   "cell_type": "code",
   "execution_count": 47,
   "metadata": {},
   "outputs": [
    {
     "data": {
      "image/png": "[encoded data removed]",
      "text/plain": [
       "<matplotlib.figure.Figure at 0x7f3552c6b0b8>"
      ]
     },
     "metadata": {},
     "output_type": "display_data"
    }
   ],
   "source": [
    "x = df_desc['MidParents']\n",
    "\n",
    "y_male = df_desc['Height'][df_desc['Gender'] == 'M']\n",
    "x_male = df_desc['MidParents'][df_desc['Gender'] == 'M']\n",
    "\n",
    "y_female = df_desc['Height'][df_desc['Gender'] == 'F']\n",
    "x_female = df_desc['MidParents'][df_desc['Gender'] == 'F']\n",
    "\n",
    "\n",
    "plt.scatter(x_male, y_male, label=\"Male's Height\",  color='orange')\n",
    "plt.scatter(x_female, y_female, label=\"Female's Height\",  color='green')\n",
    "\n",
    "plt.plot(x, y_pred, color='red', linewidth=3,\n",
    "         label=\"Children's height\", markeredgecolor='k', markeredgewidth=1)\n",
    "\n",
    "plt.xlabel('MidParents')\n",
    "plt.ylabel('Height')\n",
    "plt.title(\"Midparent's Height predicts children's\")\n",
    "plt.legend()\n",
    "plt.show()"
   ]
  },
  {
   "cell_type": "markdown",
   "metadata": {
    "collapsed": true
   },
   "source": [
    "### Q9"
   ]
  },
  {
   "cell_type": "code",
   "execution_count": 48,
   "metadata": {},
   "outputs": [
    {
     "data": {
      "image/png": "[encoded data removed]",
      "text/plain": [
       "<matplotlib.figure.Figure at 0x7f35530fce80>"
      ]
     },
     "metadata": {},
     "output_type": "display_data"
    },
    {
     "data": {
      "image/png": "[encoded data removed]",
      "text/plain": [
       "<matplotlib.figure.Figure at 0x7f3552445550>"
      ]
     },
     "metadata": {},
     "output_type": "display_data"
    }
   ],
   "source": [
    "from sklearn import neighbors\n",
    "\n",
    "residuals = df_desc['Height'] - y_pred\n",
    "residuals.plot.density()\n",
    "\n",
    "\n",
    "df_desc['residus'] = df_desc['Height'] - y_pred\n",
    "df_desc.dropna(axis=1, how='all')\n",
    "\n",
    "\n",
    "alpha_m = (df_desc[df_desc[\"Gender\"] == 'M'].count() / 898).values[0]\n",
    "alpha_f = 1 - alpha_m\n",
    "\n",
    "\n",
    "dens_resi_g = (df_desc['Height'][(df_desc['Gender'] == 'M')\n",
    "                                  ] - y_pred[(df_desc['Gender'] == 'M')])\n",
    "dens_resi_f = (df_desc['Height'][(df_desc['Gender'] == 'F')\n",
    "                                  ] - y_pred[(df_desc['Gender'] == 'F')])\n",
    "\n",
    "\n",
    "kde_g = neighbors.kde.KernelDensity(kernel='gaussian', bandwidth=2).fit(\n",
    "    dens_resi_g.values.reshape(-1, 1))\n",
    "\n",
    "kde_f = neighbors.kde.KernelDensity(kernel='gaussian', bandwidth=2).fit(\n",
    "    dens_resi_f.values.reshape(-1, 1))\n",
    "\n",
    "kde_all = neighbors.kde.KernelDensity(kernel='gaussian', bandwidth=2).fit(\n",
    "    residuals.values.reshape(-1, 1))\n",
    "\n",
    "\n",
    "X_plot = np.linspace(min(dens_resi_f), max(dens_resi_g), 1000)\n",
    "\n",
    "plt.title(\"Densité des résidus\")\n",
    "plt.xlabel(\"Residus en cm\")\n",
    "plt.ylabel(\"Fréquence\")\n",
    "plt.legend()\n",
    "\n",
    "fig, ax = plt.subplots()\n",
    "\n",
    "log_dens = kde_g.score_samples(X_plot.reshape(-1, 1))\n",
    "plt.plot(X_plot, np.exp(log_dens) * alpha_m, label=\"Male's density\",  color='green')\n",
    "\n",
    "log_dens1 = kde_f.score_samples(X_plot.reshape(-1, 1))\n",
    "plt.plot(X_plot, np.exp(log_dens1) * alpha_f, label=\"Female's density\",  color='red')\n",
    "\n",
    "log_dens2 = kde_all.score_samples(X_plot.reshape(-1, 1))\n",
    "plt.plot(X_plot, np.exp(log_dens2))\n",
    "\n",
    "plt.title(\"Densité des résidus\")\n",
    "plt.xlabel(\"Residus en cm\")\n",
    "plt.ylabel(\"Fréquence\")\n",
    "plt.legend()\n",
    "\n",
    "plt.legend()\n",
    "plt.show()"
   ]
  },
  {
   "cell_type": "markdown",
   "metadata": {},
   "source": [
    "* Densité des hommes et des femmes."
   ]
  },
  {
   "cell_type": "markdown",
   "metadata": {},
   "source": [
    "### Q10"
   ]
  },
  {
   "cell_type": "code",
   "execution_count": 49,
   "metadata": {},
   "outputs": [
    {
     "data": {
      "image/png": "[encoded data removed]",
      "text/plain": [
       "<matplotlib.figure.Figure at 0x7f3552aa2be0>"
      ]
     },
     "metadata": {},
     "output_type": "display_data"
    },
    {
     "name": "stdout",
     "output_type": "stream",
     "text": [
      "Intercept (Theta 0) = [ 148.43716045]\n",
      "Coef (Theta 1) = [ 0.1614903]\n"
     ]
    }
   ],
   "source": [
    "x = df_desc.Height.values.reshape(898, 1)\n",
    "y = df_desc.MidParents.values.reshape(898, 1)\n",
    "\n",
    "regr = linear_model.LinearRegression(\n",
    "    fit_intercept=True, n_jobs=1, normalize=False)\n",
    "regr.fit(x, y)\n",
    "\n",
    "fig1 = plt.figure(figsize=(8, 6))\n",
    "\n",
    "plt.scatter(x, y, linewidth=3,\n",
    "            label=\"Data\",  color='orange')\n",
    "\n",
    "plt.plot(x, regr.predict(x), 'o', color='blue', linewidth=3,\n",
    "         label=\"Data\", markeredgecolor='k', markeredgewidth=1)\n",
    "\n",
    "plt.xlabel('Height')\n",
    "plt.ylabel('MidParents')\n",
    "plt.title(\"Height/Midparent : inversion des xi et yi\")\n",
    "\n",
    "plt.axis()\n",
    "plt.legend()\n",
    "plt.show()\n",
    "\n",
    "Theta0 = regr.intercept_\n",
    "Theta1 = regr.coef_[0]\n",
    "\n",
    "print('Intercept (Theta 0) = %s' % regr.intercept_)\n",
    "print('Coef (Theta 1) = %s' % regr.coef_[0])"
   ]
  },
  {
   "cell_type": "code",
   "execution_count": 50,
   "metadata": {},
   "outputs": [
    {
     "name": "stdout",
     "output_type": "stream",
     "text": [
      "alpha_0 =  [ 141.11111715]\n",
      "alpha_1 =  [ 0.16184511]\n",
      "Vérifié par le calcul.\n"
     ]
    }
   ],
   "source": [
    "alpha_0 = x.mean() + (y.mean() / x.mean()) * ((pow(x, 2).mean() /\n",
    "                                               pow(x.mean(), 2)) / (pow(y, 2).mean() /\n",
    "                                                                    pow(y.mean(), 2))) * (Theta0 - y.mean())\n",
    "alpha_1 = ((pow(x, 2).mean() / pow(x.mean(), 2)) /\n",
    "           (pow(y, 2).mean() / pow(y.mean(), 2))) * Theta1\n",
    "\n",
    "print('alpha_0 = ', alpha_0)\n",
    "print('alpha_1 = ', alpha_1)\n",
    "print(\"Vérifié par le calcul.\")"
   ]
  },
  {
   "cell_type": "markdown",
   "metadata": {},
   "source": [
    "# Partie II\n",
    "### Q11"
   ]
  },
  {
   "cell_type": "code",
   "execution_count": 51,
   "metadata": {},
   "outputs": [
    {
     "name": "stdout",
     "output_type": "stream",
     "text": [
      "    mpg  cylinders  displacement  horsepower  weight  acceleration  \\\n",
      "0  18.0        8.0         307.0       130.0  3504.0          12.0   \n",
      "1  15.0        8.0         350.0       165.0  3693.0          11.5   \n",
      "2  18.0        8.0         318.0       150.0  3436.0          11.0   \n",
      "3  16.0        8.0         304.0       150.0  3433.0          12.0   \n",
      "4  17.0        8.0         302.0       140.0  3449.0          10.5   \n",
      "5  15.0        8.0         429.0       198.0  4341.0          10.0   \n",
      "6  14.0        8.0         454.0       220.0  4354.0           9.0   \n",
      "7  14.0        8.0         440.0       215.0  4312.0           8.5   \n",
      "8  14.0        8.0         455.0       225.0  4425.0          10.0   \n",
      "9  15.0        8.0         390.0       190.0  3850.0           8.5   \n",
      "\n",
      "   model year  origin                   car name  \n",
      "0        70.0     1.0  chevrolet chevelle malibu  \n",
      "1        70.0     1.0          buick skylark 320  \n",
      "2        70.0     1.0         plymouth satellite  \n",
      "3        70.0     1.0              amc rebel sst  \n",
      "4        70.0     1.0                ford torino  \n",
      "5        70.0     1.0           ford galaxie 500  \n",
      "6        70.0     1.0           chevrolet impala  \n",
      "7        70.0     1.0          plymouth fury iii  \n",
      "8        70.0     1.0           pontiac catalina  \n",
      "9        70.0     1.0         amc ambassador dpl  \n"
     ]
    }
   ],
   "source": [
    "url = 'https://archive.ics.uci.edu/ml/machine-learning-databases/auto-mpg/auto-mpg.data-original'\n",
    "df = pd.read_csv(url, sep=r\"\\s+\", names=[\"mpg\", \"cylinders\", \"displacement\", \"horsepower\", \"weight\",\n",
    "                                         \"acceleration\", \"model year\", \"origin\", \"car name\"])\n",
    "df = df.dropna(axis=0)\n",
    "df.count()\n",
    "df_subset = df[0:10]\n",
    "\n",
    "print(df_subset)\n",
    "\n",
    "y = df_subset['mpg']\n",
    "X = df_subset[[\"cylinders\", \"displacement\", \"horsepower\",\n",
    "               \"weight\", \"acceleration\", \"model year\"]]\n",
    "\n",
    "\n",
    "yp = df['mpg']\n",
    "Xp = df[[\"cylinders\", \"displacement\", \"horsepower\",\n",
    "         \"weight\", \"acceleration\", \"model year\"]]"
   ]
  },
  {
   "cell_type": "markdown",
   "metadata": {},
   "source": [
    "* Sont affichées les 10 lignes du dataset.\n",
    "* NaN est le marqueur utilisé pour les données manquantes quand elles sont importées. Elle sont écrite NA si l'on parcourt à l'oeil nu le dataset."
   ]
  },
  {
   "cell_type": "markdown",
   "metadata": {},
   "source": [
    "### Q12"
   ]
  },
  {
   "cell_type": "code",
   "execution_count": 52,
   "metadata": {},
   "outputs": [
    {
     "name": "stdout",
     "output_type": "stream",
     "text": [
      "cylinders       0.041502\n",
      "displacement    0.037682\n",
      "horsepower     -0.086668\n",
      "weight         -0.002094\n",
      "acceleration   -0.068038\n",
      "model year      0.363145\n",
      "dtype: float64\n",
      "Theta 1 =  [ 0.          0.03768195 -0.08666763 -0.00209436 -0.06803785  0.        ]\n",
      "Theta 0 =  25.75213821\n"
     ]
    }
   ],
   "source": [
    "import statsmodels.api as sm\n",
    "from pandas.core import datetools\n",
    "\n",
    "X = sm.add_constant(X)  # let's add an intercept (beta_0) to our model\n",
    "\n",
    "# Note the difference in argument order\n",
    "model1 = sm.OLS(y, X).fit()\n",
    "print(model1.params)# sm.OLS(output, input)\n",
    "predictions1 = model1.predict(X)\n",
    "\n",
    "# Print out the statistics\n",
    "#model.summary()\n",
    "\n",
    "from sklearn import linear_model\n",
    "\n",
    "lm = linear_model.LinearRegression()\n",
    "model = lm.fit(X, y)\n",
    "\n",
    "#print(y)\n",
    "#print(predictions)\n",
    "lm.score(X, y)\n",
    "print(\"Theta 1 = \", lm.coef_)\n",
    "print(\"Theta 0 = \",lm.intercept_)"
   ]
  },
  {
   "cell_type": "markdown",
   "metadata": {},
   "source": [
    "* Nous constatons que les coefficients de cylinders et year sont les plus grands donc les variables faisant consommer le plus."
   ]
  },
  {
   "cell_type": "markdown",
   "metadata": {},
   "source": [
    "### Q13"
   ]
  },
  {
   "cell_type": "code",
   "execution_count": 53,
   "metadata": {},
   "outputs": [
    {
     "name": "stdout",
     "output_type": "stream",
     "text": [
      "[-0.07209066  0.10294695 -0.00193001 -0.73944399  0.03014184  0.3555674 ]\n",
      "5.30249932075e-16\n",
      "\n",
      "\n",
      "On voit que les deux variables les + significatives sont weight et model year\n"
     ]
    }
   ],
   "source": [
    "from sklearn import preprocessing\n",
    "\n",
    "scaler_x = preprocessing.scale(Xp)\n",
    "scaler_y = preprocessing.scale(yp)\n",
    "Xarray = Xp.values\n",
    "\n",
    "# print(scaler)\n",
    "# print(Xarray)\n",
    "\n",
    "\n",
    "# let's add an intercept (beta_0) to our model\n",
    "scaler = sm.add_constant(scaler_x)\n",
    "\n",
    "# Note the difference in argument order\n",
    "model = sm.OLS(scaler_y, scaler_x).fit()  # sm.OLS(output, input)\n",
    "coef_OLS = model.params\n",
    "predictions = model.predict(scaler_x)\n",
    "\n",
    "# Print out the statistics\n",
    "model.summary()\n",
    "\n",
    "from sklearn import linear_model\n",
    "\n",
    "lm = linear_model.LinearRegression()\n",
    "model = lm.fit(scaler_x, scaler_y)\n",
    "\n",
    "\n",
    "predictions2 = lm.predict(scaler_x)\n",
    "# print(scaler_y.head(20))\n",
    "# print(predictions)\n",
    "lm.score(scaler_x, scaler_y)\n",
    "vect_coef = lm.coef_\n",
    "print(vect_coef)\n",
    "print(lm.intercept_)\n",
    "\n",
    "\n",
    "print('\\n')\n",
    "print('On voit que les deux variables les + significatives sont weight et model year')"
   ]
  },
  {
   "cell_type": "markdown",
   "metadata": {
    "collapsed": true
   },
   "source": [
    "### Q14"
   ]
  },
  {
   "cell_type": "code",
   "execution_count": 54,
   "metadata": {
    "scrolled": true
   },
   "outputs": [
    {
     "name": "stdout",
     "output_type": "stream",
     "text": [
      "Norme r² :  74.7719266969\n",
      "392.0\n",
      "392.0\n",
      "Calcul vérifié\n"
     ]
    }
   ],
   "source": [
    "yp = df['mpg']\n",
    "scaler_y_normalized = preprocessing.scale(yp)\n",
    "\n",
    "resi = (scaler_y - predictions) * (scaler_y - predictions)\n",
    "square_resi = resi.sum()\n",
    "print(\"Norme r² : \", square_resi)\n",
    "\n",
    "n = 392\n",
    "p = 6\n",
    "\n",
    "square_resi_np = (square_resi / (n - p))\n",
    "# print(square_resi_np)\n",
    "\n",
    "# Matrice unitaire\n",
    "unos = np.ones(392,)\n",
    "\n",
    "\n",
    "test = square_resi +  (pow(predictions - (scaler_y_normalized.mean() * unos), 2)).sum()\n",
    "\n",
    "\n",
    "test1 = pow(scaler_y_normalized - (scaler_y_normalized.mean() * unos), 2).sum()\n",
    "\n",
    "print(test)\n",
    "print(test1)\n",
    "print('Calcul vérifié')"
   ]
  },
  {
   "cell_type": "markdown",
   "metadata": {},
   "source": [
    "### Q15"
   ]
  },
  {
   "cell_type": "code",
   "execution_count": 55,
   "metadata": {},
   "outputs": [
    {
     "name": "stdout",
     "output_type": "stream",
     "text": [
      "Prédiction de la consommation pour cette voiture :  [ 21.77622018]\n"
     ]
    }
   ],
   "source": [
    "yp = df['mpg']\n",
    "Xp = df[[\"cylinders\", \"displacement\", \"horsepower\",\n",
    "         \"weight\", \"acceleration\", \"model year\"]]\n",
    "\n",
    "\n",
    "row_new_car = (np.asarray([1, 6, 225, 100, 3233, 15.4, 76]))\n",
    "\n",
    "Xp = sm.add_constant(Xp, has_constant='add')\n",
    "\n",
    "yi = sm.OLS(yp, Xp).fit().predict(row_new_car)\n",
    "print('Prédiction de la consommation pour cette voiture : ' , yi)"
   ]
  },
  {
   "cell_type": "markdown",
   "metadata": {},
   "source": [
    "### Q16"
   ]
  },
  {
   "cell_type": "code",
   "execution_count": 61,
   "metadata": {},
   "outputs": [
    {
     "name": "stdout",
     "output_type": "stream",
     "text": [
      "displacement model year      5.604113\n",
      "model year^2                 3.829164\n",
      "acceleration model year      1.784930\n",
      "cylinders horsepower         1.533248\n",
      "cylinders weight             0.684714\n",
      "displacement weight          0.667699\n",
      "cylinders acceleration       0.625614\n",
      "displacement horsepower      0.433615\n",
      "weight^2                     0.405159\n",
      "acceleration^2               0.255808\n",
      "displacement^2               0.166733\n",
      "weight acceleration          0.108940\n",
      "horsepower acceleration     -0.306189\n",
      "cylinders displacement      -0.378108\n",
      "displacement acceleration   -0.422482\n",
      "horsepower^2                -0.460769\n",
      "horsepower model year       -0.622263\n",
      "horsepower weight           -0.789112\n",
      "cylinders^2                 -1.043594\n",
      "cylinders model year        -2.081999\n",
      "weight model year           -3.222055\n",
      "model year                  -3.448479\n",
      "dtype: float64\n",
      "\n",
      "\n",
      "La variable la plus explicative est donc displacement model year\n"
     ]
    }
   ],
   "source": [
    "from sklearn.preprocessing import PolynomialFeatures\n",
    "\n",
    "yp = df['mpg']\n",
    "Xp = df[[\"cylinders\", \"displacement\", \"horsepower\",\n",
    "         \"weight\", \"acceleration\", \"model year\"]]\n",
    "\n",
    "p = PolynomialFeatures(degree=2, interaction_only=False,\n",
    "                       include_bias=True).fit(Xp)\n",
    "# print(p.get_feature_names(Xp.columns))\n",
    "\n",
    "features = pd.DataFrame(p.transform(\n",
    "    Xp), columns=p.get_feature_names(Xp.columns))\n",
    "\n",
    "scaler_xp = preprocessing.scale(features)\n",
    "scaler_yp = preprocessing.scale(yp)\n",
    "\n",
    "res = sm.OLS(scaler_yp, scaler_xp).fit().params\n",
    "\n",
    "coefs_origin = pd.Series(res[6:], index=features.columns[6:])\n",
    "print(coefs_origin.sort_values(axis=0, ascending=False))\n",
    "\n",
    "\n",
    "print('\\n')\n",
    "print('La variable la plus explicative est donc', coefs_origin.argmax())"
   ]
  },
  {
   "cell_type": "markdown",
   "metadata": {},
   "source": [
    "### Q17"
   ]
  },
  {
   "cell_type": "code",
   "execution_count": 57,
   "metadata": {},
   "outputs": [
    {
     "name": "stdout",
     "output_type": "stream",
     "text": [
      "europe    0.127755\n",
      "japan     0.146831\n",
      "dtype: float64\n",
      "[-0.10702592  0.32148865 -0.08967354 -0.730277    0.02796084  0.36673412\n",
      "  0.12775513  0.14683091]\n",
      "\n",
      "\n",
      "Modèle sans constante.\n",
      "\n",
      "\n",
      "Le japon est l'origine la plus efficace\n"
     ]
    }
   ],
   "source": [
    "df_dum = df[[\"cylinders\", \"displacement\", \"horsepower\",\n",
    "             \"weight\", \"acceleration\", \"model year\", \"origin\"]]\n",
    "yp = df['mpg']\n",
    "\n",
    "df_dum = pd.get_dummies(df_dum, columns=['origin'], drop_first=True)\n",
    "scaler_xp = preprocessing.scale(df_dum)\n",
    "scaler_yp = preprocessing.scale(yp)\n",
    "\n",
    "df_dum.rename(columns={'origin_1.0': 'usa', 'origin_2.0': 'europe', 'origin_3.0': 'japan'}, inplace=True)\n",
    "\n",
    "res = sm.OLS(scaler_yp, scaler_xp).fit().params\n",
    "\n",
    "coefs_origin = pd.Series(res[6:], index=df_dum.columns[6:])\n",
    "print(coefs_origin)\n",
    "\n",
    "print(res)\n",
    "print('\\n')\n",
    "print('Modèle sans constante.')\n",
    "print('\\n')\n",
    "print(\"Le japon est l'origine la plus efficace\")"
   ]
  },
  {
   "cell_type": "markdown",
   "metadata": {},
   "source": [
    "### Q18"
   ]
  },
  {
   "cell_type": "code",
   "execution_count": 58,
   "metadata": {},
   "outputs": [
    {
     "name": "stdout",
     "output_type": "stream",
     "text": [
      "car name_datsun  =  0.353060420365\n",
      "Datsun est la marque la + efficace et c'est en accord avec la question précédante étant d'origine japonaise\n"
     ]
    }
   ],
   "source": [
    "df_ex = df\n",
    "brand = df_ex['car name'].str.split(' ')\n",
    "car_brand = brand.str.get(0)\n",
    "\n",
    "car_brand = car_brand.replace('toyouta', 'toyota').replace('capri', 'ford').replace('vw', 'volkswagen').replace('vokswagen', 'volkswagen').replace(\n",
    "    'mercedes-benz', 'mercedes').replace('chevroelt', 'chevrolet').replace('chevy', 'chevrolet').replace('maxda', 'mazda')\n",
    "\n",
    "df_ex1 = df_ex[[\"cylinders\", \"displacement\", \"horsepower\",\n",
    "                \"weight\", \"acceleration\", \"model year\"]]\n",
    "\n",
    "frames = [df_ex1, car_brand]\n",
    "result = pd.concat(frames, axis=1)\n",
    "\n",
    "df_dum2 = result\n",
    "yp = df['mpg']\n",
    "\n",
    "df_dum2 = pd.get_dummies(df_dum2, columns=['car name'], drop_first=True)\n",
    "\n",
    "scaler_xp = preprocessing.scale(df_dum2)\n",
    "scaler_yp = preprocessing.scale(yp)\n",
    "\n",
    "res = sm.OLS(scaler_yp, scaler_xp).fit().params\n",
    "\n",
    "\n",
    "#val = car_brand.value_counts()\n",
    "\n",
    "coefs_car_brand = pd.Series(res[6:], index=df_dum2.columns[6:])\n",
    "\n",
    "print(coefs_car_brand.argmax(), ' = ', max(res))\n",
    "print(\"Datsun est la marque la + efficace et c'est en accord avec la question précédante étant d'origine japonaise\")"
   ]
  },
  {
   "cell_type": "markdown",
   "metadata": {},
   "source": [
    "### Q19"
   ]
  },
  {
   "cell_type": "code",
   "execution_count": 59,
   "metadata": {},
   "outputs": [
    {
     "name": "stdout",
     "output_type": "stream",
     "text": [
      "H est symétrique : True\n",
      "H = H² is True\n",
      "La matrice H est symétrique et idempotente c'est donc un projeté orthogonal.\n"
     ]
    }
   ],
   "source": [
    "Xp_svd = df[[\"cylinders\", \"displacement\", \"horsepower\",\n",
    "         \"weight\", \"acceleration\", \"model year\"]]\n",
    "scaler_Xp_svd = preprocessing.scale(Xp_svd)\n",
    "\n",
    "\n",
    "U, s, V = np.linalg.svd(Xp, full_matrices=False)\n",
    "assert np.allclose(Xp, np.dot(U, np.dot(np.diag(s), V)))\n",
    "\n",
    "H = np.dot(U, U.T)\n",
    "Hp = np.dot(U.T, U)\n",
    "\n",
    "# Symétrie\n",
    "sym = np.allclose(H, H.T)\n",
    "print(\"H est symétrique :\", sym)\n",
    "\n",
    "# Idempotence\n",
    "idem = np.allclose(H, np.dot(H, H))\n",
    "print(\"H = H² is\", idem)\n",
    "\n",
    "print(\"La matrice H est symétrique et idempotente c'est donc un projeté orthogonal.\")"
   ]
  },
  {
   "cell_type": "markdown",
   "metadata": {},
   "source": [
    "### Q20"
   ]
  },
  {
   "cell_type": "code",
   "execution_count": 60,
   "metadata": {
    "scrolled": true
   },
   "outputs": [
    {
     "data": {
      "text/html": [
       "<div>\n",
       "<style>\n",
       "    .dataframe thead tr:only-child th {\n",
       "        text-align: right;\n",
       "    }\n",
       "\n",
       "    .dataframe thead th {\n",
       "        text-align: left;\n",
       "    }\n",
       "\n",
       "    .dataframe tbody tr th {\n",
       "        vertical-align: top;\n",
       "    }\n",
       "</style>\n",
       "<table border=\"1\" class=\"dataframe\">\n",
       "  <thead>\n",
       "    <tr style=\"text-align: right;\">\n",
       "      <th></th>\n",
       "      <th>mpg</th>\n",
       "      <th>cylinders</th>\n",
       "      <th>displacement</th>\n",
       "      <th>horsepower</th>\n",
       "      <th>weight</th>\n",
       "      <th>acceleration</th>\n",
       "      <th>model year</th>\n",
       "      <th>origin</th>\n",
       "      <th>car name</th>\n",
       "      <th>leviers</th>\n",
       "    </tr>\n",
       "  </thead>\n",
       "  <tbody>\n",
       "    <tr>\n",
       "      <th>0</th>\n",
       "      <td>18.0</td>\n",
       "      <td>8.0</td>\n",
       "      <td>307.0</td>\n",
       "      <td>130.0</td>\n",
       "      <td>3504.0</td>\n",
       "      <td>12.0</td>\n",
       "      <td>70.0</td>\n",
       "      <td>1.0</td>\n",
       "      <td>chevrolet chevelle malibu</td>\n",
       "      <td>0.016664</td>\n",
       "    </tr>\n",
       "    <tr>\n",
       "      <th>1</th>\n",
       "      <td>15.0</td>\n",
       "      <td>8.0</td>\n",
       "      <td>350.0</td>\n",
       "      <td>165.0</td>\n",
       "      <td>3693.0</td>\n",
       "      <td>11.5</td>\n",
       "      <td>70.0</td>\n",
       "      <td>1.0</td>\n",
       "      <td>buick skylark 320</td>\n",
       "      <td>0.016752</td>\n",
       "    </tr>\n",
       "    <tr>\n",
       "      <th>2</th>\n",
       "      <td>18.0</td>\n",
       "      <td>8.0</td>\n",
       "      <td>318.0</td>\n",
       "      <td>150.0</td>\n",
       "      <td>3436.0</td>\n",
       "      <td>11.0</td>\n",
       "      <td>70.0</td>\n",
       "      <td>1.0</td>\n",
       "      <td>plymouth satellite</td>\n",
       "      <td>0.018234</td>\n",
       "    </tr>\n",
       "    <tr>\n",
       "      <th>3</th>\n",
       "      <td>16.0</td>\n",
       "      <td>8.0</td>\n",
       "      <td>304.0</td>\n",
       "      <td>150.0</td>\n",
       "      <td>3433.0</td>\n",
       "      <td>12.0</td>\n",
       "      <td>70.0</td>\n",
       "      <td>1.0</td>\n",
       "      <td>amc rebel sst</td>\n",
       "      <td>0.020028</td>\n",
       "    </tr>\n",
       "    <tr>\n",
       "      <th>4</th>\n",
       "      <td>17.0</td>\n",
       "      <td>8.0</td>\n",
       "      <td>302.0</td>\n",
       "      <td>140.0</td>\n",
       "      <td>3449.0</td>\n",
       "      <td>10.5</td>\n",
       "      <td>70.0</td>\n",
       "      <td>1.0</td>\n",
       "      <td>ford torino</td>\n",
       "      <td>0.019484</td>\n",
       "    </tr>\n",
       "  </tbody>\n",
       "</table>\n",
       "</div>"
      ],
      "text/plain": [
       "    mpg  cylinders  displacement  horsepower  weight  acceleration  \\\n",
       "0  18.0        8.0         307.0       130.0  3504.0          12.0   \n",
       "1  15.0        8.0         350.0       165.0  3693.0          11.5   \n",
       "2  18.0        8.0         318.0       150.0  3436.0          11.0   \n",
       "3  16.0        8.0         304.0       150.0  3433.0          12.0   \n",
       "4  17.0        8.0         302.0       140.0  3449.0          10.5   \n",
       "\n",
       "   model year  origin                   car name   leviers  \n",
       "0        70.0     1.0  chevrolet chevelle malibu  0.016664  \n",
       "1        70.0     1.0          buick skylark 320  0.016752  \n",
       "2        70.0     1.0         plymouth satellite  0.018234  \n",
       "3        70.0     1.0              amc rebel sst  0.020028  \n",
       "4        70.0     1.0                ford torino  0.019484  "
      ]
     },
     "execution_count": 60,
     "metadata": {},
     "output_type": "execute_result"
    }
   ],
   "source": [
    "H_diag = np.diag(H)\n",
    "\n",
    "url = 'https://archive.ics.uci.edu/ml/machine-learning-databases/auto-mpg/auto-mpg.data-original'\n",
    "df = pd.read_csv(url, sep=r\"\\s+\", names=[\"mpg\", \"cylinders\", \"displacement\", \"horsepower\", \"weight\",\n",
    "                                         \"acceleration\", \"model year\", \"origin\", \"car name\"])\n",
    "df = df.dropna(axis=0)\n",
    "\n",
    "df_no_leviers = df\n",
    "\n",
    "other = pd.DataFrame(H_diag)\n",
    "\n",
    "df_final = df_no_leviers.join(other, lsuffix='leviers', rsuffix='dframe')\n",
    "df_final = df_final.dropna(axis=0)\n",
    "df_final.columns = [\"mpg\", \"cylinders\", \"displacement\", \"horsepower\", \"weight\",\n",
    "                    \"acceleration\", \"model year\", \"origin\", \"car name\", \"leviers\"]\n",
    "df_final.sort_values(by=\"leviers\", ascending=False)\n",
    "df_final.head()"
   ]
  }
 ],
 "metadata": {
  "kernelspec": {
   "display_name": "Python 3",
   "language": "python",
   "name": "python3"
  },
  "language_info": {
   "codemirror_mode": {
    "name": "ipython",
    "version": 3
   },
   "file_extension": ".py",
   "mimetype": "text/x-python",
   "name": "python",
   "nbconvert_exporter": "python",
   "pygments_lexer": "ipython3",
   "version": "3.6.1"
  }
 },
 "nbformat": 4,
 "nbformat_minor": 2
}
