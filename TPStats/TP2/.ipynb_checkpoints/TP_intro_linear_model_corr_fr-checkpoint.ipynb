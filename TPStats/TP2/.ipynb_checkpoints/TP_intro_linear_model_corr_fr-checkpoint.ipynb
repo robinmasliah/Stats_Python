{
 "cells": [
  {
   "cell_type": "markdown",
   "metadata": {},
   "source": [
    "# Correction (Joseph Salmon)"
   ]
  },
  {
   "cell_type": "code",
   "execution_count": 1,
   "metadata": {
    "collapsed": true
   },
   "outputs": [],
   "source": [
    "import numpy as np\n",
    "import pandas as pd\n",
    "import matplotlib.pyplot as plt\n",
    "from matplotlib import rc\n",
    "import seaborn as sns\n",
    "from sklearn import linear_model\n",
    "from sklearn.preprocessing import StandardScaler\n",
    "from statsmodels.nonparametric.kde import KDEUnivariate\n",
    "from scipy.stats import gaussian_kde\n",
    "\n",
    "from sklearn import linear_model\n",
    "from sklearn.preprocessing import StandardScaler, PolynomialFeatures\n",
    "from numpy.linalg import svd\n",
    "\n",
    "from IPython.display import HTML\n",
    "from IPython.display import display\n",
    "\n",
    "%matplotlib inline\n",
    "# REM: LaTeX needs to be install on the machine for some\n",
    "#      display to be fined"
   ]
  },
  {
   "cell_type": "markdown",
   "metadata": {},
   "source": [
    "# Plot initialization"
   ]
  },
  {
   "cell_type": "code",
   "execution_count": 2,
   "metadata": {},
   "outputs": [],
   "source": [
    "rc('font', **{'family': 'sans-serif', 'sans-serif': ['Computer Modern Roman']})\n",
    "params = {'axes.labelsize': 12,\n",
    "          'font.size': 12,\n",
    "          'legend.fontsize': 12,\n",
    "          'xtick.labelsize': 10,\n",
    "          'ytick.labelsize': 10,\n",
    "          'text.usetex': True,\n",
    "          'figure.figsize': (8, 6)}\n",
    "plt.rcParams.update(params)\n",
    "plt.close(\"all\")\n",
    "\n",
    "sns.set_palette(\"colorblind\")\n",
    "sns.axes_style()\n",
    "sns.set_style({'legend.frameon': True})\n",
    "color_blind_list = sns.color_palette(\"colorblind\", 8)\n",
    "my_orange = color_blind_list[2]\n",
    "my_green = color_blind_list[1]\n",
    "my_blue = color_blind_list[0]\n",
    "my_purple = color_blind_list[3]"
   ]
  },
  {
   "cell_type": "code",
   "execution_count": 3,
   "metadata": {
    "collapsed": true
   },
   "outputs": [],
   "source": [
    "plt.close(\"all\")"
   ]
  },
  {
   "cell_type": "markdown",
   "metadata": {},
   "source": [
    "# EXERCISE 1\n",
    "\n",
    "Le terme **régression** a été introduit par Sir Francis Galton (cousin de C. Darwin) alors qu'il étudiait la taille des individus au sein d'une descendance.\n",
    "Il tentait de comprendre pourquoi les grands individus d'une population semblaient avoir des enfants d'une taille plus petite, plus proche de la taille moyenne de la population; d'où l'introduction du terme \"régression\".\n",
    "\n",
    "Dans la suite on va s’intéresser aux données récoltées par Galton."
   ]
  },
  {
   "cell_type": "markdown",
   "metadata": {},
   "source": [
    "# Q1: Loading, cm and rounding\n",
    "Récupérer les données du fichier http://josephsalmon.eu/enseignement/TELECOM/MDI720/datasets/Galton.txt et les charger avec **Pandas**. On utilisera *read_csv* pour cela et on transformera les tailles en cm (pour cela on pourra consulter la description des données proposées en http://www.math.uah.edu/stat/data/Galton.html, en arrondissant sans chiffre après la virgule."
   ]
  },
  {
   "cell_type": "code",
   "execution_count": 4,
   "metadata": {},
   "outputs": [],
   "source": [
    "# Load data\n",
    "url = 'http://josephsalmon.eu/enseignement/TELECOM/MDI720/datasets/Galton.txt'\n",
    "df = pd.read_csv(url, sep='\\t')\n",
    "\n",
    "# Convert inches to cm\n",
    "df[['Father', 'Mother', 'Height']] = 2.54 * df[['Father', 'Mother', 'Height']]\n",
    "pd.set_option('precision', 0)\n",
    "\n",
    "# Alternative:\n",
    "# df.round({'Father': 0, 'Mother': 0, 'Height': 0})\n",
    "\n",
    "# BEWARE: the display option does not necessarily affect the underlying float\n",
    "# values so, depending on the choice performed, there might be a (tiny)\n",
    "# difference in the estimators obtained latter on..."
   ]
  },
  {
   "cell_type": "markdown",
   "metadata": {},
   "source": [
    "# Q2: Any Na in the dataframe?\n",
    "\n",
    "Combien de données manquantes y-t-il dans cette base de données ? Enlever si besoin les\n",
    "lignes ayant des données manquantes."
   ]
  },
  {
   "cell_type": "code",
   "execution_count": 5,
   "metadata": {},
   "outputs": [
    {
     "name": "stdout",
     "output_type": "stream",
     "text": [
      "There are 0 total missing values\n"
     ]
    }
   ],
   "source": [
    "null_data = df[df.isnull().any(axis=1)]\n",
    "print(\"There are \" + str(df.isnull().sum().sum()) +\n",
    "      ' total missing values')"
   ]
  },
  {
   "cell_type": "markdown",
   "metadata": {},
   "source": [
    "__Conclusion__ : pas de données manquantes dans cette table."
   ]
  },
  {
   "cell_type": "markdown",
   "metadata": {},
   "source": [
    "# Q3: Plot height density for Mothers and Fathers\n",
    "Afficher sur un même graphe un estimateur de la densité de la population des pères en bleu, et de celles des mères en orange."
   ]
  },
  {
   "cell_type": "code",
   "execution_count": 6,
   "metadata": {},
   "outputs": [
    {
     "data": {
      "image/png": "[encoded data removed]",
      "text/plain": [
       "<matplotlib.figure.Figure at 0x7f8a7ddd4828>"
      ]
     },
     "metadata": {},
     "output_type": "display_data"
    }
   ],
   "source": [
    "plt.figure()\n",
    "kde_father = KDEUnivariate(df['Father'])\n",
    "kde_father.fit(bw=2, kernel='gau')\n",
    "x_grid = np.linspace(140, 210)\n",
    "pdf_est_father = kde_father.evaluate(x_grid)\n",
    "\n",
    "kde_mother = KDEUnivariate(df['Mother'])\n",
    "kde_mother.fit(bw=2, kernel='gau')\n",
    "x_grid = np.linspace(140, 210)\n",
    "pdf_est_mother = kde_mother.evaluate(x_grid)\n",
    "\n",
    "plt.plot(x_grid, pdf_est_father, color=my_blue, label='Father')\n",
    "plt.fill_between(x_grid, 0, pdf_est_father, facecolor=my_blue, alpha=0.5)\n",
    "\n",
    "plt.plot(x_grid, pdf_est_mother, color=my_orange, label='Mother')\n",
    "plt.fill_between(x_grid, 0, pdf_est_mother, facecolor=my_orange, alpha=0.5)\n",
    "\n",
    "plt.ylabel('Density', fontsize=18)\n",
    "plt.xlabel('Height (in cm.)', fontsize=18)\n",
    "plt.legend()\n",
    "plt.show()"
   ]
  },
  {
   "cell_type": "code",
   "execution_count": 7,
   "metadata": {},
   "outputs": [
    {
     "data": {
      "image/png": "[encoded data removed]",
      "text/plain": [
       "<matplotlib.figure.Figure at 0x7f8a7a17c860>"
      ]
     },
     "metadata": {},
     "output_type": "display_data"
    }
   ],
   "source": [
    "# Another possibility when the data has unique observations,\n",
    "# with gaussian_kde from scipy.stats\n",
    "\n",
    "father_unique = df['Father'].groupby(df['Family']).first()\n",
    "mother_unique = df['Mother'].groupby(df['Family']).first()\n",
    "\n",
    "plt.figure()\n",
    "kde_father = gaussian_kde(father_unique)\n",
    "x_grid = np.linspace(140, 210)\n",
    "pdf_est_father = kde_father(x_grid)\n",
    "\n",
    "kde_mother = gaussian_kde(mother_unique)\n",
    "x_grid = np.linspace(140, 210)\n",
    "pdf_est_mother = kde_mother(x_grid)\n",
    "\n",
    "plt.plot(x_grid, pdf_est_father, color=my_blue, label='Father')\n",
    "plt.fill_between(x_grid, 0, pdf_est_father, facecolor=my_blue, alpha=0.5)\n",
    "\n",
    "plt.plot(x_grid, pdf_est_mother, color=my_purple, label='Mother')\n",
    "plt.fill_between(x_grid, 0, pdf_est_mother, facecolor=my_orange, alpha=0.5)\n",
    "\n",
    "plt.ylabel('Density', fontsize=18)\n",
    "plt.xlabel('Height (in cm.)', fontsize=18)\n",
    "plt.legend()\n",
    "plt.show()"
   ]
  },
  {
   "cell_type": "markdown",
   "metadata": {},
   "source": [
    "# Q4: Plot Father height as a function of Mother height, with OLS prediction\n",
    "Afficher la taille du père en fonction de la taille de la mère pour les $n$ observations figurant dans les données. Ajouter la droite de prédiction obtenue par la méthode des moindres carrés (avec constante et sans centrage/normalisation)."
   ]
  },
  {
   "cell_type": "code",
   "execution_count": 8,
   "metadata": {},
   "outputs": [
    {
     "data": {
      "image/png": "[encoded data removed]",
      "text/plain": [
       "<matplotlib.figure.Figure at 0x7f8a7a251160>"
      ]
     },
     "metadata": {},
     "output_type": "display_data"
    },
    {
     "name": "stdout",
     "output_type": "stream",
     "text": [
      "0.00542647493462\n"
     ]
    }
   ],
   "source": [
    "plt.figure()\n",
    "y = df['Father']\n",
    "X = df[['Mother']]\n",
    "plt.plot(X, y, 'o')\n",
    "plt.ylabel('Father height', fontsize=18)\n",
    "plt.ylim([140, 200])\n",
    "plt.xlim([140, 200])\n",
    "plt.xlabel('Mother height', fontsize=18)\n",
    "skl_lm = linear_model.LinearRegression(fit_intercept=True)\n",
    "skl_lm.fit(X, y)\n",
    "plt.plot(x_grid, skl_lm.predict(x_grid.reshape(x_grid.shape[0], 1)), '-')\n",
    "plt.show()\n",
    "print(skl_lm.score(X, y))  # it is pretty small..."
   ]
  },
  {
   "cell_type": "markdown",
   "metadata": {},
   "source": [
    "# Q5: Distribution of the number of children by family \n",
    "Afficher un histogramme du nombre d'enfants par famille."
   ]
  },
  {
   "cell_type": "code",
   "execution_count": 9,
   "metadata": {},
   "outputs": [
    {
     "data": {
      "image/png": "[encoded data removed]",
      "text/plain": [
       "<matplotlib.figure.Figure at 0x7f8a7a2062e8>"
      ]
     },
     "metadata": {},
     "output_type": "display_data"
    }
   ],
   "source": [
    "groupby_family = df['Family'].groupby(df['Family']).count()\n",
    "plt.figure()\n",
    "plt.hist(groupby_family, normed=True)\n",
    "plt.xlabel('Number of children', fontsize=18)\n",
    "plt.ylabel('Density', fontsize=18)\n",
    "plt.show()"
   ]
  },
  {
   "cell_type": "markdown",
   "metadata": {},
   "source": [
    "# Q6: MidParents creation\n",
    "Créer une colonne supplémentaire appelée *'MidParents'* qui contient la taille du sorte de \"parent moyen\", et valant ('Father'+ 1.08 * 'Mother') / 2."
   ]
  },
  {
   "cell_type": "code",
   "execution_count": 10,
   "metadata": {
    "collapsed": true
   },
   "outputs": [],
   "source": [
    "df['MidParents'] = 0.5 * (df['Father'] + 1.08 * df['Mother'])"
   ]
  },
  {
   "cell_type": "markdown",
   "metadata": {},
   "source": [
    "REM: The factor 1.08 gives a rescaled women's height variable which has the same average as the men's height. Indeed, the ratio of the average men's height over the average women's height is "
   ]
  },
  {
   "cell_type": "code",
   "execution_count": 11,
   "metadata": {},
   "outputs": [],
   "source": [
    "Ratio = np.mean(df['Father']) / np.mean(df['Mother'])"
   ]
  },
  {
   "cell_type": "code",
   "execution_count": 12,
   "metadata": {},
   "outputs": [
    {
     "name": "stdout",
     "output_type": "stream",
     "text": [
      "1.0803384317037383\n"
     ]
    }
   ],
   "source": [
    "print(Ratio)"
   ]
  },
  {
   "cell_type": "markdown",
   "metadata": {},
   "source": [
    "Pour la $i^{ieme}$ observation, on note $x_i$ la taille du parent moyen et $y_i$ la taille de l'enfant. On se base sur le modèle linéaire suivant: $y_i = \\theta_0 + \\theta_1 x_i + \\varepsilon_i$ et on suppose que les variables $\\varepsilon_i$ sont centrées, indépendantes et de même variance $\\sigma^2$ inconnue."
   ]
  },
  {
   "cell_type": "markdown",
   "metadata": {},
   "source": [
    "# Q7: Regression MidParents vs kids\n",
    "Estimer $\\theta_0$, $\\theta_1$, par $\\hat{\\theta}_0$, $\\hat{\\theta}_1$ en utilisant la fonction **LinearRegression** de **sklearn**, puis vérifier numériquement (on pourra utiliser par exemple **np.isclose**)\n",
    "les formules vues en cours pour le cas unidimensionnel:\n",
    "\n",
    "$$\n",
    "\\hat\\theta_0= \\overline{y}_n -\\hat{\\theta}_1 \\overline{x}_n,\\qquad  \\hat\\theta_1=  \\displaystyle\\frac{ \\sum_{i=1}^n (x_i-\\overline{x}_n)(y_i -\\overline{y}_n)}{\\sum_{i=1}^n (x_i-\\overline{x}_n)^2} .\n",
    "$$"
   ]
  },
  {
   "cell_type": "markdown",
   "metadata": {},
   "source": [
    "On fera attention aux normalisations utilisées pour la variance qui peuvent changer selon les packages."
   ]
  },
  {
   "cell_type": "code",
   "execution_count": 13,
   "metadata": {},
   "outputs": [
    {
     "name": "stdout",
     "output_type": "stream",
     "text": [
      "0.641190379591\n",
      "0.641190379591\n",
      "Are the two computations of theta1 the same? This is True\n",
      "Are the two computations of theta0 the same? This is True\n"
     ]
    }
   ],
   "source": [
    "X0 = df[['MidParents']]\n",
    "y = df['Height']\n",
    "skl_lm = linear_model.LinearRegression()\n",
    "skl_lm.fit(X0, y)\n",
    "theta0 = skl_lm.intercept_\n",
    "theta1 = skl_lm.coef_[0]\n",
    "y_mean = y.mean()\n",
    "X0_mean = (X0.mean(axis=0)).squeeze()\n",
    "X0_var = X0.var(ddof=0).squeeze()\n",
    "y_var = y.var(ddof=0)\n",
    "theta1_manual = ((X0.squeeze() - X0_mean) * (y - y_mean)).mean() / X0_var\n",
    "theta0_manual = y_mean - theta1_manual * X0_mean\n",
    "print(theta1)\n",
    "print(theta1_manual)\n",
    "\n",
    "print('Are the two computations of theta1' +\n",
    "      ' the same? This is {}'.format(np.isclose(theta1, theta1_manual)))\n",
    "\n",
    "print('Are the two computations of theta0' +\n",
    "      ' the same? This is {}'.format(np.isclose(theta0, theta0_manual)))"
   ]
  },
  {
   "cell_type": "markdown",
   "metadata": {},
   "source": [
    "# Q8: Compute and display predictions with different colors by gender\n",
    "Calculer et visualiser les valeurs prédites $\\hat y_i = \\hat\\theta_0 + \\hat\\theta_1 x_i $ et les $y_i$ sur un même graphique. On affichera de deux couleurs différentes les garçons et les filles."
   ]
  },
  {
   "cell_type": "code",
   "execution_count": 14,
   "metadata": {},
   "outputs": [
    {
     "data": {
      "image/png": "[encoded data removed]",
      "text/plain": [
       "<matplotlib.figure.Figure at 0x7f8a793d70b8>"
      ]
     },
     "metadata": {},
     "output_type": "display_data"
    }
   ],
   "source": [
    "male = df['Gender'] == 'M'\n",
    "female = df['Gender'] == 'F'\n",
    "fig = plt.figure()\n",
    "plt.plot(df['MidParents'][male], y[male], 'o', c=my_blue)\n",
    "plt.plot(df['MidParents'][female], y[female], 'o', c=my_orange)\n",
    "plt.plot(X0, skl_lm.predict(X0), label='Linear prediction', c='k')\n",
    "plt.xlabel('MidParents', fontsize=18)\n",
    "plt.ylabel('Kids height', fontsize=18)\n",
    "plt.show()"
   ]
  },
  {
   "cell_type": "markdown",
   "metadata": {},
   "source": [
    "# Q9: Residual density estimation\n",
    "\n",
    "Visualiser un estimateur de la densité des résidus $r_i = y_i -\\hat y_i$. L’hypothèse de normalité est-elle crédible selon vous? On ajoutera ensuite un estimateur par genre de la densité des résidus (en mettant un facteur proportionnel au nombre de personnes de chaque genre)."
   ]
  },
  {
   "cell_type": "code",
   "execution_count": 15,
   "metadata": {},
   "outputs": [
    {
     "data": {
      "image/png": "[encoded data removed]",
      "text/plain": [
       "<matplotlib.figure.Figure at 0x7f8a792a69e8>"
      ]
     },
     "metadata": {},
     "output_type": "display_data"
    }
   ],
   "source": [
    "nb_f = float(female.sum())\n",
    "nb_m = float(male.sum())\n",
    "alpha_f = nb_f / (nb_f + nb_m)\n",
    "alpha_m = nb_m / (nb_f + nb_m)\n",
    "\n",
    "plt.figure()\n",
    "residual = y - skl_lm.predict(X0)\n",
    "x_grid = np.linspace(-40, 30, num=300)\n",
    "plt.title('Residual Histogram/ KDE')\n",
    "plt.xlabel('Residual value')\n",
    "plt.ylabel('Frequency')\n",
    "\n",
    "kde_residual = KDEUnivariate(residual)\n",
    "kde_residual.fit(bw=2, kernel='gau')\n",
    "pdf_est_residual = kde_residual.evaluate(x_grid)\n",
    "plt.plot(x_grid, pdf_est_residual, color='k', label='All')\n",
    "\n",
    "kde_residual_m = KDEUnivariate(residual[male])\n",
    "kde_residual_m.fit(bw=2, kernel='gau')\n",
    "pdf_est_residual_m = kde_residual_m.evaluate(x_grid)\n",
    "plt.plot(x_grid, alpha_m * pdf_est_residual_m, color=my_blue, label='Male')\n",
    "\n",
    "kde_residual_f = KDEUnivariate(residual[female])\n",
    "kde_residual_f.fit(bw=2, kernel='gau')\n",
    "pdf_est_residual_f = kde_residual_f.evaluate(x_grid)\n",
    "plt.plot(x_grid, alpha_f * pdf_est_residual_f, color=my_orange, label='Female')\n",
    "plt.legend()\n",
    "plt.show()"
   ]
  },
  {
   "cell_type": "markdown",
   "metadata": {},
   "source": [
    "L’hypothèse de normalité globale des résidus n'est pas crédible (distribution bimodale). Cependant elle semble plus raisonnable si l'on fait l'étude séparement par genre."
   ]
  },
  {
   "cell_type": "markdown",
   "metadata": {},
   "source": [
    "# Q10 : Inverting the model\n",
    "Régresser cette fois les $x_i$ sur les $y_i$ (et non plus les $y_i$ sur les $x_i$). Comparer les coefficients $\\hat{\\alpha}_0$ et $\\hat{\\alpha}_1$  obtenus par rapport aux $\\hat{\\theta}_0$ et $\\hat{\\theta}_1$ du modèle original. Vérifier numériquement que:\n",
    "$$\n",
    "\\begin{cases}\n",
    "\\hat{\\alpha}_0=&\\bar{x}_n+\\displaystyle\\frac{\\bar{y}_n}{\\bar{x}_n}\\frac{var_n(x)}{var_n(y)}\n",
    "(\\hat{\\theta}_0-\\bar{y}_n), \\\\\n",
    "\\hat{\\alpha}_1=&\\frac{var_n(x)}{var_n(y)} \\hat{\\theta}_1 .\n",
    "\\end{cases}\n",
    "$$"
   ]
  },
  {
   "cell_type": "code",
   "execution_count": 16,
   "metadata": {},
   "outputs": [
    {
     "name": "stdout",
     "output_type": "stream",
     "text": [
      "0.165038310213\n",
      "0.165038310213\n",
      "Are the two computations of alpha1 the same? This is True\n",
      "Are the two computations of alpha0 the same? This is True\n"
     ]
    }
   ],
   "source": [
    "skl_lm = linear_model.LinearRegression()\n",
    "skl_lm.fit(df[['Height']], df['MidParents'])\n",
    "alpha0 = skl_lm.intercept_\n",
    "alpha1 = skl_lm.coef_[0]\n",
    "alpha0_manual = X0_mean + y_mean / X0_mean * X0_var / y_var * (theta0 - y_mean)\n",
    "alpha1_manual = X0_var / y_var * theta1_manual\n",
    "print(alpha1)\n",
    "print(alpha1_manual)\n",
    "\n",
    "print('Are the two computations of alpha1' +\n",
    "      ' the same? This is {}'.format(np.isclose(alpha1, alpha1_manual)))\n",
    "\n",
    "print('Are the two computations of alpha0' +\n",
    "      ' the same? This is {}'.format(np.isclose(alpha0, alpha0_manual)))\n"
   ]
  },
  {
   "cell_type": "markdown",
   "metadata": {},
   "source": [
    "# EXERCISE 2\n",
    "\n",
    "\n",
    "\n",
    "On travaille dans cette partie sur le fichier **auto-mpg.data**.\n",
    "On cherche à régresser linéairement la consommation des voitures sur leurs caractéristiques: nombre de cylindres, cylindrées (*engine displacement* en anglais), puissance, poids, accélération, année, pays d'origine et le nom de la voiture.\n",
    "\n",
    "Le vecteur contenant la consommation des voitures (plus précisément la distance parcourue, en miles, pour un gallon, ou mpg) est noté $y$; les colonnes de $X$ sont les régresseurs quantitatifs, donc pour le moment on laisse de côté les variables *origin* et *car name*.\n",
    "\n"
   ]
  },
  {
   "cell_type": "markdown",
   "metadata": {},
   "source": [
    "# Q1: auto-mpg.data-original loading"
   ]
  },
  {
   "cell_type": "markdown",
   "metadata": {},
   "source": [
    "Importer avec **Pandas** la base de données disponible ici https://archive.ics.uci.edu/ml/machine-learning-databases/auto-mpg/auto-mpg.data-original.\n",
    "\n",
    "On ajoutera le nom des colonnes en consultant l'adresse:\n",
    "https://archive.ics.uci.edu/ml/machine-learning-databases/auto-mpg/auto-mpg.names avec l'attribut **'name'** de **read_csv**. On pourra regarder l’intérêt de l'option **sep=r\"\\s\\+\"** si besoin.\n",
    "\n",
    "Y a-t-il un marqueur utilisé pour les données manquantes dans le fichier utilisé? Si besoin, enlever les lignes possédant des valeurs manquantes dans la base de données."
   ]
  },
  {
   "cell_type": "code",
   "execution_count": 17,
   "metadata": {},
   "outputs": [
    {
     "name": "stdout",
     "output_type": "stream",
     "text": [
      "(406, 9)\n",
      "(392, 9)\n",
      "   mpg  cylinders  displacement  horsepower  weight  acceleration  model_year  \\\n",
      "0   18          8           307         130   3,504            12          70   \n",
      "1   15          8           350         165   3,693            12          70   \n",
      "2   18          8           318         150   3,436            11          70   \n",
      "3   16          8           304         150   3,433            12          70   \n",
      "4   17          8           302         140   3,449            10          70   \n",
      "\n",
      "   origin                   car_name  \n",
      "0       1  chevrolet chevelle malibu  \n",
      "1       1          buick skylark 320  \n",
      "2       1         plymouth satellite  \n",
      "3       1              amc rebel sst  \n",
      "4       1                ford torino  \n"
     ]
    }
   ],
   "source": [
    "# Load data\n",
    "url = 'https://archive.ics.uci.edu/ml/machine-learning-databases/auto-mpg/' +\\\n",
    "      'auto-mpg.data-original'\n",
    "\n",
    "u_cols = ['mpg', 'cylinders', 'displacement', 'horsepower',\n",
    "          'weight', 'acceleration', 'model_year', 'origin', 'car_name']\n",
    "\n",
    "# To get correct format display\n",
    "pd.options.display.float_format = '{:,.0f}'.format\n",
    "\n",
    "# for this dataset na_values are marked as NA.\n",
    "data = pd.read_csv(url, sep=r\"\\s+\", names=u_cols, na_values='NA')\n",
    "print(data.shape)\n",
    "\n",
    "data = data.dropna(axis=0, how='any')\n",
    "print(data.shape)\n",
    "print(data.head())"
   ]
  },
  {
   "cell_type": "markdown",
   "metadata": {},
   "source": [
    "Il y a donc 14 valeurs manquantes marquées par des NA."
   ]
  },
  {
   "cell_type": "markdown",
   "metadata": {},
   "source": [
    "# Q12: OLS over a subset of the dataset\n",
    "\n",
    "Calculer l'estimateur des moindres carrés (avec ordonnée à l'origine) $\\hat\\theta$ et sa prédiction $\\hat{y}$ sur une sous partie de la base obtenue en gardant les $9$ premières lignes. Que constatez-vous pour les variables **cylinders** et **model year**?"
   ]
  },
  {
   "cell_type": "code",
   "execution_count": 18,
   "metadata": {},
   "outputs": [
    {
     "name": "stdout",
     "output_type": "stream",
     "text": [
      "Index(['cylinders', 'displacement', 'horsepower', 'weight', 'acceleration',\n",
      "       'model_year'],\n",
      "      dtype='object')\n",
      "[ 0.          0.05408848 -0.0945306  -0.00424074 -0.19936701  0.        ]\n",
      "30.7716953656\n"
     ]
    }
   ],
   "source": [
    "y = data['mpg']\n",
    "# data.drop(['mpg'], axis=1)\n",
    "X_partial = data.drop(['origin', 'car_name', 'mpg'], axis=1)\n",
    "\n",
    "# Fit regression model (with sklearn) degenerate case\n",
    "skl_linmod = linear_model.LinearRegression()\n",
    "skl_linmod.fit(X_partial[:9], y[:9])\n",
    "\n",
    "print(X_partial.columns)\n",
    "print(skl_linmod.coef_)\n",
    "print(skl_linmod.intercept_)"
   ]
  },
  {
   "cell_type": "markdown",
   "metadata": {},
   "source": [
    "Les coefficients des variables **cylinders** et **model year** sont nuls. Ceci est étrange, et vient du fait que le modèle est mal specifié. En effet, pour cette sous-partie de la base les colonnes de ces deux variables sont constantes et sont donc redondantes avec la colonnes constantes."
   ]
  },
  {
   "cell_type": "markdown",
   "metadata": {},
   "source": [
    "# Q13: OLS over a full dataset after rescaling/centering\n",
    "\n",
    "Calculer $\\hat\\theta$ et $\\hat y$ cette fois sur l'intégralité des données, après les avoir centrées et réduites. Quelles sont les deux variables qui expliquent le plus la consommation d'un véhicule selon vous?"
   ]
  },
  {
   "cell_type": "code",
   "execution_count": 19,
   "metadata": {},
   "outputs": [
    {
     "name": "stdout",
     "output_type": "stream",
     "text": [
      "Index(['cylinders', 'displacement', 'horsepower', 'weight', 'acceleration',\n",
      "       'model_year'],\n",
      "      dtype='object')\n",
      "[-0.56194996  0.80247616 -0.0150445  -5.76399971  0.23495704  2.77166415]\n",
      "Index(['model_year', 'weight'], dtype='object')\n"
     ]
    }
   ],
   "source": [
    "# Fit regression model (with sklearn)\n",
    "skl_linmod = linear_model.LinearRegression()\n",
    "scaler = StandardScaler().fit(X_partial)\n",
    "X = scaler.transform(X_partial)\n",
    "skl_linmod.fit(X, y)\n",
    "\n",
    "print(X_partial.columns)\n",
    "print(skl_linmod.coef_)\n",
    "# print(skl_linmod.intercept_)\n",
    "ranked_variables = np.argsort(np.abs(skl_linmod.coef_))\n",
    "print(X_partial.columns[ranked_variables[-2:]])"
   ]
  },
  {
   "cell_type": "markdown",
   "metadata": {},
   "source": [
    "Les deux variables qui semblent les plus explicative de la consomation (d'après l'amplitudes de leurs coefficients de régression) sont l'ancienneté (**model year**) et le poids (**weight**) de la voiture."
   ]
  },
  {
   "cell_type": "markdown",
   "metadata": {},
   "source": [
    "# Q14: Residual\n",
    "\n",
    "Calculer $\\|r\\|^2$ (le carré de la norme du vecteur des résidus),\n",
    " puis $\\|r\\|^2/(n-p)$. Vérifier numériquement que:\n",
    " \n",
    "\\begin{equation*}\n",
    " \\| y - \\bar{y}_n\\mathbf{1}_n\\|^2=\\|r\\|^2 +\\| \\hat{y} - \\bar{y}_n \\mathbf{1}_n\\|^2.\n",
    "\\end{equation*}\n"
   ]
  },
  {
   "cell_type": "code",
   "execution_count": 20,
   "metadata": {},
   "outputs": [
    {
     "name": "stdout",
     "output_type": "stream",
     "text": [
      "True\n",
      "23818.9934694\n"
     ]
    }
   ],
   "source": [
    "residual = skl_linmod.predict(X) - y\n",
    "term_1 = np.linalg.norm(y - np.mean(y)) ** 2\n",
    "term_2 = np.linalg.norm(residual) ** 2\n",
    "term_3 = np.linalg.norm(skl_linmod.predict(X) - np.mean(y)) ** 2\n",
    "print(np.isclose(term_1, term_2 + term_3))\n",
    "print(term_1)"
   ]
  },
  {
   "cell_type": "markdown",
   "metadata": {},
   "source": [
    "# Q15: New observation\n",
    "\n",
    "Supposons que l'on vous fournisse les caractéristiques suivantes d'un nouveau véhicule :\n",
    "\n",
    "| cylinders  | displacement| horsepower | weight  | acceleration  |year|\n",
    "|---|---|---|---|---|---|\n",
    "| 6  | 225 | 100  | 3233  |15.4| 76\n",
    "\n",
    "Prédire sa consommation (pour information, la consommation effectivement mesurée sur cet exemple était de 22 mpg)."
   ]
  },
  {
   "cell_type": "code",
   "execution_count": 21,
   "metadata": {},
   "outputs": [
    {
     "name": "stdout",
     "output_type": "stream",
     "text": [
      "[ 21.77622018]\n"
     ]
    }
   ],
   "source": [
    "X_new = np.array([[6, 225, 100, 3233, 15.4, 76]])\n",
    "print(skl_linmod.predict(scaler.transform(X_new)))"
   ]
  },
  {
   "cell_type": "markdown",
   "metadata": {},
   "source": [
    "Cela donne 21.77622018, ce qui est proche de la vraie valeur 22 donnée pour information."
   ]
  },
  {
   "cell_type": "markdown",
   "metadata": {},
   "source": [
    "# Q16: Polynomial features.\n",
    "\n",
    "Utiliser la transformation **PolynomialFeatures** de **sklearn** sur les données brutes, pour ajuster un modèle d'ordre deux (avec les termes d'interactions: **interaction_only=False**). On normalisera et recentrera après avoir créé les nouvelles variables explicatives. Quelle est alors la variable la plus explicative de la consomation?"
   ]
  },
  {
   "cell_type": "code",
   "execution_count": 22,
   "metadata": {},
   "outputs": [
    {
     "name": "stdout",
     "output_type": "stream",
     "text": [
      "['cylinders', 'displacement', 'horsepower', 'weight', 'acceleration', 'model_year', 'cylinders^2', 'cylinders displacement', 'cylinders horsepower', 'cylinders weight', 'cylinders acceleration', 'cylinders model_year', 'displacement^2', 'displacement horsepower', 'displacement weight', 'displacement acceleration', 'displacement model_year', 'horsepower^2', 'horsepower weight', 'horsepower acceleration', 'horsepower model_year', 'weight^2', 'weight acceleration', 'weight model_year', 'acceleration^2', 'acceleration model_year', 'model_year^2']\n",
      "[ 13.34357536 -48.43391341   5.15417707  17.47091667 -16.05072528\n",
      " -26.88104821  -8.13486673  -2.94736774  11.95174218   5.33737455\n",
      "   4.87668634 -16.22928128   1.29969118   3.38005168   5.2047413\n",
      "  -3.29326443  43.68431432  -3.59171565  -6.15116573  -2.38675585\n",
      "  -4.85057027   3.15822997   0.84918913 -25.11606269   1.99403567\n",
      "  13.91361302  29.84851135]\n",
      "23.4459183673\n"
     ]
    }
   ],
   "source": [
    "poly = PolynomialFeatures(2, interaction_only=False, include_bias=False)\n",
    "poly.fit(X_partial)\n",
    "XX = poly.transform(X_partial) \n",
    "all_names = poly.get_feature_names(X_partial.columns)\n",
    "\n",
    "scalerXX = StandardScaler().fit(XX)\n",
    "XX = scalerXX.transform(XX)\n",
    "skl_linmod.fit(XX, y)\n",
    "print(all_names)\n",
    "print(skl_linmod.coef_)\n",
    "print(skl_linmod.intercept_)"
   ]
  },
  {
   "cell_type": "code",
   "execution_count": 23,
   "metadata": {},
   "outputs": [
    {
     "name": "stdout",
     "output_type": "stream",
     "text": [
      "['displacement', 'displacement model_year', 'model_year^2', 'model_year', 'weight model_year', 'weight', 'cylinders model_year', 'acceleration', 'acceleration model_year', 'cylinders', 'cylinders horsepower', 'cylinders^2', 'horsepower weight', 'cylinders weight', 'displacement weight', 'horsepower', 'cylinders acceleration', 'horsepower model_year', 'horsepower^2', 'displacement horsepower', 'displacement acceleration', 'weight^2', 'cylinders displacement', 'horsepower acceleration', 'acceleration^2', 'displacement^2', 'weight acceleration']\n"
     ]
    }
   ],
   "source": [
    "rank_variables = np.argsort(np.abs(skl_linmod.coef_))[::-1]\n",
    "print([all_names[i] for i in rank_variables])"
   ]
  },
  {
   "cell_type": "markdown",
   "metadata": {},
   "source": [
    "Cette fois la variable la plus pertinente semble être \"displacement\". C'est un paradoxe classique: en ajoutant de nouvelles variables (ici les produits de variables), il se peut que le classement par ordre d'influence des variables (mesuré par l'amplitude des coefficients) change. Ce problème est partiellement résolu par sélection de variables."
   ]
  },
  {
   "cell_type": "code",
   "execution_count": 24,
   "metadata": {
    "collapsed": true
   },
   "outputs": [],
   "source": [
    "# BEWARE: it might lead to different interpretation if one perform the steps:\n",
    "# 1) center/rescale the design matrix\n",
    "# 2) create the interaction features\n",
    "# 3) center/rescale the new design matrix\n",
    "# or\n",
    "# 1) create the interaction features\n",
    "# 2) center/rescale the new design matrix.\n",
    "# The most reasonable is to rather proceed as proposed above (ie 2nd choice)"
   ]
  },
  {
   "cell_type": "markdown",
   "metadata": {},
   "source": [
    "# Q 17: Handling origins\n",
    "\n",
    "On revient ici au modèle sans interactions. Proposer une manière de gérer la variable\"origin\" par exemple avec **pd.get_dummies**. On ajustera un modèle linéaire sans constante dans ce cas. Déterminer laquelle des trois origines est la plus efficace en terme de consommation (Pour info, 1 = usa; 2 = europe; 3 = japan)."
   ]
  },
  {
   "cell_type": "code",
   "execution_count": 25,
   "metadata": {},
   "outputs": [
    {
     "name": "stdout",
     "output_type": "stream",
     "text": [
      "Index(['cylinders', 'displacement', 'horsepower', 'weight', 'acceleration',\n",
      "       'model_year', 'origin_2.0', 'origin_3.0'],\n",
      "      dtype='object')\n",
      "[-0.83427197  2.50601874 -0.69900932 -5.69254264  0.21795599  2.85870923\n",
      "  0.99585712  1.14455366]\n",
      "['weight', 'model_year', 'displacement', 'origin_3.0', 'origin_2.0', 'cylinders', 'horsepower', 'acceleration']\n"
     ]
    }
   ],
   "source": [
    "X_partial_bis = data.drop(['car_name', 'mpg'], axis=1)\n",
    "X_partial_bis = pd.get_dummies(X_partial_bis, columns=['origin'],drop_first=True)\n",
    "\n",
    "scaler = StandardScaler(with_mean=False).fit(X_partial_bis)\n",
    "Z = scaler.transform(X_partial_bis)\n",
    "\n",
    "skl_linmod = linear_model.LinearRegression(fit_intercept=True)\n",
    "skl_linmod.fit(Z, y)\n",
    "\n",
    "print(X_partial_bis.columns)\n",
    "print(skl_linmod.coef_)\n",
    "# print(skl_linmod.intercept_)\n",
    "rank_variables = np.argsort(np.abs(skl_linmod.coef_))[::-1]\n",
    "print([X_partial_bis.columns[i] for i in rank_variables])\n",
    "\n",
    "# Rem: here, it was useful to remove the intercept to deal with the redundancy\n",
    "# of the 'dummy' encoding."
   ]
  },
  {
   "cell_type": "markdown",
   "metadata": {
    "collapsed": true
   },
   "source": [
    "**Conclusion**: C'est donc le Japon qui est le plus efficace, puis l'Europe, puis les USA. En effet, le coefficient de \"origin_2.0\" correspond à la variable Europe vs. USA, et la variable \"origin_3.0\" correpond à la variable Japon vs. USA. Comme les deux coefficients sont positifs, l'Europe et le Japon sont plus efficaces que les USA. Enfin l'efficacité du Japon est plus grande que celle de l'Europe : 1.14455366 > 0.99585712.\n"
   ]
  },
  {
   "cell_type": "markdown",
   "metadata": {},
   "source": [
    "# Q18: Handling brands with some text processing\n",
    "\n",
    "Procéder de même cette fois en fonction de la marque de la voiture.\n",
    "On pourra utiliser **str.split** et **str.replace** pour créer une nouvelle variable **'brand'**."
   ]
  },
  {
   "cell_type": "code",
   "execution_count": 26,
   "metadata": {},
   "outputs": [
    {
     "name": "stdout",
     "output_type": "stream",
     "text": [
      "Index(['cylinders', 'displacement', 'horsepower', 'weight', 'acceleration',\n",
      "       'model_year', 'brand_audi', 'brand_bmw', 'brand_buick',\n",
      "       'brand_cadillac', 'brand_capri', 'brand_chevrolet', 'brand_chrysler',\n",
      "       'brand_datsun', 'brand_dodge', 'brand_fiat', 'brand_ford', 'brand_hi',\n",
      "       'brand_honda', 'brand_mazda', 'brand_mercedes', 'brand_mercury',\n",
      "       'brand_nissan', 'brand_oldsmobile', 'brand_opel', 'brand_peugeot',\n",
      "       'brand_plymouth', 'brand_pontiac', 'brand_renault', 'brand_saab',\n",
      "       'brand_subaru', 'brand_toyota', 'brand_triumph', 'brand_volvo',\n",
      "       'brand_vw'],\n",
      "      dtype='object')\n",
      "[-1.34732146  2.69997557 -1.80782908 -5.01160143 -0.32754136  2.16247851\n",
      "  0.50116591  0.11481696  0.33858564  0.3465755   0.05888553  0.43403025\n",
      "  0.09037849  1.35635973  0.57334546  0.56909164  0.20728945  0.28041323\n",
      "  0.90759598  0.54654828  0.42982765  0.09458581  0.32726119  0.47907438\n",
      "  0.14619684  0.51360283  0.69495856  0.59050538  0.34498844  0.29934182\n",
      "  0.34306462  0.80824953  0.43842978  0.17801941  1.06356643]\n",
      "0.0\n",
      "Index(['brand_honda', 'brand_vw', 'brand_datsun', 'model_year',\n",
      "       'displacement'],\n",
      "      dtype='object')\n",
      "[ 0.90759598  1.06356643  1.35635973  2.16247851  2.69997557]\n",
      "Index(['weight', 'horsepower', 'cylinders', 'acceleration', 'brand_capri'], dtype='object')\n",
      "[-5.01160143 -1.80782908 -1.34732146 -0.32754136  0.05888553]\n"
     ]
    }
   ],
   "source": [
    "# TODOS: to improve and deal the redundancy for brands:\n",
    "\n",
    "car_names = data['car_name']\n",
    "brands = pd.Series(car_names.str.split().str.get(0))\n",
    "\n",
    "# A bit of cleaning:\n",
    "brands = brands.str.replace('volkswagen', 'vw', case=False)\n",
    "brands = brands.str.replace('vokswagen', 'vw', case=False)\n",
    "brands = brands.str.replace('toyouta', 'toyota', case=False)\n",
    "brands = brands.str.replace('maxda', 'mazda', case=False)\n",
    "brands = brands.str.replace('chevy', 'chevrolet', case=False)\n",
    "brands = brands.str.replace('chevroelt', 'chevrolet', case=False)\n",
    "brands = brands.str.replace('mercedes-benz', 'mercedes', case=False)\n",
    "\n",
    "data['brand'] = pd.Series(brands)\n",
    "\n",
    "X_brand = data.drop(['car_name', 'mpg', 'origin'], axis=1)\n",
    "X_brand = pd.get_dummies(X_brand, columns=['brand'], drop_first=True)\n",
    "# NOTE: the firs in alphabetical order is amc, that's the one removed.\n",
    "\n",
    "scaler = StandardScaler(with_mean=False).fit(X_brand)\n",
    "X_brand_scaled = scaler.transform(X_brand)\n",
    "\n",
    "skl_linmod = linear_model.LinearRegression(fit_intercept=False)\n",
    "skl_linmod.fit(X_brand_scaled, y)\n",
    "\n",
    "print(X_brand.columns)\n",
    "print(skl_linmod.coef_)\n",
    "print(skl_linmod.intercept_)\n",
    "\n",
    "# sort by positive influence:\n",
    "rank_variables = np.argsort((skl_linmod.coef_))\n",
    "print(X_brand.columns[rank_variables[-5:]])\n",
    "print(skl_linmod.coef_[rank_variables[-5:]])\n",
    "\n",
    "# sort by negative influence:\n",
    "rank_variables = np.argsort((skl_linmod.coef_))\n",
    "print(X_brand.columns[rank_variables[:5]])\n",
    "print(skl_linmod.coef_[rank_variables[:5]])"
   ]
  },
  {
   "cell_type": "markdown",
   "metadata": {},
   "source": [
    "# Q19\n",
    "Reprendre la matrice $X$ obtenue sans variables catégorielles. Obtenez numériquement la SVD (partielle) de $X = U S V^\\top$ (par exemple en considérant l'option **full_matrices=False**); vérifier numériquement que $H = U U^\\top $ est une projection orthogonale (on admettra si besoin que c'est la matrice chapeau, H, vue en cours)."
   ]
  },
  {
   "cell_type": "code",
   "execution_count": 27,
   "metadata": {},
   "outputs": [
    {
     "name": "stdout",
     "output_type": "stream",
     "text": [
      "True\n",
      "True\n"
     ]
    }
   ],
   "source": [
    "# TODO: TO improve and may be give a standard threshold as in Delyon ...\n",
    "U, s, V = svd(X, full_matrices=False)\n",
    "proj_mat = np.dot(U, U.T)\n",
    "print(np.allclose(proj_mat.dot(proj_mat), proj_mat))\n",
    "print(np.allclose(proj_mat.T, proj_mat))\n",
    "\n",
    "# Rem: Note that the centering/rescaling step does not modify the leverage.\n",
    "\n",
    "leverage = np.diag(proj_mat)\n",
    "data['leverage'] = leverage"
   ]
  },
  {
   "cell_type": "markdown",
   "metadata": {},
   "source": [
    "# Q20:\n",
    "La diagonale de la matrice $H$, forme le vecteur des \"leviers\", qu'on ajoutera comme nouvelle variable. Trier la base de données en fonction de cette variable, et expliquer en quoi les voitures ayant les trois valeurs de \"levier\" les plus grandes semblent atypiques."
   ]
  },
  {
   "cell_type": "code",
   "execution_count": 28,
   "metadata": {},
   "outputs": [
    {
     "data": {
      "text/html": [
       "<table border=\"1\" class=\"dataframe\">\n",
       "  <thead>\n",
       "    <tr style=\"text-align: right;\">\n",
       "      <th></th>\n",
       "      <th>mpg</th>\n",
       "      <th>cylinders</th>\n",
       "      <th>displacement</th>\n",
       "      <th>horsepower</th>\n",
       "      <th>weight</th>\n",
       "      <th>acceleration</th>\n",
       "      <th>model_year</th>\n",
       "      <th>origin</th>\n",
       "      <th>car_name</th>\n",
       "      <th>brand</th>\n",
       "      <th>leverage</th>\n",
       "    </tr>\n",
       "  </thead>\n",
       "  <tbody>\n",
       "    <tr>\n",
       "      <th>0</th>\n",
       "      <td>18</td>\n",
       "      <td>8</td>\n",
       "      <td>307</td>\n",
       "      <td>130</td>\n",
       "      <td>3,504</td>\n",
       "      <td>12</td>\n",
       "      <td>70</td>\n",
       "      <td>1</td>\n",
       "      <td>chevrolet chevelle malibu</td>\n",
       "      <td>chevrolet</td>\n",
       "      <td>0.02</td>\n",
       "    </tr>\n",
       "    <tr>\n",
       "      <th>1</th>\n",
       "      <td>15</td>\n",
       "      <td>8</td>\n",
       "      <td>350</td>\n",
       "      <td>165</td>\n",
       "      <td>3,693</td>\n",
       "      <td>12</td>\n",
       "      <td>70</td>\n",
       "      <td>1</td>\n",
       "      <td>buick skylark 320</td>\n",
       "      <td>buick</td>\n",
       "      <td>0.02</td>\n",
       "    </tr>\n",
       "    <tr>\n",
       "      <th>2</th>\n",
       "      <td>18</td>\n",
       "      <td>8</td>\n",
       "      <td>318</td>\n",
       "      <td>150</td>\n",
       "      <td>3,436</td>\n",
       "      <td>11</td>\n",
       "      <td>70</td>\n",
       "      <td>1</td>\n",
       "      <td>plymouth satellite</td>\n",
       "      <td>plymouth</td>\n",
       "      <td>0.02</td>\n",
       "    </tr>\n",
       "  </tbody>\n",
       "</table>"
      ],
      "text/plain": [
       "<IPython.core.display.HTML object>"
      ]
     },
     "metadata": {},
     "output_type": "display_data"
    },
    {
     "data": {
      "text/html": [
       "<table border=\"1\" class=\"dataframe\">\n",
       "  <thead>\n",
       "    <tr style=\"text-align: right;\">\n",
       "      <th></th>\n",
       "      <th>mpg</th>\n",
       "      <th>cylinders</th>\n",
       "      <th>displacement</th>\n",
       "      <th>horsepower</th>\n",
       "      <th>weight</th>\n",
       "      <th>acceleration</th>\n",
       "      <th>model_year</th>\n",
       "      <th>origin</th>\n",
       "      <th>leverage</th>\n",
       "    </tr>\n",
       "  </thead>\n",
       "  <tbody>\n",
       "    <tr>\n",
       "      <th>count</th>\n",
       "      <td>392</td>\n",
       "      <td>392</td>\n",
       "      <td>392</td>\n",
       "      <td>392</td>\n",
       "      <td>392</td>\n",
       "      <td>392</td>\n",
       "      <td>392</td>\n",
       "      <td>392</td>\n",
       "      <td>392.00</td>\n",
       "    </tr>\n",
       "    <tr>\n",
       "      <th>mean</th>\n",
       "      <td>23</td>\n",
       "      <td>5</td>\n",
       "      <td>194</td>\n",
       "      <td>104</td>\n",
       "      <td>2,978</td>\n",
       "      <td>16</td>\n",
       "      <td>76</td>\n",
       "      <td>2</td>\n",
       "      <td>0.02</td>\n",
       "    </tr>\n",
       "    <tr>\n",
       "      <th>std</th>\n",
       "      <td>8</td>\n",
       "      <td>2</td>\n",
       "      <td>105</td>\n",
       "      <td>38</td>\n",
       "      <td>849</td>\n",
       "      <td>3</td>\n",
       "      <td>4</td>\n",
       "      <td>1</td>\n",
       "      <td>0.01</td>\n",
       "    </tr>\n",
       "    <tr>\n",
       "      <th>min</th>\n",
       "      <td>9</td>\n",
       "      <td>3</td>\n",
       "      <td>68</td>\n",
       "      <td>46</td>\n",
       "      <td>1,613</td>\n",
       "      <td>8</td>\n",
       "      <td>70</td>\n",
       "      <td>1</td>\n",
       "      <td>0.00</td>\n",
       "    </tr>\n",
       "    <tr>\n",
       "      <th>25%</th>\n",
       "      <td>17</td>\n",
       "      <td>4</td>\n",
       "      <td>105</td>\n",
       "      <td>75</td>\n",
       "      <td>2,225</td>\n",
       "      <td>14</td>\n",
       "      <td>73</td>\n",
       "      <td>1</td>\n",
       "      <td>0.01</td>\n",
       "    </tr>\n",
       "    <tr>\n",
       "      <th>50%</th>\n",
       "      <td>23</td>\n",
       "      <td>4</td>\n",
       "      <td>151</td>\n",
       "      <td>94</td>\n",
       "      <td>2,804</td>\n",
       "      <td>16</td>\n",
       "      <td>76</td>\n",
       "      <td>1</td>\n",
       "      <td>0.01</td>\n",
       "    </tr>\n",
       "    <tr>\n",
       "      <th>75%</th>\n",
       "      <td>29</td>\n",
       "      <td>8</td>\n",
       "      <td>276</td>\n",
       "      <td>126</td>\n",
       "      <td>3,615</td>\n",
       "      <td>17</td>\n",
       "      <td>79</td>\n",
       "      <td>2</td>\n",
       "      <td>0.02</td>\n",
       "    </tr>\n",
       "    <tr>\n",
       "      <th>max</th>\n",
       "      <td>47</td>\n",
       "      <td>8</td>\n",
       "      <td>455</td>\n",
       "      <td>230</td>\n",
       "      <td>5,140</td>\n",
       "      <td>25</td>\n",
       "      <td>82</td>\n",
       "      <td>3</td>\n",
       "      <td>0.19</td>\n",
       "    </tr>\n",
       "  </tbody>\n",
       "</table>"
      ],
      "text/plain": [
       "<IPython.core.display.HTML object>"
      ]
     },
     "metadata": {},
     "output_type": "display_data"
    }
   ],
   "source": [
    "display(HTML(data.head(3).to_html(formatters={'leverage': '{:,.2f}'.format})))\n",
    "data = data.sort_values(['leverage'], ascending=False)\n",
    "display(HTML(data.describe().to_html(formatters={'leverage': '{:,.2f}'.format})))"
   ]
  },
  {
   "cell_type": "markdown",
   "metadata": {},
   "source": [
    "Conclusion:\n",
    "- L'observation de levier maximum a des valeurs extrêmes pour: 'cylinders', 'displacement' et 'model_year'\n",
    "- L'observation de deuxième levier maximum a des valeurs extrêmes pour: 'cylinders', 'weight', 'acceleration', 'horsepower' et 'model_year'\n",
    "- L'observation de deuxième levier maximum a des valeurs extrêmes pour: 'cylinders', 'horsepower', 'weight' and 'model_year'"
   ]
  },
  {
   "cell_type": "code",
   "execution_count": 29,
   "metadata": {},
   "outputs": [
    {
     "data": {
      "image/png": "[encoded data removed]",
      "text/plain": [
       "<matplotlib.figure.Figure at 0x7f8a79342ac8>"
      ]
     },
     "metadata": {},
     "output_type": "display_data"
    }
   ],
   "source": [
    "# Bonus:  visualisation of the leverage points with empirical cut-off for \"large\" leverage points\n",
    "threshold = 2.5 * (float(X.shape[1] + 1) / float(X.shape[0]))\n",
    "\n",
    "plt.figure()\n",
    "plt.plot(np.arange(X.shape[0]), leverage)\n",
    "plt.plot(np.arange(X.shape[0]), threshold * np.ones(X.shape[0]))\n",
    "plt.show()"
   ]
  }
 ],
 "metadata": {
  "kernelspec": {
   "display_name": "Python 3",
   "language": "python",
   "name": "python3"
  },
  "language_info": {
   "codemirror_mode": {
    "name": "ipython",
    "version": 3
   },
   "file_extension": ".py",
   "mimetype": "text/x-python",
   "name": "python",
   "nbconvert_exporter": "python",
   "pygments_lexer": "ipython3",
   "version": "3.6.1"
  }
 },
 "nbformat": 4,
 "nbformat_minor": 2
}
