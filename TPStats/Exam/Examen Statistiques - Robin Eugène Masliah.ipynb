{
 "cells": [
  {
   "cell_type": "markdown",
   "metadata": {},
   "source": [
    "# TP final Statistiques\n",
    "### Robin Eugène Masliah"
   ]
  },
  {
   "cell_type": "code",
   "execution_count": 1,
   "metadata": {
    "collapsed": true
   },
   "outputs": [],
   "source": [
    "import numpy as np\n",
    "import pandas as pd\n",
    "import matplotlib.pyplot as plt\n",
    "import sklearn as skl\n",
    "from matplotlib import rc\n",
    "import seaborn as sns\n",
    "import matplotlib.pyplot as plt\n",
    "import matplotlib\n",
    "from sklearn.manifold import TSNE\n",
    "import matplotlib.pyplot as plt\n",
    "import matplotlib\n",
    "from sklearn.model_selection import train_test_split\n",
    "from sklearn.linear_model import LassoCV\n",
    "import sklearn.linear_model as lm\n",
    "\n",
    "\n",
    "%matplotlib inline"
   ]
  },
  {
   "cell_type": "code",
   "execution_count": 2,
   "metadata": {},
   "outputs": [
    {
     "name": "stdout",
     "output_type": "stream",
     "text": [
      "0.19.0\n"
     ]
    }
   ],
   "source": [
    "print(skl.__version__)"
   ]
  },
  {
   "cell_type": "code",
   "execution_count": 3,
   "metadata": {
    "collapsed": true
   },
   "outputs": [],
   "source": [
    "from sklearn.datasets.mldata import fetch_mldata\n",
    "dataset_name = 'leukemia'\n",
    "data = fetch_mldata(dataset_name)\n",
    "X = data.data\n",
    "y = data.target\n",
    "X = X.astype(float)\n",
    "y = y.astype(float)"
   ]
  },
  {
   "cell_type": "markdown",
   "metadata": {},
   "source": [
    "# Q1"
   ]
  },
  {
   "cell_type": "code",
   "execution_count": 4,
   "metadata": {},
   "outputs": [
    {
     "name": "stdout",
     "output_type": "stream",
     "text": [
      "Nombre de patients (observations) :  72\n",
      "Nombre de variables explicatives :  7129\n"
     ]
    }
   ],
   "source": [
    "print(\"Nombre de patients (observations) : \", X.shape[0])\n",
    "print(\"Nombre de variables explicatives : \", X.shape[1])\n",
    "n = X.shape[0]"
   ]
  },
  {
   "cell_type": "code",
   "execution_count": 5,
   "metadata": {},
   "outputs": [
    {
     "name": "stdout",
     "output_type": "stream",
     "text": [
      "Variance =  1.0\n"
     ]
    }
   ],
   "source": [
    "from sklearn import preprocessing\n",
    "\n",
    "scaler_x = preprocessing.StandardScaler().fit(X)\n",
    "X_std = scaler_x.transform(X)\n",
    "\n",
    "print(\"Variance = \", np.var(X_std))"
   ]
  },
  {
   "cell_type": "code",
   "execution_count": 6,
   "metadata": {},
   "outputs": [
    {
     "data": {
      "text/plain": [
       "array([[-1.47262264, -0.64966234, -0.84179096, ..., -0.60103038,\n",
       "        -0.47441204, -0.96630888],\n",
       "       [-0.66946453,  0.20759274, -0.37116141, ..., -0.87131292,\n",
       "        -0.66955388, -0.54724666],\n",
       "       [-0.20189409,  0.38260738, -2.39950074, ..., -0.49978684,\n",
       "        -0.43651697, -0.90306718],\n",
       "       ..., \n",
       "       [ 1.10373166,  1.65538617,  0.68672137, ...,  0.98024317,\n",
       "        -0.26628371,  1.8503942 ],\n",
       "       [ 0.50719447,  0.42978818,  0.29634707, ...,  0.0370412 ,\n",
       "        -0.54500698,  0.36087656],\n",
       "       [-0.45903406, -0.07201883, -0.53011708, ..., -0.11152513,\n",
       "        -0.34231654, -0.06914906]])"
      ]
     },
     "execution_count": 6,
     "metadata": {},
     "output_type": "execute_result"
    }
   ],
   "source": [
    "X_std"
   ]
  },
  {
   "cell_type": "markdown",
   "metadata": {},
   "source": [
    "# Q2"
   ]
  },
  {
   "cell_type": "code",
   "execution_count": 7,
   "metadata": {},
   "outputs": [
    {
     "name": "stdout",
     "output_type": "stream",
     "text": [
      "[ 0.22568728]\n"
     ]
    }
   ],
   "source": [
    "from sklearn.decomposition import PCA\n",
    "pca = PCA(n_components=1, random_state=0)\n",
    "pca.fit(X_std)\n",
    "transf_scaler_x = pca.transform(X_std)\n",
    "print(pca.explained_variance_ratio_)"
   ]
  },
  {
   "cell_type": "code",
   "execution_count": 47,
   "metadata": {
    "scrolled": false
   },
   "outputs": [
    {
     "data": {
      "image/png": "[encoded data removed]",
      "text/plain": [
       "<matplotlib.figure.Figure at 0x7f488461c4a8>"
      ]
     },
     "metadata": {},
     "output_type": "display_data"
    }
   ],
   "source": [
    "fig = plt.figure(figsize=(12, 8))\n",
    "\n",
    "import numpy as np\n",
    "import matplotlib.pyplot as plt\n",
    "\n",
    "ar = transf_scaler_x  # just as an example array\n",
    "unos = np.zeros(ar.shape)\n",
    "\n",
    "colors = ['orange' if c == 1 else 'blue' for c in y]\n",
    "\n",
    "plt.scatter(ar, unos, color=colors, label='label')\n",
    "\n",
    "plt.title(\"Titre\")\n",
    "plt.xlabel(\"x\")\n",
    "plt.ylabel(\"y\")\n",
    "plt.legend()\n",
    "plt.show()"
   ]
  },
  {
   "cell_type": "code",
   "execution_count": 9,
   "metadata": {},
   "outputs": [
    {
     "data": {
      "text/plain": [
       "(72, 1)"
      ]
     },
     "execution_count": 9,
     "metadata": {},
     "output_type": "execute_result"
    }
   ],
   "source": [
    "ar.shape"
   ]
  },
  {
   "cell_type": "code",
   "execution_count": 10,
   "metadata": {},
   "outputs": [
    {
     "name": "stdout",
     "output_type": "stream",
     "text": [
      "[ 0.22568728  0.11655105]\n"
     ]
    }
   ],
   "source": [
    "pca_2 = PCA(n_components=2, random_state=0)\n",
    "pca_2.fit(X_std)\n",
    "transf_scaler_x = pca_2.transform(X_std)\n",
    "print(pca_2.explained_variance_ratio_)"
   ]
  },
  {
   "cell_type": "code",
   "execution_count": 46,
   "metadata": {},
   "outputs": [
    {
     "data": {
      "image/png": "[encoded data removed]",
      "text/plain": [
       "<matplotlib.figure.Figure at 0x7f488462def0>"
      ]
     },
     "metadata": {},
     "output_type": "display_data"
    }
   ],
   "source": [
    "fig = plt.figure(figsize=(12, 8))\n",
    "\n",
    "colors = ['orange' if c == 1 else 'blue' for c in y]\n",
    "\n",
    "plt.scatter(transf_scaler_x[:, 0], transf_scaler_x[:, 1], color=colors, label='label')\n",
    "\n",
    "\n",
    "plt.title(\"Titre\")\n",
    "plt.xlabel(\"x\")\n",
    "plt.ylabel(\"y\")\n",
    "plt.legend()\n",
    "plt.show()"
   ]
  },
  {
   "cell_type": "code",
   "execution_count": 12,
   "metadata": {},
   "outputs": [
    {
     "data": {
      "text/plain": [
       "array([[-1.47262264, -0.64966234, -0.84179096, ..., -0.60103038,\n",
       "        -0.47441204, -0.96630888],\n",
       "       [-0.66946453,  0.20759274, -0.37116141, ..., -0.87131292,\n",
       "        -0.66955388, -0.54724666],\n",
       "       [-0.20189409,  0.38260738, -2.39950074, ..., -0.49978684,\n",
       "        -0.43651697, -0.90306718],\n",
       "       ..., \n",
       "       [ 1.10373166,  1.65538617,  0.68672137, ...,  0.98024317,\n",
       "        -0.26628371,  1.8503942 ],\n",
       "       [ 0.50719447,  0.42978818,  0.29634707, ...,  0.0370412 ,\n",
       "        -0.54500698,  0.36087656],\n",
       "       [-0.45903406, -0.07201883, -0.53011708, ..., -0.11152513,\n",
       "        -0.34231654, -0.06914906]])"
      ]
     },
     "execution_count": 12,
     "metadata": {},
     "output_type": "execute_result"
    }
   ],
   "source": [
    "X_std"
   ]
  },
  {
   "cell_type": "code",
   "execution_count": 24,
   "metadata": {},
   "outputs": [
    {
     "data": {
      "image/png": "[encoded data removed]",
      "text/plain": [
       "<matplotlib.figure.Figure at 0x7f488498f780>"
      ]
     },
     "metadata": {},
     "output_type": "display_data"
    },
    {
     "name": "stdout",
     "output_type": "stream",
     "text": [
      "[-553.13891602]\n"
     ]
    }
   ],
   "source": [
    "X_embedded = TSNE(n_components=1, init='pca').fit_transform(X_std)\n",
    "\n",
    "fig = plt.figure(figsize=(12, 8))\n",
    "\n",
    "colors = ['orange' if c == 1 else 'blue' for c in y]\n",
    "\n",
    "plt.scatter(X_embedded[:, 0], unos, color=colors, label='data')\n",
    "\n",
    "plt.title(\"Titre\")\n",
    "plt.xlabel(\"x\")\n",
    "plt.ylabel(\"y\")\n",
    "plt.legend()\n",
    "plt.show()\n",
    "\n",
    "print(X_embedded[1])"
   ]
  },
  {
   "cell_type": "code",
   "execution_count": 14,
   "metadata": {},
   "outputs": [
    {
     "data": {
      "text/html": [
       "<div>\n",
       "<style>\n",
       "    .dataframe thead tr:only-child th {\n",
       "        text-align: right;\n",
       "    }\n",
       "\n",
       "    .dataframe thead th {\n",
       "        text-align: left;\n",
       "    }\n",
       "\n",
       "    .dataframe tbody tr th {\n",
       "        vertical-align: top;\n",
       "    }\n",
       "</style>\n",
       "<table border=\"1\" class=\"dataframe\">\n",
       "  <thead>\n",
       "    <tr style=\"text-align: right;\">\n",
       "      <th></th>\n",
       "      <th>0</th>\n",
       "      <th>1</th>\n",
       "      <th>2</th>\n",
       "      <th>3</th>\n",
       "      <th>4</th>\n",
       "      <th>5</th>\n",
       "      <th>6</th>\n",
       "      <th>7</th>\n",
       "      <th>8</th>\n",
       "      <th>9</th>\n",
       "      <th>...</th>\n",
       "      <th>7119</th>\n",
       "      <th>7120</th>\n",
       "      <th>7121</th>\n",
       "      <th>7122</th>\n",
       "      <th>7123</th>\n",
       "      <th>7124</th>\n",
       "      <th>7125</th>\n",
       "      <th>7126</th>\n",
       "      <th>7127</th>\n",
       "      <th>7128</th>\n",
       "    </tr>\n",
       "  </thead>\n",
       "  <tbody>\n",
       "    <tr>\n",
       "      <th>count</th>\n",
       "      <td>7.200000e+01</td>\n",
       "      <td>7.200000e+01</td>\n",
       "      <td>7.200000e+01</td>\n",
       "      <td>7.200000e+01</td>\n",
       "      <td>7.200000e+01</td>\n",
       "      <td>7.200000e+01</td>\n",
       "      <td>7.200000e+01</td>\n",
       "      <td>7.200000e+01</td>\n",
       "      <td>7.200000e+01</td>\n",
       "      <td>7.200000e+01</td>\n",
       "      <td>...</td>\n",
       "      <td>7.200000e+01</td>\n",
       "      <td>7.200000e+01</td>\n",
       "      <td>7.200000e+01</td>\n",
       "      <td>7.200000e+01</td>\n",
       "      <td>7.200000e+01</td>\n",
       "      <td>7.200000e+01</td>\n",
       "      <td>7.200000e+01</td>\n",
       "      <td>7.200000e+01</td>\n",
       "      <td>7.200000e+01</td>\n",
       "      <td>7.200000e+01</td>\n",
       "    </tr>\n",
       "    <tr>\n",
       "      <th>mean</th>\n",
       "      <td>1.002285e-17</td>\n",
       "      <td>-1.079383e-17</td>\n",
       "      <td>2.467162e-17</td>\n",
       "      <td>3.835666e-17</td>\n",
       "      <td>1.466986e-17</td>\n",
       "      <td>1.202742e-16</td>\n",
       "      <td>-2.929755e-17</td>\n",
       "      <td>-6.167906e-18</td>\n",
       "      <td>-2.004569e-17</td>\n",
       "      <td>1.541976e-17</td>\n",
       "      <td>...</td>\n",
       "      <td>1.175757e-17</td>\n",
       "      <td>7.709882e-18</td>\n",
       "      <td>5.782412e-18</td>\n",
       "      <td>-3.083953e-18</td>\n",
       "      <td>-1.696174e-17</td>\n",
       "      <td>-3.854941e-18</td>\n",
       "      <td>1.619075e-17</td>\n",
       "      <td>-2.563536e-17</td>\n",
       "      <td>5.396917e-18</td>\n",
       "      <td>6.090807e-17</td>\n",
       "    </tr>\n",
       "    <tr>\n",
       "      <th>std</th>\n",
       "      <td>1.007018e+00</td>\n",
       "      <td>1.007018e+00</td>\n",
       "      <td>1.007018e+00</td>\n",
       "      <td>1.007018e+00</td>\n",
       "      <td>1.007018e+00</td>\n",
       "      <td>1.007018e+00</td>\n",
       "      <td>1.007018e+00</td>\n",
       "      <td>1.007018e+00</td>\n",
       "      <td>1.007018e+00</td>\n",
       "      <td>1.007018e+00</td>\n",
       "      <td>...</td>\n",
       "      <td>1.007018e+00</td>\n",
       "      <td>1.007018e+00</td>\n",
       "      <td>1.007018e+00</td>\n",
       "      <td>1.007018e+00</td>\n",
       "      <td>1.007018e+00</td>\n",
       "      <td>1.007018e+00</td>\n",
       "      <td>1.007018e+00</td>\n",
       "      <td>1.007018e+00</td>\n",
       "      <td>1.007018e+00</td>\n",
       "      <td>1.007018e+00</td>\n",
       "    </tr>\n",
       "    <tr>\n",
       "      <th>min</th>\n",
       "      <td>-3.729511e+00</td>\n",
       "      <td>-2.698959e+00</td>\n",
       "      <td>-2.585275e+00</td>\n",
       "      <td>-2.309957e+00</td>\n",
       "      <td>-1.822078e+00</td>\n",
       "      <td>-2.306514e+00</td>\n",
       "      <td>-3.029502e+00</td>\n",
       "      <td>-1.937885e+00</td>\n",
       "      <td>-2.843567e+00</td>\n",
       "      <td>-2.138916e+00</td>\n",
       "      <td>...</td>\n",
       "      <td>-2.238913e+00</td>\n",
       "      <td>-1.821634e+00</td>\n",
       "      <td>-3.145419e+00</td>\n",
       "      <td>-1.136027e+00</td>\n",
       "      <td>-3.085079e+00</td>\n",
       "      <td>-1.597502e+00</td>\n",
       "      <td>-1.720984e+00</td>\n",
       "      <td>-2.976080e+00</td>\n",
       "      <td>-9.871208e-01</td>\n",
       "      <td>-2.772641e+00</td>\n",
       "    </tr>\n",
       "    <tr>\n",
       "      <th>25%</th>\n",
       "      <td>-5.985617e-01</td>\n",
       "      <td>-6.726558e-01</td>\n",
       "      <td>-7.040333e-01</td>\n",
       "      <td>-8.328419e-01</td>\n",
       "      <td>-6.621069e-01</td>\n",
       "      <td>-6.129763e-01</td>\n",
       "      <td>-6.226580e-01</td>\n",
       "      <td>-7.075582e-01</td>\n",
       "      <td>-5.329406e-01</td>\n",
       "      <td>-6.478808e-01</td>\n",
       "      <td>...</td>\n",
       "      <td>-7.315963e-01</td>\n",
       "      <td>-7.057969e-01</td>\n",
       "      <td>-6.543862e-01</td>\n",
       "      <td>-4.359634e-01</td>\n",
       "      <td>-7.937102e-01</td>\n",
       "      <td>-7.169811e-01</td>\n",
       "      <td>-6.291093e-01</td>\n",
       "      <td>-6.748340e-01</td>\n",
       "      <td>-4.961865e-01</td>\n",
       "      <td>-6.807321e-01</td>\n",
       "    </tr>\n",
       "    <tr>\n",
       "      <th>50%</th>\n",
       "      <td>2.227814e-01</td>\n",
       "      <td>4.152242e-02</td>\n",
       "      <td>1.121873e-01</td>\n",
       "      <td>1.349845e-01</td>\n",
       "      <td>-8.298806e-03</td>\n",
       "      <td>-5.483266e-02</td>\n",
       "      <td>-1.349533e-02</td>\n",
       "      <td>8.425020e-02</td>\n",
       "      <td>8.431297e-02</td>\n",
       "      <td>-1.434170e-01</td>\n",
       "      <td>...</td>\n",
       "      <td>-1.309553e-01</td>\n",
       "      <td>-1.215304e-01</td>\n",
       "      <td>-6.802892e-02</td>\n",
       "      <td>-1.608706e-01</td>\n",
       "      <td>9.552374e-02</td>\n",
       "      <td>-1.801444e-01</td>\n",
       "      <td>-3.080410e-01</td>\n",
       "      <td>1.215779e-02</td>\n",
       "      <td>-3.376546e-01</td>\n",
       "      <td>4.546865e-02</td>\n",
       "    </tr>\n",
       "    <tr>\n",
       "      <th>75%</th>\n",
       "      <td>6.704693e-01</td>\n",
       "      <td>7.809471e-01</td>\n",
       "      <td>5.317560e-01</td>\n",
       "      <td>5.223329e-01</td>\n",
       "      <td>6.174794e-01</td>\n",
       "      <td>8.315670e-01</td>\n",
       "      <td>5.217880e-01</td>\n",
       "      <td>5.875102e-01</td>\n",
       "      <td>6.569184e-01</td>\n",
       "      <td>6.211195e-01</td>\n",
       "      <td>...</td>\n",
       "      <td>6.164348e-01</td>\n",
       "      <td>5.610912e-01</td>\n",
       "      <td>6.724698e-01</td>\n",
       "      <td>1.248428e-01</td>\n",
       "      <td>7.775810e-01</td>\n",
       "      <td>6.507434e-01</td>\n",
       "      <td>5.069972e-01</td>\n",
       "      <td>8.034476e-01</td>\n",
       "      <td>-1.192904e-01</td>\n",
       "      <td>6.729424e-01</td>\n",
       "    </tr>\n",
       "    <tr>\n",
       "      <th>max</th>\n",
       "      <td>2.139731e+00</td>\n",
       "      <td>1.939023e+00</td>\n",
       "      <td>2.690982e+00</td>\n",
       "      <td>2.232114e+00</td>\n",
       "      <td>3.012584e+00</td>\n",
       "      <td>1.826015e+00</td>\n",
       "      <td>2.745433e+00</td>\n",
       "      <td>2.326222e+00</td>\n",
       "      <td>2.718434e+00</td>\n",
       "      <td>2.990188e+00</td>\n",
       "      <td>...</td>\n",
       "      <td>2.542609e+00</td>\n",
       "      <td>2.925053e+00</td>\n",
       "      <td>2.174392e+00</td>\n",
       "      <td>5.830622e+00</td>\n",
       "      <td>1.987792e+00</td>\n",
       "      <td>3.288425e+00</td>\n",
       "      <td>3.150868e+00</td>\n",
       "      <td>1.763228e+00</td>\n",
       "      <td>4.152647e+00</td>\n",
       "      <td>2.580834e+00</td>\n",
       "    </tr>\n",
       "  </tbody>\n",
       "</table>\n",
       "<p>8 rows × 7129 columns</p>\n",
       "</div>"
      ],
      "text/plain": [
       "               0             1             2             3             4     \\\n",
       "count  7.200000e+01  7.200000e+01  7.200000e+01  7.200000e+01  7.200000e+01   \n",
       "mean   1.002285e-17 -1.079383e-17  2.467162e-17  3.835666e-17  1.466986e-17   \n",
       "std    1.007018e+00  1.007018e+00  1.007018e+00  1.007018e+00  1.007018e+00   \n",
       "min   -3.729511e+00 -2.698959e+00 -2.585275e+00 -2.309957e+00 -1.822078e+00   \n",
       "25%   -5.985617e-01 -6.726558e-01 -7.040333e-01 -8.328419e-01 -6.621069e-01   \n",
       "50%    2.227814e-01  4.152242e-02  1.121873e-01  1.349845e-01 -8.298806e-03   \n",
       "75%    6.704693e-01  7.809471e-01  5.317560e-01  5.223329e-01  6.174794e-01   \n",
       "max    2.139731e+00  1.939023e+00  2.690982e+00  2.232114e+00  3.012584e+00   \n",
       "\n",
       "               5             6             7             8             9     \\\n",
       "count  7.200000e+01  7.200000e+01  7.200000e+01  7.200000e+01  7.200000e+01   \n",
       "mean   1.202742e-16 -2.929755e-17 -6.167906e-18 -2.004569e-17  1.541976e-17   \n",
       "std    1.007018e+00  1.007018e+00  1.007018e+00  1.007018e+00  1.007018e+00   \n",
       "min   -2.306514e+00 -3.029502e+00 -1.937885e+00 -2.843567e+00 -2.138916e+00   \n",
       "25%   -6.129763e-01 -6.226580e-01 -7.075582e-01 -5.329406e-01 -6.478808e-01   \n",
       "50%   -5.483266e-02 -1.349533e-02  8.425020e-02  8.431297e-02 -1.434170e-01   \n",
       "75%    8.315670e-01  5.217880e-01  5.875102e-01  6.569184e-01  6.211195e-01   \n",
       "max    1.826015e+00  2.745433e+00  2.326222e+00  2.718434e+00  2.990188e+00   \n",
       "\n",
       "           ...               7119          7120          7121          7122  \\\n",
       "count      ...       7.200000e+01  7.200000e+01  7.200000e+01  7.200000e+01   \n",
       "mean       ...       1.175757e-17  7.709882e-18  5.782412e-18 -3.083953e-18   \n",
       "std        ...       1.007018e+00  1.007018e+00  1.007018e+00  1.007018e+00   \n",
       "min        ...      -2.238913e+00 -1.821634e+00 -3.145419e+00 -1.136027e+00   \n",
       "25%        ...      -7.315963e-01 -7.057969e-01 -6.543862e-01 -4.359634e-01   \n",
       "50%        ...      -1.309553e-01 -1.215304e-01 -6.802892e-02 -1.608706e-01   \n",
       "75%        ...       6.164348e-01  5.610912e-01  6.724698e-01  1.248428e-01   \n",
       "max        ...       2.542609e+00  2.925053e+00  2.174392e+00  5.830622e+00   \n",
       "\n",
       "               7123          7124          7125          7126          7127  \\\n",
       "count  7.200000e+01  7.200000e+01  7.200000e+01  7.200000e+01  7.200000e+01   \n",
       "mean  -1.696174e-17 -3.854941e-18  1.619075e-17 -2.563536e-17  5.396917e-18   \n",
       "std    1.007018e+00  1.007018e+00  1.007018e+00  1.007018e+00  1.007018e+00   \n",
       "min   -3.085079e+00 -1.597502e+00 -1.720984e+00 -2.976080e+00 -9.871208e-01   \n",
       "25%   -7.937102e-01 -7.169811e-01 -6.291093e-01 -6.748340e-01 -4.961865e-01   \n",
       "50%    9.552374e-02 -1.801444e-01 -3.080410e-01  1.215779e-02 -3.376546e-01   \n",
       "75%    7.775810e-01  6.507434e-01  5.069972e-01  8.034476e-01 -1.192904e-01   \n",
       "max    1.987792e+00  3.288425e+00  3.150868e+00  1.763228e+00  4.152647e+00   \n",
       "\n",
       "               7128  \n",
       "count  7.200000e+01  \n",
       "mean   6.090807e-17  \n",
       "std    1.007018e+00  \n",
       "min   -2.772641e+00  \n",
       "25%   -6.807321e-01  \n",
       "50%    4.546865e-02  \n",
       "75%    6.729424e-01  \n",
       "max    2.580834e+00  \n",
       "\n",
       "[8 rows x 7129 columns]"
      ]
     },
     "execution_count": 14,
     "metadata": {},
     "output_type": "execute_result"
    }
   ],
   "source": [
    "df = pd.DataFrame(X_std)\n",
    "df.describe()"
   ]
  },
  {
   "cell_type": "code",
   "execution_count": 25,
   "metadata": {},
   "outputs": [
    {
     "data": {
      "image/png": "[encoded data removed]",
      "text/plain": [
       "<matplotlib.figure.Figure at 0x7f488471c630>"
      ]
     },
     "metadata": {},
     "output_type": "display_data"
    },
    {
     "name": "stdout",
     "output_type": "stream",
     "text": [
      "[  9.37670803 -11.67730904]\n"
     ]
    }
   ],
   "source": [
    "X_embedded = TSNE(n_components=2, init='pca').fit_transform(X_std)\n",
    "\n",
    "fig = plt.figure(figsize=(12, 8))\n",
    "\n",
    "colors = ['orange' if c == 1 else 'blue' for c in y]\n",
    "\n",
    "plt.scatter(X_embedded[:, 0], X_embedded[:, 1], color=colors, label='data')\n",
    "\n",
    "plt.title(\"Titre\")\n",
    "plt.xlabel(\"x\")\n",
    "plt.ylabel(\"y\")\n",
    "plt.legend()\n",
    "plt.show()\n",
    "\n",
    "print(X_embedded[1])"
   ]
  },
  {
   "cell_type": "markdown",
   "metadata": {},
   "source": [
    "# Q4"
   ]
  },
  {
   "cell_type": "code",
   "execution_count": 16,
   "metadata": {
    "collapsed": true
   },
   "outputs": [],
   "source": [
    "X_train, X_test, y_train, y_test = train_test_split(\n",
    "    X, y, test_size=0.20, random_state=42)"
   ]
  },
  {
   "cell_type": "code",
   "execution_count": 17,
   "metadata": {},
   "outputs": [
    {
     "name": "stdout",
     "output_type": "stream",
     "text": [
      "(57, 7129)\n",
      "(15, 7129)\n",
      "(57,)\n",
      "(15,)\n"
     ]
    }
   ],
   "source": [
    "print(X_train.shape)\n",
    "print(X_test.shape)\n",
    "print(y_train.shape)\n",
    "print(y_test.shape)"
   ]
  },
  {
   "cell_type": "markdown",
   "metadata": {},
   "source": [
    "# Q4\n",
    "* D'après le formule du cours on voit une différence de 1/n par rapport au solveur.\n",
    "* Après avoir développé j'obtiens (lambda)' = 1/n(lambda)"
   ]
  },
  {
   "cell_type": "markdown",
   "metadata": {},
   "source": [
    "# Q5"
   ]
  },
  {
   "cell_type": "code",
   "execution_count": 18,
   "metadata": {},
   "outputs": [
    {
     "name": "stdout",
     "output_type": "stream",
     "text": [
      "L'erreur quadratique de prediction = :  0.37515768192\n"
     ]
    },
    {
     "data": {
      "image/png": "[encoded data removed]",
      "text/plain": [
       "<matplotlib.figure.Figure at 0x7f48848724a8>"
      ]
     },
     "metadata": {},
     "output_type": "display_data"
    }
   ],
   "source": [
    "fig = plt.figure(figsize=(12, 8))\n",
    "\n",
    "A = np.dot(X.T, y)\n",
    "lambda_prime_zero = (np.linalg.norm(A, ord=np.inf)) / (X.shape[0])\n",
    "\n",
    "delta = 2\n",
    "T = 17\n",
    "L_prime = []\n",
    "\n",
    "for t in range(0, 17):\n",
    "    L_prime.append(lambda_prime_zero * 10**((-delta * t) / (T - 1)))\n",
    "model = LassoCV(n_alphas=17, alphas=L_prime, cv=4,\n",
    "                fit_intercept=False).fit(X_train, y_train)\n",
    "\n",
    "\n",
    "# Calcul de l'erreur de prediction moyenne quadratique\n",
    "erreur = ((np.linalg.norm(model.predict(X_test) - y_test))**2) / (X_test.shape[0])\n",
    "print(\"L'erreur quadratique de prediction = : \", erreur)\n",
    "plt.semilogx(model.alphas_, model.mse_path_, ':')\n",
    "\n",
    "plt.axvline(-np.log10(model.alpha_), linestyle='--', color='k',\n",
    "            label='alpha')\n",
    "\n",
    "plt.legend()\n",
    "\n",
    "plt.xlabel('-log de Lambda_prime')\n",
    "plt.title('Erreur quadratique de prédiction')\n",
    "plt.axis('tight')\n",
    "plt.show()"
   ]
  },
  {
   "cell_type": "markdown",
   "metadata": {},
   "source": [
    "# Q6"
   ]
  },
  {
   "cell_type": "markdown",
   "metadata": {},
   "source": [
    "$\\widehat{\\sigma} = \\sqrt{\\frac{1}{n}\\left\\|X\\widehat{\\theta}-y\\right\\|^2_2} $"
   ]
  },
  {
   "cell_type": "code",
   "execution_count": 19,
   "metadata": {},
   "outputs": [
    {
     "name": "stdout",
     "output_type": "stream",
     "text": [
      "Sigma chapeau =  0.397677157733\n"
     ]
    }
   ],
   "source": [
    "epsilon = np.linalg.norm(model.predict(X_test) - y_test) / (X_test.shape[0])\n",
    "sigma = np.sqrt(epsilon)\n",
    "print(\"Sigma chapeau = \", sigma)"
   ]
  },
  {
   "cell_type": "markdown",
   "metadata": {},
   "source": [
    "# Q7"
   ]
  },
  {
   "cell_type": "code",
   "execution_count": 20,
   "metadata": {
    "collapsed": true
   },
   "outputs": [],
   "source": [
    "def Lasso_Seuille(X_train, y_train, L_prime, tau):\n",
    "    theta = LassoCV(n_alphas=T, alphas=L_prime, cv=4,\n",
    "                    fit_intercept=False).fit(X_train, y_train).coef_\n",
    "\n",
    "    S = []\n",
    "\n",
    "    for j in range(1, X_train.shape[1]):\n",
    "        if abs(theta[j]) > tau:\n",
    "            S.append(j)\n",
    "    if len(S) == 0:\n",
    "        return S\n",
    "    skl_linmod = lm.LinearRegression()\n",
    "    skl_linmod.fit(X_train[:, S], y_train)\n",
    "    theta_LassoCV = skl_linmod.coef_\n",
    "    return theta_LassoCV, S"
   ]
  },
  {
   "cell_type": "code",
   "execution_count": 21,
   "metadata": {},
   "outputs": [
    {
     "data": {
      "text/plain": [
       "(array([-0.07130544, -0.18779006,  0.00283168, -0.07402815, -0.16366662,\n",
       "         0.1131717 , -0.00580481, -0.29001752, -0.27372258, -0.1499686 ,\n",
       "         0.0528462 ]),\n",
       " [1778, 1833, 2019, 2287, 3713, 3721, 4195, 4846, 4950, 6538, 6854])"
      ]
     },
     "execution_count": 21,
     "metadata": {},
     "output_type": "execute_result"
    }
   ],
   "source": [
    "Lasso_Seuille(X_train, y_train, L_prime, 0.01)"
   ]
  },
  {
   "cell_type": "markdown",
   "metadata": {},
   "source": [
    "# Q8"
   ]
  },
  {
   "cell_type": "code",
   "execution_count": 51,
   "metadata": {},
   "outputs": [
    {
     "name": "stdout",
     "output_type": "stream",
     "text": [
      "tau = 0.01\n",
      "Erreur =  0.317689898694\n",
      "tau = 0.025\n",
      "Erreur =  0.237547956737\n",
      "tau = 0.05\n",
      "Erreur =  0.258652945713\n",
      "tau = 0.075\n"
     ]
    },
    {
     "name": "stderr",
     "output_type": "stream",
     "text": [
      "/home/robin/anaconda3/lib/python3.6/site-packages/sklearn/linear_model/coordinate_descent.py:491: ConvergenceWarning: Objective did not converge. You might want to increase the number of iterations. Fitting data with very small alpha may cause precision problems.\n",
      "  ConvergenceWarning)\n"
     ]
    },
    {
     "name": "stdout",
     "output_type": "stream",
     "text": [
      "Erreur =  0.440136973228\n",
      "tau = 0.1\n",
      "Erreur =  0.40481706293\n"
     ]
    }
   ],
   "source": [
    "tau = [0.01, 0.025, 0.05, 0.075, 0.1]\n",
    "for i in tau:\n",
    "    erreur_2 = 0\n",
    "    print(\"tau =\", i)\n",
    "    for j in range(0, 5):\n",
    "        X_train, X_test, y_train, y_test = train_test_split(\n",
    "            X, y, test_size=0.2)\n",
    "        LSeuille, S = Lasso_Seuille(X_train, y_train, L_prime, i)\n",
    "        epsilon = ((np.linalg.norm(X_test[:, S].dot(\n",
    "            LSeuille) - y_test))**2) / (X_test.shape[0])\n",
    "        erreur_2 += epsilon\n",
    "    erreur_2 = erreur_2 / 5.\n",
    "    print(\"Erreur = \", erreur_2)"
   ]
  },
  {
   "cell_type": "markdown",
   "metadata": {},
   "source": [
    "# Q9"
   ]
  },
  {
   "cell_type": "code",
   "execution_count": 35,
   "metadata": {},
   "outputs": [
    {
     "name": "stdout",
     "output_type": "stream",
     "text": [
      "Erreur obtenue par Lasso Seuillé =  0.557873719662\n",
      "Erreur obtenue par LassoCV :  0.409357332976\n",
      "Estimateur des moindres carrés :  2.46849185674\n"
     ]
    }
   ],
   "source": [
    "print(\"Erreur obtenue par Lasso Seuillé = \", erreur_2)\n",
    "\n",
    "model = LassoCV(n_alphas=T, alphas=L_prime, cv=4,\n",
    "                fit_intercept=False).fit(X_train, y_train)\n",
    "erreur_3 = ((np.linalg.norm(model.predict(X_test) - y_test))**2) / (X_test.shape[0])\n",
    "\n",
    "print(\"Erreur obtenue par LassoCV : \", erreur_3)\n",
    "\n",
    "skl_linmod = lm.LinearRegression(fit_intercept=False)\n",
    "skl_linmod.fit(X_train, y_train,)\n",
    "\n",
    "\n",
    "erreur_4 = ((np.linalg.norm(skl_linmod.predict(X_test) - y_test))**2) / (X_test.shape[0])\n",
    "print(\"Estimateur des moindres carrés : \", erreur_4)"
   ]
  },
  {
   "cell_type": "markdown",
   "metadata": {},
   "source": [
    "# Q10"
   ]
  },
  {
   "cell_type": "code",
   "execution_count": 39,
   "metadata": {},
   "outputs": [
    {
     "name": "stdout",
     "output_type": "stream",
     "text": [
      "tau = 0.01\n",
      "Erreur =  0.273798821382\n",
      "tau = 0.025\n",
      "Erreur =  0.238975162376\n",
      "tau = 0.05\n",
      "Erreur =  0.237648278416\n",
      "tau = 0.075\n",
      "Erreur =  0.421009698773\n",
      "tau = 0.1\n",
      "Erreur =  0.359306556909\n"
     ]
    }
   ],
   "source": [
    "def Lasso_Seuille(X_train, y_train, L_prime, tau):\n",
    "    theta = LassoCV(n_alphas=T, alphas=L_prime, cv=4,\n",
    "                    fit_intercept=True).fit(X_train, y_train).coef_ # Intercept à True\n",
    "\n",
    "    S = []\n",
    "\n",
    "    for j in range(1, X_train.shape[1]):\n",
    "        if abs(theta[j]) > tau:\n",
    "            S.append(j)\n",
    "    if len(S) == 0:\n",
    "        return S\n",
    "    skl_linmod = lm.LinearRegression()\n",
    "    skl_linmod.fit(X_train[:, S], y_train)\n",
    "    theta_LassoCV = skl_linmod.coef_\n",
    "    return theta_LassoCV, S\n",
    "\n",
    "\n",
    "tau = [0.01, 0.025, 0.05, 0.075, 0.1]\n",
    "theta = []\n",
    "cpt = 0\n",
    "for i in tau:\n",
    "    erreur_5 = 0\n",
    "    print(\"tau =\", i)\n",
    "    for j in range(0, 5):\n",
    "        X_train, X_test, y_train, y_test = train_test_split(\n",
    "            X, y, test_size=0.2)\n",
    "        LSeuille, S = Lasso_Seuille(X_train, y_train, L_prime, i)\n",
    "        epsilon = ((np.linalg.norm(X_test[:, S].dot(\n",
    "            LSeuille) - y_test))**2) / (X_test.shape[0])\n",
    "        erreur_5 += epsilon\n",
    "    erreur_5 = erreur_5 / 5.\n",
    "    theta.append(erreur_5)\n",
    "    print(\"Erreur = \", theta[cpt])\n",
    "    cpt = cpt + 1"
   ]
  },
  {
   "cell_type": "code",
   "execution_count": 48,
   "metadata": {},
   "outputs": [
    {
     "name": "stdout",
     "output_type": "stream",
     "text": [
      "Erreur obtenue par Lasso Seuillé :  0.273798821382\n",
      "Erreur obtenue par LassoCV :  0.189114059648\n"
     ]
    }
   ],
   "source": [
    "print(\"Erreur obtenue par Lasso Seuillé : \", theta[0])\n",
    "\n",
    "model = LassoCV(n_alphas=T, alphas=L_prime, cv=4,\n",
    "                fit_intercept=True).fit(X_train, y_train)\n",
    "err_2 = ((np.linalg.norm(model.predict(X_test) - y_test))**2) /   (X_test.shape[0])\n",
    "\n",
    "print(\"Erreur obtenue par LassoCV : \", err_2)\n",
    "\n",
    "skl_linmod = lm.LinearRegression(fit_intercept=True)\n",
    "skl_linmod.fit(X_train, y_train,)\n",
    "err_3 = ((np.linalg.norm(skl_linmod.predict(X_test) - y_test))**2) / (X_test.shape[0])"
   ]
  }
 ],
 "metadata": {
  "kernelspec": {
   "display_name": "Python 3",
   "language": "python",
   "name": "python3"
  },
  "language_info": {
   "codemirror_mode": {
    "name": "ipython",
    "version": 3
   },
   "file_extension": ".py",
   "mimetype": "text/x-python",
   "name": "python",
   "nbconvert_exporter": "python",
   "pygments_lexer": "ipython3",
   "version": "3.6.1"
  }
 },
 "nbformat": 4,
 "nbformat_minor": 2
}
