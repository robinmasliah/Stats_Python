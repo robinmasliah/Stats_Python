{
 "cells": [
  {
   "cell_type": "markdown",
   "metadata": {},
   "source": [
    "# <center>SES722 - Projet d'Econométrie (Cours de Patrick Waelbroeck)</center>\n",
    "# <center>Robin Masliah & Alexandre Durand</center>\n",
    "# <center>Année 2017-2018</center>"
   ]
  },
  {
   "cell_type": "code",
   "execution_count": 1,
   "metadata": {},
   "outputs": [
    {
     "name": "stderr",
     "output_type": "stream",
     "text": [
      "/home/robin/anaconda3/lib/python3.6/site-packages/statsmodels/compat/pandas.py:56: FutureWarning: The pandas.core.datetools module is deprecated and will be removed in a future version. Please use the pandas.tseries module instead.\n",
      "  from pandas.core import datetools\n"
     ]
    }
   ],
   "source": [
    "import pandas as pd\n",
    "import numpy as np\n",
    "import scipy\n",
    "from scipy import stats\n",
    "from statsmodels.tsa.adfvalues import mackinnonp, mackinnoncrit\n",
    "from statsmodels.tsa.stattools import acf, pacf\n",
    "from statsmodels.tsa.ar_model import AR, ARResults\n",
    "\n",
    "from collections import namedtuple\n",
    "\n",
    "import matplotlib.pyplot as plt\n",
    "import seaborn as sns\n",
    "plt.style.use('seaborn')\n",
    "%matplotlib inline\n",
    "\n",
    "from IPython.display import Image\n",
    "import warnings\n",
    "warnings.filterwarnings(\"ignore\")"
   ]
  },
  {
   "cell_type": "markdown",
   "metadata": {},
   "source": [
    "Note pour plus tard : Pour ajouter un menu \n",
    "add_notebook_menu()\n",
    "http://www.xavierdupre.fr/app/mlstatpy/helpsphinx/notebooks/correlation_non_lineaire.html#un-peu-de-theorie"
   ]
  },
  {
   "cell_type": "markdown",
   "metadata": {},
   "source": [
    "---\n",
    "# <center>Partie 1. Régression</center>\n",
    "---"
   ]
  },
  {
   "cell_type": "markdown",
   "metadata": {},
   "source": [
    "## Question 1: \n",
    "**Lire le fichier mroz.txt. Ne sélectionner que les observations pour lesquelles la variable *wage* est strictement positive.**"
   ]
  },
  {
   "cell_type": "code",
   "execution_count": 2,
   "metadata": {},
   "outputs": [
    {
     "name": "stdout",
     "output_type": "stream",
     "text": [
      "MROZ.DES\r",
      "\r\n",
      "\r",
      "\r\n",
      "inlf      hours     kidslt6   kidsge6   age       educ      wage      repwage  \r",
      "\r\n",
      "hushrs    husage    huseduc   huswage   faminc    mtr       motheduc  \r",
      "\r\n",
      "fatheduc  unem      city      exper     nwifeinc  lwage     expersq   \r",
      "\r\n",
      "\r",
      "\r\n",
      "  Obs:   753\r",
      "\r\n",
      "\r",
      "\r\n",
      "  1. inlf                     =1 if in labor force, 1975\r",
      "\r\n",
      "  2. hours                    hours worked, 1975\r",
      "\r\n",
      "  3. kidslt6                  # kids < 6 years\r",
      "\r\n",
      "  4. kidsge6                  # kids 6-18\r",
      "\r\n",
      "  5. age                      woman's age in yrs\r",
      "\r\n",
      "  6. educ                     years of schooling\r",
      "\r\n",
      "  7. wage                     estimated wage from earns., hours\r",
      "\r\n",
      "  8. repwage                  reported wage at interview in 1976\r",
      "\r\n",
      "  9. hushrs                   hours worked by husband, 1975\r",
      "\r\n",
      " 10. husage                   husband's age\r",
      "\r\n",
      " 11. huseduc                  husband's years of schooling\r",
      "\r\n",
      " 12. huswage                  husband's hourly wage, 1975\r",
      "\r\n",
      " 13. faminc                   family income, 1975\r",
      "\r\n",
      " 14. mtr                      fed. marginal tax rate facing woman\r",
      "\r\n",
      " 15. motheduc                 mother's years of schooling\r",
      "\r\n",
      " 16. fatheduc                 father's years of schooling\r",
      "\r\n",
      " 17. unem                     unem. rate in county of resid.\r",
      "\r\n",
      " 18. city                     =1 if live in SMSA\r",
      "\r\n",
      " 19. exper                    actual labor mkt exper\r",
      "\r\n",
      " 20. nwifeinc                 (faminc - wage*hours)/1000\r",
      "\r\n",
      " 21. lwage                    log(wage)\r",
      "\r\n",
      " 22. expersq                  exper^2\r",
      "\r\n",
      "\r",
      "\r\n"
     ]
    }
   ],
   "source": [
    "! cat ./data/MROZ.DES"
   ]
  },
  {
   "cell_type": "code",
   "execution_count": 3,
   "metadata": {},
   "outputs": [],
   "source": [
    "#filepath = \"/home/robin/Bureau/projet ses722/MROZ.raw\"\n",
    "filepath = \"./data/MROZ.raw\"\n",
    "\n",
    "header = ['inlf', 'hours', 'kidslt6', 'kidsge6', 'age', 'educ', 'wage',\n",
    "          'repwage', 'hushrs', 'husage', 'huseduc', 'huswage', 'faminc', 'mtr',\n",
    "          'motheduc', 'fatheduc', 'unem', 'city', 'exper', 'nwifeinc', 'lwage', 'expersq']\n",
    "\n",
    "df_mroz_imported = pd.read_table(filepath, sep=\"\\s+\", header=None, names=header)"
   ]
  },
  {
   "cell_type": "code",
   "execution_count": 4,
   "metadata": {},
   "outputs": [
    {
     "name": "stdout",
     "output_type": "stream",
     "text": [
      "Nombre d'observations restantes = 428\n"
     ]
    }
   ],
   "source": [
    "# Ne sélectionner que les observations pour lesquelles la variable wage est strictement positive.\n",
    "df_mroz = df_mroz_imported[df_mroz_imported['wage'] > 0]\n",
    "print(\"Nombre d'observations restantes =\", len(df_mroz))"
   ]
  },
  {
   "cell_type": "code",
   "execution_count": 5,
   "metadata": {},
   "outputs": [
    {
     "data": {
      "text/html": [
       "<div>\n",
       "<style scoped>\n",
       "    .dataframe tbody tr th:only-of-type {\n",
       "        vertical-align: middle;\n",
       "    }\n",
       "\n",
       "    .dataframe tbody tr th {\n",
       "        vertical-align: top;\n",
       "    }\n",
       "\n",
       "    .dataframe thead th {\n",
       "        text-align: right;\n",
       "    }\n",
       "</style>\n",
       "<table border=\"1\" class=\"dataframe\">\n",
       "  <thead>\n",
       "    <tr style=\"text-align: right;\">\n",
       "      <th></th>\n",
       "      <th>inlf</th>\n",
       "      <th>hours</th>\n",
       "      <th>kidslt6</th>\n",
       "      <th>kidsge6</th>\n",
       "      <th>age</th>\n",
       "      <th>educ</th>\n",
       "      <th>wage</th>\n",
       "      <th>repwage</th>\n",
       "      <th>hushrs</th>\n",
       "      <th>husage</th>\n",
       "      <th>...</th>\n",
       "      <th>faminc</th>\n",
       "      <th>mtr</th>\n",
       "      <th>motheduc</th>\n",
       "      <th>fatheduc</th>\n",
       "      <th>unem</th>\n",
       "      <th>city</th>\n",
       "      <th>exper</th>\n",
       "      <th>nwifeinc</th>\n",
       "      <th>lwage</th>\n",
       "      <th>expersq</th>\n",
       "    </tr>\n",
       "  </thead>\n",
       "  <tbody>\n",
       "    <tr>\n",
       "      <th>0</th>\n",
       "      <td>1</td>\n",
       "      <td>1610</td>\n",
       "      <td>1</td>\n",
       "      <td>0</td>\n",
       "      <td>32</td>\n",
       "      <td>12</td>\n",
       "      <td>3.3540</td>\n",
       "      <td>2.65</td>\n",
       "      <td>2708</td>\n",
       "      <td>34</td>\n",
       "      <td>...</td>\n",
       "      <td>16310</td>\n",
       "      <td>0.7215</td>\n",
       "      <td>12</td>\n",
       "      <td>7</td>\n",
       "      <td>5.0</td>\n",
       "      <td>0</td>\n",
       "      <td>14</td>\n",
       "      <td>10.910060</td>\n",
       "      <td>1.210154</td>\n",
       "      <td>196</td>\n",
       "    </tr>\n",
       "    <tr>\n",
       "      <th>1</th>\n",
       "      <td>1</td>\n",
       "      <td>1656</td>\n",
       "      <td>0</td>\n",
       "      <td>2</td>\n",
       "      <td>30</td>\n",
       "      <td>12</td>\n",
       "      <td>1.3889</td>\n",
       "      <td>2.65</td>\n",
       "      <td>2310</td>\n",
       "      <td>30</td>\n",
       "      <td>...</td>\n",
       "      <td>21800</td>\n",
       "      <td>0.6615</td>\n",
       "      <td>7</td>\n",
       "      <td>7</td>\n",
       "      <td>11.0</td>\n",
       "      <td>1</td>\n",
       "      <td>5</td>\n",
       "      <td>19.499980</td>\n",
       "      <td>0.328512</td>\n",
       "      <td>25</td>\n",
       "    </tr>\n",
       "    <tr>\n",
       "      <th>2</th>\n",
       "      <td>1</td>\n",
       "      <td>1980</td>\n",
       "      <td>1</td>\n",
       "      <td>3</td>\n",
       "      <td>35</td>\n",
       "      <td>12</td>\n",
       "      <td>4.5455</td>\n",
       "      <td>4.04</td>\n",
       "      <td>3072</td>\n",
       "      <td>40</td>\n",
       "      <td>...</td>\n",
       "      <td>21040</td>\n",
       "      <td>0.6915</td>\n",
       "      <td>12</td>\n",
       "      <td>7</td>\n",
       "      <td>5.0</td>\n",
       "      <td>0</td>\n",
       "      <td>15</td>\n",
       "      <td>12.039910</td>\n",
       "      <td>1.514138</td>\n",
       "      <td>225</td>\n",
       "    </tr>\n",
       "    <tr>\n",
       "      <th>3</th>\n",
       "      <td>1</td>\n",
       "      <td>456</td>\n",
       "      <td>0</td>\n",
       "      <td>3</td>\n",
       "      <td>34</td>\n",
       "      <td>12</td>\n",
       "      <td>1.0965</td>\n",
       "      <td>3.25</td>\n",
       "      <td>1920</td>\n",
       "      <td>53</td>\n",
       "      <td>...</td>\n",
       "      <td>7300</td>\n",
       "      <td>0.7815</td>\n",
       "      <td>7</td>\n",
       "      <td>7</td>\n",
       "      <td>5.0</td>\n",
       "      <td>0</td>\n",
       "      <td>6</td>\n",
       "      <td>6.799996</td>\n",
       "      <td>0.092123</td>\n",
       "      <td>36</td>\n",
       "    </tr>\n",
       "    <tr>\n",
       "      <th>4</th>\n",
       "      <td>1</td>\n",
       "      <td>1568</td>\n",
       "      <td>1</td>\n",
       "      <td>2</td>\n",
       "      <td>31</td>\n",
       "      <td>14</td>\n",
       "      <td>4.5918</td>\n",
       "      <td>3.60</td>\n",
       "      <td>2000</td>\n",
       "      <td>32</td>\n",
       "      <td>...</td>\n",
       "      <td>27300</td>\n",
       "      <td>0.6215</td>\n",
       "      <td>12</td>\n",
       "      <td>14</td>\n",
       "      <td>9.5</td>\n",
       "      <td>1</td>\n",
       "      <td>7</td>\n",
       "      <td>20.100060</td>\n",
       "      <td>1.524272</td>\n",
       "      <td>49</td>\n",
       "    </tr>\n",
       "  </tbody>\n",
       "</table>\n",
       "<p>5 rows × 22 columns</p>\n",
       "</div>"
      ],
      "text/plain": [
       "   inlf  hours  kidslt6  kidsge6  age  educ    wage  repwage  hushrs  husage  \\\n",
       "0     1   1610        1        0   32    12  3.3540     2.65    2708      34   \n",
       "1     1   1656        0        2   30    12  1.3889     2.65    2310      30   \n",
       "2     1   1980        1        3   35    12  4.5455     4.04    3072      40   \n",
       "3     1    456        0        3   34    12  1.0965     3.25    1920      53   \n",
       "4     1   1568        1        2   31    14  4.5918     3.60    2000      32   \n",
       "\n",
       "    ...     faminc     mtr  motheduc  fatheduc  unem  city  exper   nwifeinc  \\\n",
       "0   ...      16310  0.7215        12         7   5.0     0     14  10.910060   \n",
       "1   ...      21800  0.6615         7         7  11.0     1      5  19.499980   \n",
       "2   ...      21040  0.6915        12         7   5.0     0     15  12.039910   \n",
       "3   ...       7300  0.7815         7         7   5.0     0      6   6.799996   \n",
       "4   ...      27300  0.6215        12        14   9.5     1      7  20.100060   \n",
       "\n",
       "      lwage  expersq  \n",
       "0  1.210154      196  \n",
       "1  0.328512       25  \n",
       "2  1.514138      225  \n",
       "3  0.092123       36  \n",
       "4  1.524272       49  \n",
       "\n",
       "[5 rows x 22 columns]"
      ]
     },
     "execution_count": 5,
     "metadata": {},
     "output_type": "execute_result"
    }
   ],
   "source": [
    "# Display first 5 rows\n",
    "df_mroz.head()"
   ]
  },
  {
   "cell_type": "markdown",
   "metadata": {},
   "source": [
    "## Question 2 :\n",
    "\n",
    "**Faire les statistiques descriptives du salaire, de l’age et de l’éducation pour l’ensemble des femmes puis, pour les femmes dont le salaire du mari est supérieure à la médiane de l’échantillon, puis pour les femmes dont le salaire du mari est inférieur à la médiane de l’échantillon**"
   ]
  },
  {
   "cell_type": "code",
   "execution_count": 6,
   "metadata": {},
   "outputs": [
    {
     "name": "stdout",
     "output_type": "stream",
     "text": [
      "Pour l’ensemble des femmes :\n"
     ]
    },
    {
     "data": {
      "text/html": [
       "<div>\n",
       "<style scoped>\n",
       "    .dataframe tbody tr th:only-of-type {\n",
       "        vertical-align: middle;\n",
       "    }\n",
       "\n",
       "    .dataframe tbody tr th {\n",
       "        vertical-align: top;\n",
       "    }\n",
       "\n",
       "    .dataframe thead th {\n",
       "        text-align: right;\n",
       "    }\n",
       "</style>\n",
       "<table border=\"1\" class=\"dataframe\">\n",
       "  <thead>\n",
       "    <tr style=\"text-align: right;\">\n",
       "      <th></th>\n",
       "      <th>wage</th>\n",
       "      <th>age</th>\n",
       "      <th>educ</th>\n",
       "    </tr>\n",
       "  </thead>\n",
       "  <tbody>\n",
       "    <tr>\n",
       "      <th>count</th>\n",
       "      <td>428.000000</td>\n",
       "      <td>428.000000</td>\n",
       "      <td>428.000000</td>\n",
       "    </tr>\n",
       "    <tr>\n",
       "      <th>mean</th>\n",
       "      <td>4.177682</td>\n",
       "      <td>41.971963</td>\n",
       "      <td>12.658879</td>\n",
       "    </tr>\n",
       "    <tr>\n",
       "      <th>std</th>\n",
       "      <td>3.310282</td>\n",
       "      <td>7.721084</td>\n",
       "      <td>2.285376</td>\n",
       "    </tr>\n",
       "    <tr>\n",
       "      <th>min</th>\n",
       "      <td>0.128200</td>\n",
       "      <td>30.000000</td>\n",
       "      <td>5.000000</td>\n",
       "    </tr>\n",
       "    <tr>\n",
       "      <th>25%</th>\n",
       "      <td>2.262600</td>\n",
       "      <td>35.000000</td>\n",
       "      <td>12.000000</td>\n",
       "    </tr>\n",
       "    <tr>\n",
       "      <th>50%</th>\n",
       "      <td>3.481900</td>\n",
       "      <td>42.000000</td>\n",
       "      <td>12.000000</td>\n",
       "    </tr>\n",
       "    <tr>\n",
       "      <th>75%</th>\n",
       "      <td>4.970750</td>\n",
       "      <td>47.250000</td>\n",
       "      <td>14.000000</td>\n",
       "    </tr>\n",
       "    <tr>\n",
       "      <th>max</th>\n",
       "      <td>25.000000</td>\n",
       "      <td>60.000000</td>\n",
       "      <td>17.000000</td>\n",
       "    </tr>\n",
       "  </tbody>\n",
       "</table>\n",
       "</div>"
      ],
      "text/plain": [
       "             wage         age        educ\n",
       "count  428.000000  428.000000  428.000000\n",
       "mean     4.177682   41.971963   12.658879\n",
       "std      3.310282    7.721084    2.285376\n",
       "min      0.128200   30.000000    5.000000\n",
       "25%      2.262600   35.000000   12.000000\n",
       "50%      3.481900   42.000000   12.000000\n",
       "75%      4.970750   47.250000   14.000000\n",
       "max     25.000000   60.000000   17.000000"
      ]
     },
     "execution_count": 6,
     "metadata": {},
     "output_type": "execute_result"
    }
   ],
   "source": [
    "print(\"Pour l’ensemble des femmes :\")\n",
    "df_mroz[['wage', 'age', 'educ']].describe()"
   ]
  },
  {
   "cell_type": "code",
   "execution_count": 7,
   "metadata": {},
   "outputs": [
    {
     "name": "stdout",
     "output_type": "stream",
     "text": [
      "Pour l’ensemble des femmes dont le salaire du mari est supérieure à la médiane de l’échantillon :\n"
     ]
    },
    {
     "data": {
      "text/html": [
       "<div>\n",
       "<style scoped>\n",
       "    .dataframe tbody tr th:only-of-type {\n",
       "        vertical-align: middle;\n",
       "    }\n",
       "\n",
       "    .dataframe tbody tr th {\n",
       "        vertical-align: top;\n",
       "    }\n",
       "\n",
       "    .dataframe thead th {\n",
       "        text-align: right;\n",
       "    }\n",
       "</style>\n",
       "<table border=\"1\" class=\"dataframe\">\n",
       "  <thead>\n",
       "    <tr style=\"text-align: right;\">\n",
       "      <th></th>\n",
       "      <th>wage</th>\n",
       "      <th>age</th>\n",
       "      <th>educ</th>\n",
       "    </tr>\n",
       "  </thead>\n",
       "  <tbody>\n",
       "    <tr>\n",
       "      <th>count</th>\n",
       "      <td>214.000000</td>\n",
       "      <td>214.000000</td>\n",
       "      <td>214.000000</td>\n",
       "    </tr>\n",
       "    <tr>\n",
       "      <th>mean</th>\n",
       "      <td>4.896822</td>\n",
       "      <td>42.275701</td>\n",
       "      <td>13.242991</td>\n",
       "    </tr>\n",
       "    <tr>\n",
       "      <th>std</th>\n",
       "      <td>4.041606</td>\n",
       "      <td>7.388843</td>\n",
       "      <td>2.359045</td>\n",
       "    </tr>\n",
       "    <tr>\n",
       "      <th>min</th>\n",
       "      <td>0.161600</td>\n",
       "      <td>30.000000</td>\n",
       "      <td>5.000000</td>\n",
       "    </tr>\n",
       "    <tr>\n",
       "      <th>25%</th>\n",
       "      <td>2.513850</td>\n",
       "      <td>36.000000</td>\n",
       "      <td>12.000000</td>\n",
       "    </tr>\n",
       "    <tr>\n",
       "      <th>50%</th>\n",
       "      <td>3.846400</td>\n",
       "      <td>43.000000</td>\n",
       "      <td>12.000000</td>\n",
       "    </tr>\n",
       "    <tr>\n",
       "      <th>75%</th>\n",
       "      <td>5.854125</td>\n",
       "      <td>48.000000</td>\n",
       "      <td>16.000000</td>\n",
       "    </tr>\n",
       "    <tr>\n",
       "      <th>max</th>\n",
       "      <td>25.000000</td>\n",
       "      <td>59.000000</td>\n",
       "      <td>17.000000</td>\n",
       "    </tr>\n",
       "  </tbody>\n",
       "</table>\n",
       "</div>"
      ],
      "text/plain": [
       "             wage         age        educ\n",
       "count  214.000000  214.000000  214.000000\n",
       "mean     4.896822   42.275701   13.242991\n",
       "std      4.041606    7.388843    2.359045\n",
       "min      0.161600   30.000000    5.000000\n",
       "25%      2.513850   36.000000   12.000000\n",
       "50%      3.846400   43.000000   12.000000\n",
       "75%      5.854125   48.000000   16.000000\n",
       "max     25.000000   59.000000   17.000000"
      ]
     },
     "execution_count": 7,
     "metadata": {},
     "output_type": "execute_result"
    }
   ],
   "source": [
    "print(\"Pour l’ensemble des femmes dont le salaire du mari est supérieure à la médiane de l’échantillon :\")\n",
    "condition = df_mroz['huswage'] > df_mroz['huswage'].median()\n",
    "df_mroz[condition][['wage', 'age', 'educ']].describe()"
   ]
  },
  {
   "cell_type": "code",
   "execution_count": 8,
   "metadata": {},
   "outputs": [
    {
     "name": "stdout",
     "output_type": "stream",
     "text": [
      "Pour l’ensemble des femmes dont le salaire du mari est inférieur à la médiane de l’échantillon :\n"
     ]
    },
    {
     "data": {
      "text/html": [
       "<div>\n",
       "<style scoped>\n",
       "    .dataframe tbody tr th:only-of-type {\n",
       "        vertical-align: middle;\n",
       "    }\n",
       "\n",
       "    .dataframe tbody tr th {\n",
       "        vertical-align: top;\n",
       "    }\n",
       "\n",
       "    .dataframe thead th {\n",
       "        text-align: right;\n",
       "    }\n",
       "</style>\n",
       "<table border=\"1\" class=\"dataframe\">\n",
       "  <thead>\n",
       "    <tr style=\"text-align: right;\">\n",
       "      <th></th>\n",
       "      <th>wage</th>\n",
       "      <th>age</th>\n",
       "      <th>educ</th>\n",
       "    </tr>\n",
       "  </thead>\n",
       "  <tbody>\n",
       "    <tr>\n",
       "      <th>count</th>\n",
       "      <td>214.000000</td>\n",
       "      <td>214.000000</td>\n",
       "      <td>214.000000</td>\n",
       "    </tr>\n",
       "    <tr>\n",
       "      <th>mean</th>\n",
       "      <td>3.458541</td>\n",
       "      <td>41.668224</td>\n",
       "      <td>12.074766</td>\n",
       "    </tr>\n",
       "    <tr>\n",
       "      <th>std</th>\n",
       "      <td>2.143274</td>\n",
       "      <td>8.045482</td>\n",
       "      <td>2.054200</td>\n",
       "    </tr>\n",
       "    <tr>\n",
       "      <th>min</th>\n",
       "      <td>0.128200</td>\n",
       "      <td>30.000000</td>\n",
       "      <td>6.000000</td>\n",
       "    </tr>\n",
       "    <tr>\n",
       "      <th>25%</th>\n",
       "      <td>2.117275</td>\n",
       "      <td>35.000000</td>\n",
       "      <td>12.000000</td>\n",
       "    </tr>\n",
       "    <tr>\n",
       "      <th>50%</th>\n",
       "      <td>2.971800</td>\n",
       "      <td>41.000000</td>\n",
       "      <td>12.000000</td>\n",
       "    </tr>\n",
       "    <tr>\n",
       "      <th>75%</th>\n",
       "      <td>4.393800</td>\n",
       "      <td>47.000000</td>\n",
       "      <td>12.000000</td>\n",
       "    </tr>\n",
       "    <tr>\n",
       "      <th>max</th>\n",
       "      <td>18.267000</td>\n",
       "      <td>60.000000</td>\n",
       "      <td>17.000000</td>\n",
       "    </tr>\n",
       "  </tbody>\n",
       "</table>\n",
       "</div>"
      ],
      "text/plain": [
       "             wage         age        educ\n",
       "count  214.000000  214.000000  214.000000\n",
       "mean     3.458541   41.668224   12.074766\n",
       "std      2.143274    8.045482    2.054200\n",
       "min      0.128200   30.000000    6.000000\n",
       "25%      2.117275   35.000000   12.000000\n",
       "50%      2.971800   41.000000   12.000000\n",
       "75%      4.393800   47.000000   12.000000\n",
       "max     18.267000   60.000000   17.000000"
      ]
     },
     "execution_count": 8,
     "metadata": {},
     "output_type": "execute_result"
    }
   ],
   "source": [
    "print(\"Pour l’ensemble des femmes dont le salaire du mari est inférieur à la médiane de l’échantillon :\")\n",
    "condition = df_mroz['huswage'] < df_mroz['huswage'].median()\n",
    "df_mroz[condition][['wage', 'age', 'educ']].describe()"
   ]
  },
  {
   "cell_type": "markdown",
   "metadata": {},
   "source": [
    "#### Conclusion :\n",
    "> Les femmes dont le mari possède un bon salaire (ç-à-d supérieur à la médiane de l’échantillon) ont :\n",
    "- un salaire moyen supérieure au salaire moyen de l'ensemble des femmes\n",
    "- un age moyen supérieure à l'age moyen de l'ensemble des femmes\n",
    "- un niveau d'éducation moyen supérieure au niveau d'éducation moyen de l'ensemble des femmes.\n",
    "\n",
    ">  \n",
    "\n",
    "> Si on regarde ces mêmes statistiques pour les femmes dont le mari a un moins bon salaire (inférieure à la médiane de l’échantillon) :\n",
    "- on remarque que c'est l'inverse."
   ]
  },
  {
   "cell_type": "markdown",
   "metadata": {},
   "source": [
    "## Question 3 :\n",
    "\n",
    "**Faire l'histogramme de la variable wage. Calculer le log de wage et faire l'histogramme. Comparez les deux histogrammes et commentez**"
   ]
  },
  {
   "cell_type": "code",
   "execution_count": 9,
   "metadata": {
    "collapsed": true
   },
   "outputs": [],
   "source": [
    "# Définition d'une fonction générique\n",
    "def make_histo(var):\n",
    "    fig = plt.figure(figsize=(8,6))\n",
    "    sns.distplot(var)\n",
    "    plt.ylabel(\"Fréquence\")\n",
    "    plt.title(\"Histogramme de la variable {}\".format(var.name), fontsize=14)\n",
    "    plt.show()"
   ]
  },
  {
   "cell_type": "code",
   "execution_count": 10,
   "metadata": {
    "scrolled": false
   },
   "outputs": [
    {
     "data": {
      "image/png": "[encoded data removed]",
      "text/plain": [
       "<matplotlib.figure.Figure at 0x7f73dd38c780>"
      ]
     },
     "metadata": {},
     "output_type": "display_data"
    },
    {
     "data": {
      "image/png": "[encoded data removed]",
      "text/plain": [
       "<matplotlib.figure.Figure at 0x7f73dd38c6d8>"
      ]
     },
     "metadata": {},
     "output_type": "display_data"
    }
   ],
   "source": [
    "make_histo(df_mroz['wage'])\n",
    "make_histo(df_mroz['lwage'])"
   ]
  },
  {
   "cell_type": "markdown",
   "metadata": {},
   "source": [
    "#### Comparaison & Interprétation :\n",
    "> Le salaire des femmes a une distribution log-normale : en effet, par une tranformation en log, on obtient une distribution d'une loi normale."
   ]
  },
  {
   "cell_type": "markdown",
   "metadata": {},
   "source": [
    "## Question 4 :\n",
    "\n",
    "**Calculer les corrélations *motheduc* et *fatheduc*. Commentez. Il y a-t-il un problème de multicolinéarité si l'on utilise ces variables comme variables explicatives ?**"
   ]
  },
  {
   "cell_type": "code",
   "execution_count": 11,
   "metadata": {},
   "outputs": [
    {
     "name": "stdout",
     "output_type": "stream",
     "text": [
      "Correlation de Pearson : 0.554063\n",
      "Correlation de Spearman : 0.550733\n"
     ]
    }
   ],
   "source": [
    "# Corrélations entre 'motheduc' et 'fatheduc'\n",
    "pearson_corr = df_mroz[['motheduc', 'fatheduc']].corr(method='pearson').iloc[0, 1]\n",
    "pearson_spear = df_mroz[['motheduc', 'fatheduc']].corr(method='spearman').iloc[0, 1]\n",
    "print(\"Correlation de Pearson : %.6f\" % pearson_corr)\n",
    "print(\"Correlation de Spearman : %.6f\" % pearson_spear)"
   ]
  },
  {
   "cell_type": "markdown",
   "metadata": {},
   "source": [
    "#### Conclusion :\n",
    "> Avec une telle valeur de corrélation, ces deux variables ne semblent pas corrélées. On ne peut justifier d'un problème de multicolinéarité."
   ]
  },
  {
   "cell_type": "markdown",
   "metadata": {},
   "source": [
    "## Question 5 :\n",
    "\n",
    "**Faites un graphique en nuage de point entre *wage* et *educ*, *wage* et *exper*, *wage* et *fatheduc*.  \n",
    "Commentez. S'agit-il d'un effet \"toute chose étant égale par ailleurs\" ?**"
   ]
  },
  {
   "cell_type": "code",
   "execution_count": 12,
   "metadata": {
    "scrolled": false
   },
   "outputs": [
    {
     "data": {
      "image/png": "[encoded data removed]",
      "text/plain": [
       "<matplotlib.figure.Figure at 0x7f73db261b38>"
      ]
     },
     "metadata": {},
     "output_type": "display_data"
    }
   ],
   "source": [
    "x_toPlot = [df_mroz['educ'], df_mroz['exper'], df_mroz['fatheduc']]\n",
    "y = df_mroz['wage']\n",
    "\n",
    "fig = plt.figure(figsize=(20, 20))\n",
    "for i, x in enumerate(x_toPlot):\n",
    "    plt.subplot(len(x_toPlot), len(x_toPlot), i+1)\n",
    "    sns.regplot(x, y)\n",
    "    plt.xlabel(x.name, fontsize=15)\n",
    "    plt.ylabel('wage', fontsize=15)  \n",
    "plt.show()"
   ]
  },
  {
   "cell_type": "code",
   "execution_count": 13,
   "metadata": {
    "collapsed": true
   },
   "outputs": [],
   "source": [
    "def compute_R2(X, y, add_intercept=True):\n",
    "    \n",
    "    # Add intercept if asked\n",
    "    if add_intercept:\n",
    "        X.insert(0, 'cste', 1)\n",
    "\n",
    "    # Linear regression : compute beta coeficients\n",
    "    beta = np.linalg.inv(X.T.dot(X)).dot(X.T).dot(y)\n",
    "    beta = beta.reshape(1, -1)\n",
    "    \n",
    "    # y_predicted\n",
    "    y_hat = X.dot(beta.T)\n",
    "    \n",
    "    # compute R2 (determination coefficient)\n",
    "    y = y.values\n",
    "    y_hat = y_hat.values.reshape(-1)\n",
    "    num = np.sum((y - y_hat)**2)\n",
    "    denum = np.sum((y -  y.mean())**2)\n",
    "    R2 = 1 - (num/denum)\n",
    "    return R2\n"
   ]
  },
  {
   "cell_type": "code",
   "execution_count": 14,
   "metadata": {},
   "outputs": [
    {
     "name": "stdout",
     "output_type": "stream",
     "text": [
      "R2 (coefficient de détermination) pour educ = 0.117883\n",
      "R2 (coefficient de détermination) pour exper = 0.028673\n",
      "R2 (coefficient de détermination) pour fatheduc = 0.006034\n"
     ]
    }
   ],
   "source": [
    "for X in [df_mroz[['educ']], df_mroz[['exper']], df_mroz[['fatheduc']]]:\n",
    "    R2 = compute_R2(X, df_mroz.lwage, add_intercept=True)\n",
    "    print(\"R2 (coefficient de détermination) pour {} = {:.6f}\".format(X.columns[-1], R2))"
   ]
  },
  {
   "cell_type": "markdown",
   "metadata": {},
   "source": [
    "#### Interprétation : \"tout chose étant égale par ailleurs\"\n",
    "\n",
    "> Il semble que chacune de ces trois variables ait un effet positif sur le salaire.\n",
    "\n",
    "> On remarque cependant que le niveau d'éducation possède un plus fort effet positif sur le salaire comparativement à l'expérience et au niveau d'éducation du père.\n",
    "\n",
    "> Pour chacune des 3 variables, le R2 est faible voire très faible. C'est-à-dire que ces variables, prises séparément, n'arrive pas à expliquer le salaire à elles seules.\n",
    "\n",
    "> Donc on ne peut pas dire qu'il s'agit d'un effet \"toute chose étant égale par ailleurs.\n"
   ]
  },
  {
   "cell_type": "markdown",
   "metadata": {},
   "source": [
    "## Question 6 :\n",
    "\n",
    "**Quelle est l'hypothèse fondamentale qui garantit des estimateurs non biaisés ? Expliquer le biais de variable omise.**"
   ]
  },
  {
   "cell_type": "markdown",
   "metadata": {},
   "source": [
    "> ###### L'hypothèse fondamentale est l'hypothèse d'homoscédasticité :\n",
    "  - Error variables have zero mean : $E(u) = 0$\n",
    "  - Conditional expectation = unconditional expectation\n",
    "  - X and u are uncorrelated : $E(u|x) = E(u) = 0$"
   ]
  },
  {
   "cell_type": "markdown",
   "metadata": {},
   "source": [
    "## Question 7 :\n",
    "\n",
    "**Faire la régression de *wage* en utilisant les variables explicatives : *constante*, *city*, *educ*, *exper*, *nwifeinc*, *kidslt6*, *kidsgt6*.  \n",
    "Commentez l'histogramme des résidus.**"
   ]
  },
  {
   "cell_type": "code",
   "execution_count": 15,
   "metadata": {
    "collapsed": true
   },
   "outputs": [],
   "source": [
    "# First, we define a useful function to compute residuals and plot histogramm\n",
    "def make_residuals_hist(X, y, add_intercept=True):\n",
    "    # Compute residuals\n",
    "    if add_intercept:\n",
    "        X.insert(0, 'cste', 1)\n",
    "    beta = np.linalg.inv(X.T.dot(X)).dot(X.T).dot(y)\n",
    "    u = y - X.dot(beta)\n",
    "    # Plot histogramm of residuals\n",
    "    plt.figure(figsize=(8,5))\n",
    "    plt.hist(u, bins='auto')\n",
    "    plt.xlabel(\"residus\")\n",
    "    plt.ylabel(\"Nombre d'observations\")\n",
    "    plt.title(\"Histogramme des résidus de la régression de {}\".format(y.name), fontsize=15)\n",
    "    plt.show()"
   ]
  },
  {
   "cell_type": "code",
   "execution_count": 16,
   "metadata": {},
   "outputs": [
    {
     "data": {
      "image/png": "[encoded data removed]",
      "text/plain": [
       "<matplotlib.figure.Figure at 0x7f73da906f28>"
      ]
     },
     "metadata": {},
     "output_type": "display_data"
    }
   ],
   "source": [
    "# wage\n",
    "y = df_mroz.wage\n",
    "X = df_mroz[['city', 'educ', 'exper', 'nwifeinc', 'kidslt6', 'kidsge6']]\n",
    "make_residuals_hist(X, y, add_intercept=True)"
   ]
  },
  {
   "cell_type": "markdown",
   "metadata": {},
   "source": [
    "#### Commentaire sur l'histogramme des résidus de *wage* :\n",
    "\n",
    "> Les résidus semblent avoir une moyenne nulle mais ne sont pas parfaitement centrés en zéro (la queue de distribution sur la droite est trop importante)."
   ]
  },
  {
   "cell_type": "markdown",
   "metadata": {},
   "source": [
    "## Question 8 :\n",
    "\n",
    "**Faire la régression de lwage (log de wage) sur une constante, city, educ, exper, nwifeinc, kidslt6, kidsgt6.   \n",
    "Comparer l’histogramme obtenu à celui de la question 7.**"
   ]
  },
  {
   "cell_type": "code",
   "execution_count": 17,
   "metadata": {},
   "outputs": [
    {
     "data": {
      "image/png": "[encoded data removed]",
      "text/plain": [
       "<matplotlib.figure.Figure at 0x7f73dad97dd8>"
      ]
     },
     "metadata": {},
     "output_type": "display_data"
    }
   ],
   "source": [
    "# log(wage)\n",
    "y = df_mroz.lwage\n",
    "X = df_mroz[['city', 'educ', 'exper', 'nwifeinc', 'kidslt6', 'kidsge6']]\n",
    "make_residuals_hist(X, y, add_intercept=True)"
   ]
  },
  {
   "cell_type": "markdown",
   "metadata": {},
   "source": [
    "#### Comparaison avec l'histogramme obtenu à la question précédente (qu. 7)\n",
    "> Avec *lwage* (log de *wage*), les résidus sont moins dispersés, mais également plus symétrique par rapport au zéro.\n",
    "\n",
    "> L'utilisation de *lwage* nous garantira un meilleur modèle."
   ]
  },
  {
   "cell_type": "markdown",
   "metadata": {},
   "source": [
    "---\n",
    "# Définition de deux fonctions utiles\n",
    "\n",
    "*Pour répondre à la question 9 ainsi qu'aux suivantes, nous avons créé deux fonctions utiles :  \n",
    " ```regression_residuals``` fait la régression et calcule les résidus ainsi que la somme de leurs carrés (SSR)  pour un modèle donné (avec possibilité de corriger le modèle via WLS),  \n",
    " ```compute_pValue``` calcule la p-valeur entre 2 modèles.*"
   ]
  },
  {
   "cell_type": "code",
   "execution_count": 18,
   "metadata": {
    "collapsed": true
   },
   "outputs": [],
   "source": [
    "def regression_residuals(X, y, add_intercept=True, wls_divisor=None, print_out=True):\n",
    "    \"\"\"\n",
    "    Do regression on the model y = beta * X and return :\n",
    "     degree of freedom, estimated coefficients, residuals, and sum of squared residuals.\n",
    "    \n",
    "    Parameters\n",
    "    ----------\n",
    "    X : array_like (pandas dataframe)\n",
    "        The features matrix (without intercept), of shape (number of observations, number of features).\n",
    "    \n",
    "    y : 1D array\n",
    "        The ouptput vector of the model, of shape (number of observations).\n",
    "    \n",
    "    add_intercept : bool, optional\n",
    "        If True, add an intercept to the model as first feature (β0).\n",
    "        Otherwise, it is not included. Defaults to True.\n",
    "    \n",
    "    wls_divisor : 1D array, optional\n",
    "        Value used to divide y and all features in X by this vector.\n",
    "        Used for Weighted Least Squares. Defaults to None (no WLS correction).\n",
    "    \n",
    "    print_out : bool, optional\n",
    "        If True, print some outputs. Defaults to True.\n",
    "\n",
    "    Returns\n",
    "    -------\n",
    "    model : a named tuple composed of :\n",
    "        - dof : scalar\n",
    "            The degree of freedom of the model.\n",
    "        - beta : 1D array\n",
    "            The estimated coefficients of the model.\n",
    "        - residuals: 1D array\n",
    "            The residuals of the models. Computed as : y - X*beta\n",
    "        - ssr : scalar\n",
    "            The sum of squared residuals\n",
    "        \n",
    "        ==> These different elements are accessible using : model.dof, model.beta, model.u, model.ssr\n",
    "    \"\"\"\n",
    "    \n",
    "    # Sanity check\n",
    "    assert X.shape[0] == y.shape[0], \"X and y don't have the same number of observations\"\n",
    "    \n",
    "    # Add intercept if asked\n",
    "    if add_intercept:\n",
    "        X.insert(0, 'cste', 1) #index of insertion, label, value to insert\n",
    "    \n",
    "    # If a WLS vector is given, use it as divisor\n",
    "    if wls_divisor is not None:\n",
    "        y = y / wls_divisor\n",
    "        X = np.divide(X, wls_divisor[:, np.newaxis])\n",
    "    \n",
    "    # Degrees of Freedom\n",
    "    n, k = X.shape\n",
    "    dof = n - k\n",
    "\n",
    "    # Linear regression : compute beta coeficients\n",
    "    beta = np.linalg.inv(X.T.dot(X)).dot(X.T).dot(y)\n",
    "    \n",
    "    # Residuals : u = y − X ∗ β\n",
    "    u = y - X.dot(beta)\n",
    "    \n",
    "    # Sum of Squared Residuals\n",
    "    ssr = u.T.dot(u)\n",
    "    \n",
    "    # Print results if asked\n",
    "    if print_out:\n",
    "        df_beta = pd.DataFrame(data=beta, index=X.columns, columns=['beta = '])\n",
    "        print(df_beta.T)   # .to_string(float_format=lambda x: '%.6f'%x)  # to change decimal's number to display\n",
    "        print()\n",
    "        print('dof = {}   (#obs:{} - #coeffs:{})'.format(dof, n, k))\n",
    "        print('ssr = {:.6f}'.format(ssr))\n",
    "    \n",
    "    # Create a namedtuple to return results\n",
    "    model = namedtuple(\"Model\", [\"dof\", \"beta\", \"u\", \"ssr\"])\n",
    "    \n",
    "    return model(dof, beta, u, ssr)\n",
    "    "
   ]
  },
  {
   "cell_type": "code",
   "execution_count": 19,
   "metadata": {
    "collapsed": true
   },
   "outputs": [],
   "source": [
    "def compute_pValue(Unrestricted_model, Restricted_model, print_res=True, return_res=False):\n",
    "    \n",
    "    # Get data from models\n",
    "    dof_r = Restricted_model.dof\n",
    "    ssr_r = Restricted_model.ssr\n",
    "    dof_ur = Unrestricted_model.dof\n",
    "    ssr_ur = Unrestricted_model.ssr\n",
    "    \n",
    "    # Compute p-value\n",
    "    q = dof_r - dof_ur\n",
    "    F = ((ssr_r - ssr_ur)/q)  /  (ssr_ur/dof_ur)\n",
    "    p_value = scipy.stats.f.sf(F, q, dof_ur)\n",
    "    \n",
    "    if print_res:\n",
    "        print(\"q =\", q)\n",
    "        print(\"F = {:.6f}\".format(F))\n",
    "        if p_value < 1e-6:\n",
    "            print(\" ==> p_value =\", p_value)  # format scientifique\n",
    "        else:\n",
    "            print(\" ==> p_value = {:.6f}\".format(p_value)) # format avec decimales\n",
    "    \n",
    "    if return_res:\n",
    "        return q, F, p_value\n",
    "    "
   ]
  },
  {
   "cell_type": "markdown",
   "metadata": {
    "collapsed": true
   },
   "source": [
    "---\n",
    "## Question 9 :\n",
    "\n",
    "**Tester l'hypothèse de non significativité de exper avec un seuil de significativité de 1%, 5% et 10% (test alternatif des deux côtés).  \n",
    "Commentez les p-values.**"
   ]
  },
  {
   "cell_type": "markdown",
   "metadata": {},
   "source": [
    "> Unrestricted model  \n",
    "$$ \\log(wage) = \\beta_0 + \\beta_1 city + \\beta_2 educ + \\beta_3 exper + \\beta_4 nwifeinc + \\beta_5 kidslt6 + \\beta_6 kidsge6 + u$$\n",
    "\n",
    "> \n",
    "\n",
    "> Restricted model with $H_0 : \\beta_3 = 0$  \n",
    "$$ \\log(wage) = \\beta_0 + \\beta_1 city + \\beta_2 educ + \\beta_4 nwifeinc + \\beta_5 kidslt6 + \\beta_6 kidsge6 + u$$"
   ]
  },
  {
   "cell_type": "code",
   "execution_count": 20,
   "metadata": {},
   "outputs": [
    {
     "name": "stdout",
     "output_type": "stream",
     "text": [
      "             cste      city      educ     exper  nwifeinc   kidslt6   kidsge6\n",
      "beta =  -0.398975  0.035268  0.102248  0.015488  0.004883 -0.045303 -0.011704\n",
      "\n",
      "dof = 421   (#obs:428 - #coeffs:7)\n",
      "ssr = 188.589980\n"
     ]
    }
   ],
   "source": [
    "### UNRESTRICTED MODEL\n",
    "y = df_mroz.lwage\n",
    "X = df_mroz[['city', 'educ', 'exper', 'nwifeinc', 'kidslt6', 'kidsge6']]\n",
    "\n",
    "Unrestricted_Model = regression_residuals(X, y, add_intercept=True)"
   ]
  },
  {
   "cell_type": "markdown",
   "metadata": {},
   "source": [
    "#### Commentaire sur le modèle non contraint :\n",
    "> On voit que la regression donne des valeurs positives pour $\\beta_1$, $\\beta_2$, $\\beta_3$ et $\\beta_4$. Ces variables ont un effet positif sur le salaire.  \n",
    "> A l'inverse, $\\beta_5$ et $\\beta_6$ sont négatifs, ce qui signifie qu'avoir des enfants a un impact négatif sur le salaire."
   ]
  },
  {
   "cell_type": "code",
   "execution_count": 21,
   "metadata": {},
   "outputs": [
    {
     "name": "stdout",
     "output_type": "stream",
     "text": [
      "             cste      city      educ  nwifeinc   kidslt6   kidsge6\n",
      "beta =  -0.120822  0.041669  0.103025  0.002958 -0.095958 -0.046221\n",
      "\n",
      "dof = 422   (#obs:428 - #coeffs:6)\n",
      "ssr = 193.927103\n"
     ]
    }
   ],
   "source": [
    "### RESTRICTED MODEL\n",
    "y = df_mroz.lwage\n",
    "X = df_mroz[['city', 'educ', 'nwifeinc', 'kidslt6', 'kidsge6']]\n",
    "\n",
    "Restricted_Model_q9 = regression_residuals(X, y, add_intercept=True)"
   ]
  },
  {
   "cell_type": "code",
   "execution_count": 22,
   "metadata": {},
   "outputs": [
    {
     "name": "stdout",
     "output_type": "stream",
     "text": [
      "q = 1\n",
      "F = 11.914359\n",
      " ==> p_value = 0.000613\n"
     ]
    }
   ],
   "source": [
    "compute_pValue(Unrestricted_Model, Restricted_Model_q9)"
   ]
  },
  {
   "cell_type": "markdown",
   "metadata": {},
   "source": [
    "#### Conclusion  :\n",
    "\n",
    "> Ici, p-value < 0.01 < 0.05 < 0.1 donc on rejette $H_0$ ('exper' non significatif) à 1%, 5% et 10%.  \n",
    "Il semble donc que l'expérience a un impact sur le salaire.\n",
    "\n",
    "#### p-valeur (source: wikipedia)  \n",
    "> Ce nombre est utilisé en statistiques inférentielles pour conclure sur le résultat d’un test statistique. La procédure généralement employée consiste à comparer la valeur-p à un seuil préalablement défini (traditionnellement 5 %). Si la valeur-p est inférieure à ce seuil, on rejette l'hypothèse nulle en faveur de l’hypothèse alternative, et le résultat du test est déclaré « statistiquement significatif ». Dans le cas contraire, si la valeur-p est supérieure au seuil, on ne rejette pas l’hypothèse nulle, et on ne peut rien conclure quant aux hypothèses formulées.\n"
   ]
  },
  {
   "cell_type": "markdown",
   "metadata": {},
   "source": [
    "## Question 10 :\n",
    "\n",
    "**Tester l’hypothèse que le coefficient associé à educ est égal à 10% avec un seuil de significativité de 5% (test à alternatif des deux côtés)**"
   ]
  },
  {
   "cell_type": "markdown",
   "metadata": {},
   "source": [
    "> Unrestricted model\n",
    "$$ \\log(wage) = \\beta_0 + \\beta_1 city + \\beta_2 educ + \\beta_3 exper + \\beta_4 nwifeinc + \\beta_5 kidslt6 + \\beta_6 kidsge6 + u$$\n",
    "\n",
    "> \n",
    "\n",
    "> Restricted model with $H_0 : \\beta_2 = 0.1$\n",
    "$$ \\log(wage) - 0.1*educ = \\beta_0 + \\beta_1 city + \\beta_3 exper + \\beta_4 nwifeinc + \\beta_5 kidslt6 + \\beta_6 kidsge6 + u$$\n",
    "\n",
    "Remarque : On utilise le log de _wage_ pour avoir les effets des variables en pourcentage."
   ]
  },
  {
   "cell_type": "code",
   "execution_count": 23,
   "metadata": {
    "collapsed": true
   },
   "outputs": [],
   "source": [
    "### UNRESTRICTED MODEL\n",
    "    # already computed in question 9"
   ]
  },
  {
   "cell_type": "code",
   "execution_count": 24,
   "metadata": {},
   "outputs": [
    {
     "name": "stdout",
     "output_type": "stream",
     "text": [
      "             cste      city     exper  nwifeinc   kidslt6   kidsge6\n",
      "beta =  -0.373464  0.036133  0.015498  0.005016 -0.043358 -0.012101\n",
      "\n",
      "dof = 422   (#obs:428 - #coeffs:6)\n",
      "ssr = 188.599902\n"
     ]
    }
   ],
   "source": [
    "### RESTRICTED MODEL\n",
    "y = df_mroz.lwage - 0.1*df_mroz['educ']\n",
    "X = df_mroz[['city', 'exper', 'nwifeinc', 'kidslt6', 'kidsge6']]\n",
    "\n",
    "Restricted_Model_q10 = regression_residuals(X, y, add_intercept=True)"
   ]
  },
  {
   "cell_type": "code",
   "execution_count": 25,
   "metadata": {},
   "outputs": [
    {
     "name": "stdout",
     "output_type": "stream",
     "text": [
      "q = 1\n",
      "F = 0.022149\n",
      " ==> p_value = 0.881762\n"
     ]
    }
   ],
   "source": [
    "compute_pValue(Unrestricted_Model, Restricted_Model_q10)"
   ]
  },
  {
   "cell_type": "markdown",
   "metadata": {},
   "source": [
    "#### Conclusion  :\n",
    "\n",
    "> Ici, p-value > 0.05 donc on ne rejette pas $H_0$ ($\\beta_2=0.1$) à 5%."
   ]
  },
  {
   "cell_type": "markdown",
   "metadata": {},
   "source": [
    "## Question 11 :\n",
    "\n",
    "**Tester l’hypothèse jointe que le rendement de l’éducation est de 10% et que celui de l’expérience professionnelle est de 5%.**"
   ]
  },
  {
   "cell_type": "markdown",
   "metadata": {},
   "source": [
    "> Unrestricted model\n",
    "$$ \\log(wage) = \\beta_0 + \\beta_1 city + \\beta_2 educ + \\beta_3 exper + \\beta_4 nwifeinc + \\beta_5 kidslt6 + \\beta_6 kidsge6 + u$$\n",
    "\n",
    "> \n",
    "\n",
    "> Restricted model with $H_0 : \\beta_2 = 0.1 \\ , \\ \\beta_3 = 0.05$\n",
    "$$ \\log(wage) - 0.1*educ - 0.05*exper = \\beta_0 + \\beta_1 city + \\beta_4 nwifeinc + \\beta_5 kidslt6 + \\beta_6 kidsge6 + u$$"
   ]
  },
  {
   "cell_type": "code",
   "execution_count": 26,
   "metadata": {
    "collapsed": true
   },
   "outputs": [],
   "source": [
    "### UNRESTRICTED MODEL\n",
    "    # already computed in question 9"
   ]
  },
  {
   "cell_type": "code",
   "execution_count": 27,
   "metadata": {},
   "outputs": [
    {
     "name": "stdout",
     "output_type": "stream",
     "text": [
      "             cste      city  nwifeinc   kidslt6   kidsge6\n",
      "beta =  -1.012898  0.021205  0.009202  0.068012  0.065118\n",
      "\n",
      "dof = 423   (#obs:428 - #coeffs:5)\n",
      "ssr = 215.091802\n"
     ]
    }
   ],
   "source": [
    "### RESTRICTED MODEL\n",
    "y = df_mroz.lwage - 0.1*df_mroz['educ'] - 0.05*df_mroz['exper']\n",
    "X = df_mroz[['city', 'nwifeinc', 'kidslt6', 'kidsge6']]\n",
    "\n",
    "Restricted_Model_q11 = regression_residuals(X, y, add_intercept=True)"
   ]
  },
  {
   "cell_type": "code",
   "execution_count": 28,
   "metadata": {},
   "outputs": [
    {
     "name": "stdout",
     "output_type": "stream",
     "text": [
      "q = 2\n",
      "F = 29.580753\n",
      " ==> p_value = 9.535559958512219e-13\n"
     ]
    }
   ],
   "source": [
    "compute_pValue(Unrestricted_Model, Restricted_Model_q11)"
   ]
  },
  {
   "cell_type": "markdown",
   "metadata": {},
   "source": [
    "#### Conclusion  :\n",
    "\n",
    "> Ici, p-value < 0.05 donc on rejette $H_0$ ($\\beta_2=0.1 \\ , \\ \\beta_3=0.05$) à 5%."
   ]
  },
  {
   "cell_type": "markdown",
   "metadata": {},
   "source": [
    "## Question 12 :\n",
    "\n",
    "**De combien augmente le salaire en pourcentage avec 10 années d’expérience ?**"
   ]
  },
  {
   "cell_type": "markdown",
   "metadata": {
    "collapsed": true
   },
   "source": [
    "> Unrestricted model  \n",
    "$$ \\log(wage) = \\beta_0 + \\beta_1 city + \\beta_2 educ + \\beta_3 exper + \\beta_4 nwifeinc + \\beta_5 kidslt6 + \\beta_6 kidsge6 + u$$"
   ]
  },
  {
   "cell_type": "code",
   "execution_count": 29,
   "metadata": {},
   "outputs": [
    {
     "name": "stdout",
     "output_type": "stream",
     "text": [
      " ==> β3 = 0.015487872095843352\n"
     ]
    }
   ],
   "source": [
    "### UNRESTRICTED MODEL\n",
    "    # already computed in question 9\n",
    "\n",
    "beta3 = Unrestricted_Model.beta[3]\n",
    "print(' ==> β3 =', beta3)"
   ]
  },
  {
   "cell_type": "markdown",
   "metadata": {},
   "source": [
    "> $\\beta_3$ est estimé à environ $0.0155$. Ce qui veut dire qu'une année d'expérience rajoute au salaire un extra de : $0.0155*salaire$.  \n",
    "\n",
    ">  \n",
    "\n",
    "> Attention ! Pour calculer l'augmentation sur plusieurs années, il faut, chaque année, repartir du salaire augmenté de l'année précédente.  \n",
    "La fonction ci-dessous permet de calculer l'augmentation cumulée facilement."
   ]
  },
  {
   "cell_type": "code",
   "execution_count": 30,
   "metadata": {
    "collapsed": true
   },
   "outputs": [],
   "source": [
    "def augmentation_cumulee(salaire_ini, augmentation_annuelle, nb_annee_exp):\n",
    "    salaire = salaire_ini\n",
    "    for i in range(nb_annee_exp):\n",
    "        salaire = salaire + salaire*augmentation_annuelle\n",
    "    return salaire"
   ]
  },
  {
   "cell_type": "code",
   "execution_count": 31,
   "metadata": {},
   "outputs": [
    {
     "name": "stdout",
     "output_type": "stream",
     "text": [
      "salaire de base : 1\n",
      "salaire après 10 ans d'expérience : 1.166131\n"
     ]
    }
   ],
   "source": [
    "salaire_ini = 1\n",
    "nb_annee_exp = 10\n",
    "salaire_final = augmentation_cumulee(salaire_ini, beta3, nb_annee_exp)\n",
    "\n",
    "print(\"salaire de base :\", salaire_ini)\n",
    "print(\"salaire après {:d} ans d'expérience : {:.6f}\".format(nb_annee_exp, salaire_final))"
   ]
  },
  {
   "cell_type": "markdown",
   "metadata": {},
   "source": [
    "#### Conclusion :\n",
    "> Après 10 ans d'expérience, la salaire aura augmenté de 16.61 %."
   ]
  },
  {
   "cell_type": "markdown",
   "metadata": {},
   "source": [
    "## Question 13 :\n",
    "\n",
    "**Tester l’égalité des coefficients associés aux variables kidsgt6 et kidslt6. Interprétez.**"
   ]
  },
  {
   "cell_type": "markdown",
   "metadata": {},
   "source": [
    "On veut tester ici $H_0 : \\beta_5 = \\beta_6$.\n",
    "\n",
    "On va introduire une nouvelle variable $\\theta_1 = \\beta_5 - \\beta_6$ et tester plutôt $H_0 : \\theta_1 = 0$\n",
    "\n",
    "> Unrestricted model (ré-écrit avec $\\theta_1$) :\n",
    "$$ \\log(wage) = \\beta_0 + \\beta_1 city + \\beta_2 educ + \\beta_3 exper + \\beta_4 nwifeinc + \\theta1 kidslt6 + \\beta_6 (kidslt6 + kidsge6) + u$$\n",
    "\n",
    ">  \n",
    "\n",
    "> Restricted model with $H_0 : \\theta_1 = 0$\n",
    "$$ \\log(wage) = \\beta_0 + \\beta_1 city + \\beta_2 educ + \\beta_3 exper + \\beta_4 nwifeinc + \\beta_6 (kidslt6 + kidsge6) + u$$"
   ]
  },
  {
   "cell_type": "code",
   "execution_count": 32,
   "metadata": {
    "collapsed": true
   },
   "outputs": [],
   "source": [
    "### UNRESTRICTED MODEL\n",
    "    # already computed in question 9"
   ]
  },
  {
   "cell_type": "code",
   "execution_count": 33,
   "metadata": {},
   "outputs": [
    {
     "name": "stdout",
     "output_type": "stream",
     "text": [
      "             cste      city     educ     exper  nwifeinc  kidslt6+kidsge6\n",
      "beta =  -0.389241  0.034308  0.10127  0.015574  0.005008         -0.01503\n",
      "\n",
      "dof = 422   (#obs:428 - #coeffs:6)\n",
      "ssr = 188.651886\n"
     ]
    }
   ],
   "source": [
    "### RESTRICTED MODEL\n",
    "y = df_mroz.lwage\n",
    "X = df_mroz[['city', 'educ', 'exper', 'nwifeinc']]\n",
    "X['kidslt6+kidsge6'] = df_mroz['kidslt6'] + df_mroz['kidsge6']\n",
    "\n",
    "Restricted_Model_q13 = regression_residuals(X, y, add_intercept=True)"
   ]
  },
  {
   "cell_type": "code",
   "execution_count": 34,
   "metadata": {},
   "outputs": [
    {
     "name": "stdout",
     "output_type": "stream",
     "text": [
      "q = 1\n",
      "F = 0.138196\n",
      " ==> p_value = 0.710268\n"
     ]
    }
   ],
   "source": [
    "compute_pValue(Unrestricted_Model, Restricted_Model_q13)"
   ]
  },
  {
   "cell_type": "markdown",
   "metadata": {},
   "source": [
    "#### Conclusion  :\n",
    "\n",
    "> Ici, p-value > 0.05 donc on ne rejette pas $H_0$ ($\\mathbf{\\beta_5 = \\beta_6}$) à 5%."
   ]
  },
  {
   "cell_type": "markdown",
   "metadata": {},
   "source": [
    "## Question 14 :\n",
    "\n",
    "**En utilisant le modèle de la question 7, faire le test d'hétéroscédasticité de forme linéaire en donnant la p-valeur. Corriger le problème par rapport à la variable la plus importante en utilisant la méthode des MCG. Comparer les écarts-types des coefficients estimés avec ceux obtenus à la question 7. Commenter.**"
   ]
  },
  {
   "cell_type": "markdown",
   "metadata": {},
   "source": [
    "On veut tester :\n",
    "> $H_0 : Var(u|x_1,x_2, ···,x_k) = \\sigma^2$\n",
    "\n",
    "Mais comme on suppose que les résidus sont de moyenne nulle, alors $Var(u|x) = \\mathbf{E}(u^2|x)$.  \n",
    "Et donc $H_0$ devient :\n",
    "> $\\mathbf{E}(u^2|x_1,x_2, ···,x_k) = \\mathbf{E}(u^2) = \\sigma^2$  \n",
    "(c'est-à-dire que $u^2$ ne dépend pas des $x_1, ..., x_n$)"
   ]
  },
  {
   "cell_type": "markdown",
   "metadata": {},
   "source": [
    "Unrestricted model :  \n",
    "> $$ wage = \\beta_0 + \\beta_1 city + \\beta_2 educ + \\beta_3 exper + \\beta_4 nwifeinc + \\beta_5 kidslt6 + \\beta_6 kidsge6 + u$$\n",
    "\n",
    "Restricted model with $H_0 : \\beta_1 = \\beta_2 = \\beta_3 = \\beta_4 = \\beta_5 = \\beta_6 = 0$  (all the coefficients except intercept are zeros) :\n",
    "> $$ wage = \\beta_0 + u$$"
   ]
  },
  {
   "cell_type": "code",
   "execution_count": 35,
   "metadata": {},
   "outputs": [
    {
     "name": "stdout",
     "output_type": "stream",
     "text": [
      "             cste      city      educ    exper  nwifeinc   kidslt6   kidsge6\n",
      "beta =  -2.403454  0.369752  0.460048  0.02382  0.015245  0.036173 -0.061891\n",
      "\n",
      "dof = 421   (#obs:428 - #coeffs:7)\n",
      "ssr = 4083.813560\n"
     ]
    }
   ],
   "source": [
    "### Calcul des Résidus sur le modèle non contraint\n",
    "# Data\n",
    "y = df_mroz.wage\n",
    "X = df_mroz[['city', 'educ', 'exper', 'nwifeinc', 'kidslt6', 'kidsge6']]\n",
    "# Regression\n",
    "Unrestricted_Model_q14 = regression_residuals(X, y, add_intercept=True) #, print_out=False)\n",
    "# Get residuals\n",
    "u = Unrestricted_Model_q14.u"
   ]
  },
  {
   "cell_type": "markdown",
   "metadata": {},
   "source": [
    "### Mais ici, on veut calculer les SSR par rapport à $u^2$ et non par rapport à $y$ :"
   ]
  },
  {
   "cell_type": "code",
   "execution_count": 36,
   "metadata": {
    "collapsed": true
   },
   "outputs": [],
   "source": [
    "u2 = u ** 2"
   ]
  },
  {
   "cell_type": "code",
   "execution_count": 37,
   "metadata": {},
   "outputs": [
    {
     "name": "stdout",
     "output_type": "stream",
     "text": [
      "             cste      city      educ     exper  nwifeinc   kidslt6   kidsge6\n",
      "beta =   1.485611  5.964392  0.807722 -0.534082   0.04349  4.957255 -0.401842\n",
      "\n",
      "dof = 421   (#obs:428 - #coeffs:7)\n",
      "ssr = 756183.496030\n"
     ]
    }
   ],
   "source": [
    "### UNRESTRICTED MODEL ON SQUARED RESIDUALS\n",
    "y = u2\n",
    "X = df_mroz[['city', 'educ', 'exper', 'nwifeinc', 'kidslt6', 'kidsge6']]\n",
    "Unrestricted_for_u2 = regression_residuals(X, y, add_intercept=True)"
   ]
  },
  {
   "cell_type": "code",
   "execution_count": 38,
   "metadata": {},
   "outputs": [
    {
     "name": "stdout",
     "output_type": "stream",
     "text": [
      "            cste\n",
      "beta =   9.54162\n",
      "\n",
      "dof = 427   (#obs:428 - #coeffs:1)\n",
      "ssr = 773347.081345\n"
     ]
    }
   ],
   "source": [
    "### RESTRICTED MODEL ON SQUARED RESIDUALS\n",
    "y = u2\n",
    "X = df_mroz[[]]\n",
    "Restricted_for_u2 = regression_residuals(X, y, add_intercept=True)"
   ]
  },
  {
   "cell_type": "code",
   "execution_count": 39,
   "metadata": {},
   "outputs": [
    {
     "name": "stdout",
     "output_type": "stream",
     "text": [
      "q = 6\n",
      "F = 1.592618\n",
      " ==> p_value = 0.147661\n"
     ]
    }
   ],
   "source": [
    "compute_pValue(Unrestricted_for_u2, Restricted_for_u2)"
   ]
  },
  {
   "cell_type": "markdown",
   "metadata": {},
   "source": [
    "#### Conclusion\n",
    "> Ici, p-value > 0.05 donc on ne rejette pas $H_0$."
   ]
  },
  {
   "cell_type": "markdown",
   "metadata": {},
   "source": [
    "### Correction par rapport à la variable la plus importante\n",
    "\n",
    "> La régression sur le modèle non contraint montre que c'est *educ* qui a le plus d'importance ($\\beta_2=0.460048$)\n",
    "\n",
    "> Nous allons donc tout diviser par $\\sqrt{educ}$ :\n",
    "\n",
    "On considère maintenant le modèle non contraint :\n",
    "\n",
    "> $$ \\frac{wage}{\\sqrt{educ}} = \\frac{\\beta_0}{\\sqrt{educ}}\n",
    "+ \\frac{\\beta_1 city}{\\sqrt{educ}}\n",
    "+ \\frac{\\beta_2 educ}{\\sqrt{educ}}\n",
    "+ \\frac{\\beta_3 exper}{\\sqrt{educ}}\n",
    "+ \\frac{\\beta_4 nwifeinc}{\\sqrt{educ}}\n",
    "+ \\frac{\\beta_5 kidslt6}{\\sqrt{educ}}\n",
    "+ \\frac{\\beta_6 kidsge6}{\\sqrt{educ}}\n",
    "+ \\frac{u}{\\sqrt{educ}}$$\n"
   ]
  },
  {
   "cell_type": "code",
   "execution_count": 40,
   "metadata": {},
   "outputs": [
    {
     "name": "stdout",
     "output_type": "stream",
     "text": [
      "             cste      city      educ     exper  nwifeinc   kidslt6   kidsge6\n",
      "beta =  -1.904292  0.341516  0.414086  0.024064  0.018241  0.089263 -0.037168\n",
      "\n",
      "dof = 421   (#obs:428 - #coeffs:7)\n",
      "ssr = 314.354490\n"
     ]
    }
   ],
   "source": [
    "### Calcul des Résidus sur le modèle WLS (weighted least squares) non contraint\n",
    "\n",
    "# Calcul of the divisor\n",
    "sqrt_educ = np.sqrt(df_mroz.educ)\n",
    "# Data\n",
    "y = df_mroz.wage\n",
    "X = df_mroz[['city', 'educ', 'exper', 'nwifeinc', 'kidslt6', 'kidsge6']]\n",
    "# Regression with WLS parameter\n",
    "Unrestricted_WLS = regression_residuals(X, y, add_intercept=True, wls_divisor=sqrt_educ)\n",
    "# Get residuals\n",
    "u_wls = Unrestricted_WLS.u"
   ]
  },
  {
   "cell_type": "code",
   "execution_count": 41,
   "metadata": {
    "collapsed": true
   },
   "outputs": [],
   "source": [
    "# Calcul du carré des résidus\n",
    "u2_wls = u_wls ** 2"
   ]
  },
  {
   "cell_type": "code",
   "execution_count": 42,
   "metadata": {},
   "outputs": [
    {
     "name": "stdout",
     "output_type": "stream",
     "text": [
      "             cste      city      educ     exper  nwifeinc   kidslt6   kidsge6\n",
      "beta =   0.579272  0.384731  0.031384 -0.043997  0.003133  0.390862 -0.021401\n",
      "\n",
      "dof = 421   (#obs:428 - #coeffs:7)\n",
      "ssr = 399.673798\n"
     ]
    }
   ],
   "source": [
    "### UNRESTRICTED WLS MODEL ON SQUARED RESIDUALS\n",
    "y = u2_wls\n",
    "X = df_mroz[['city', 'educ', 'exper', 'nwifeinc', 'kidslt6', 'kidsge6']]\n",
    "Unrestricted_for_u2_wls = regression_residuals(X, y, add_intercept=True, wls_divisor=sqrt_educ)"
   ]
  },
  {
   "cell_type": "code",
   "execution_count": 43,
   "metadata": {},
   "outputs": [
    {
     "name": "stdout",
     "output_type": "stream",
     "text": [
      "             cste\n",
      "beta =   0.707625\n",
      "\n",
      "dof = 427   (#obs:428 - #coeffs:1)\n",
      "ssr = 407.326626\n"
     ]
    }
   ],
   "source": [
    "### RESTRICTED WLS MODEL ON SQUARED RESIDUALS\n",
    "y = u2_wls\n",
    "X = df_mroz[[]]\n",
    "Restricted_for_u2_wls = regression_residuals(X, y, add_intercept=True, wls_divisor=sqrt_educ)"
   ]
  },
  {
   "cell_type": "code",
   "execution_count": 44,
   "metadata": {},
   "outputs": [
    {
     "name": "stdout",
     "output_type": "stream",
     "text": [
      "q = 6\n",
      "F = 1.343529\n",
      " ==> p_value = 0.236439\n"
     ]
    }
   ],
   "source": [
    "compute_pValue(Unrestricted_for_u2_wls, Restricted_for_u2_wls)"
   ]
  },
  {
   "cell_type": "code",
   "execution_count": 45,
   "metadata": {},
   "outputs": [
    {
     "name": "stdout",
     "output_type": "stream",
     "text": [
      "Ecart Type des betas sur le modèle non contraint : 0.908932\n",
      "Ecart Type des betas sur le modèle WLS non contraint 0.733475\n"
     ]
    }
   ],
   "source": [
    "std_dev_beta = Unrestricted_Model_q14.beta.std()\n",
    "std_dev_beta_WLS = Unrestricted_WLS.beta.std()\n",
    "\n",
    "print(\"Ecart Type des betas sur le modèle non contraint : %.6f\" % std_dev_beta)\n",
    "print(\"Ecart Type des betas sur le modèle WLS non contraint %.6f\" % std_dev_beta_WLS)"
   ]
  },
  {
   "cell_type": "markdown",
   "metadata": {},
   "source": [
    "#### Commentaire :\n",
    "> En conrigeant le modèle avec la méthode des WLS, on a réduit l'écart-type des coefficients par rapport au modèle non corrigé (modèle de la question 7)."
   ]
  },
  {
   "cell_type": "markdown",
   "metadata": {},
   "source": [
    "## Question 15 :\n",
    "\n",
    "**Tester le changement de structure de la question 8 entre les femmes qui ont plus de 43 ans et les autres : test sur l'ensemble des coefficients. Refaire le test avec 3\n",
    "groupes (mutuellement exclusifs) : les femmes de moins de 30 ans, entre 30 et 43 ans, plus de 43 ans. Donnez les p-valeurs**"
   ]
  },
  {
   "cell_type": "markdown",
   "metadata": {},
   "source": [
    "$$ \\log(wage) = \\beta_0 + \\beta_1 city + \\beta_2 educ + \\beta_3 exper + \\beta_4 nwifeinc + \\beta_5 kidslt6 + \\beta_6 kidsge6 + u$$"
   ]
  },
  {
   "cell_type": "markdown",
   "metadata": {},
   "source": [
    "### Séparation du dataset en 2 selon l'age des femmes"
   ]
  },
  {
   "cell_type": "code",
   "execution_count": 46,
   "metadata": {},
   "outputs": [
    {
     "name": "stdout",
     "output_type": "stream",
     "text": [
      "             cste      city      educ     exper  nwifeinc   kidslt6   kidsge6\n",
      "beta =  -0.541177  0.084998  0.116725  0.020163  0.002559 -0.093295 -0.023323\n",
      "\n",
      "dof = 235   (#obs:242 - #coeffs:7)\n",
      "ssr = 110.644090\n"
     ]
    }
   ],
   "source": [
    "#### On sépare le dataset entre les femmes de 43 ans ou moins et les femmes de plus de 43 ans:\n",
    "####   Et on fait une régression selon le modèle ci-dessus\n",
    "\n",
    "# 1) Femmes de 43 ans ou moins\n",
    "condition = df_mroz['age'] <= 43\n",
    "df_mroz_under43 = df_mroz[condition]\n",
    "\n",
    "y = df_mroz_under43.lwage\n",
    "X = df_mroz_under43[['city', 'educ', 'exper', 'nwifeinc', 'kidslt6', 'kidsge6']]\n",
    "\n",
    "Unrestricted_WomenUnder43 = regression_residuals(X, y, add_intercept=True)"
   ]
  },
  {
   "cell_type": "code",
   "execution_count": 47,
   "metadata": {},
   "outputs": [
    {
     "name": "stdout",
     "output_type": "stream",
     "text": [
      "             cste     city      educ     exper  nwifeinc   kidslt6   kidsge6\n",
      "beta =  -0.323201 -0.01884  0.085265  0.017837   0.00927 -0.009123 -0.024883\n",
      "\n",
      "dof = 179   (#obs:186 - #coeffs:7)\n",
      "ssr = 75.348171\n"
     ]
    }
   ],
   "source": [
    "# 2) Femmes de plus de 43 ans\n",
    "condition = df_mroz['age'] > 43\n",
    "df_mroz_over43 = df_mroz[condition]\n",
    "\n",
    "y = df_mroz_over43.lwage\n",
    "X = df_mroz_over43[['city', 'educ', 'exper', 'nwifeinc', 'kidslt6', 'kidsge6']]\n",
    "\n",
    "Unrestricted_WomenOver43 = regression_residuals(X, y, add_intercept=True)"
   ]
  },
  {
   "cell_type": "code",
   "execution_count": 48,
   "metadata": {},
   "outputs": [
    {
     "name": "stdout",
     "output_type": "stream",
     "text": [
      "F = 0.826037\n",
      "p value = 0.566036\n"
     ]
    }
   ],
   "source": [
    "### Test de Fisher après séparation du dataset\n",
    "\n",
    "# Dataset total (calculé à la question 9)\n",
    "SSR = Unrestricted_Model.ssr\n",
    "dof = Unrestricted_Model.dof\n",
    "# Femmes de 43 ans ou moins\n",
    "SSR1 = Unrestricted_WomenUnder43.ssr\n",
    "dof1 = Unrestricted_WomenUnder43.dof\n",
    "# Femmes de plus de 43 ans\n",
    "SSR2 = Unrestricted_WomenOver43.ssr\n",
    "dof2 = Unrestricted_WomenOver43.dof\n",
    "\n",
    "F = (SSR - (SSR1+SSR2)) / (SSR1+SSR2)  *  (dof1+dof2) / (dof - (dof1+dof2))\n",
    "print(\"F = %.6f\" % F)\n",
    "\n",
    "# Compute p-value\n",
    "q = dof - (dof1+dof2)\n",
    "p_value = scipy.stats.f.sf(F, q, (dof1+dof2))\n",
    "print(\"p value = %.6f\" % p_value)"
   ]
  },
  {
   "cell_type": "markdown",
   "metadata": {},
   "source": [
    "#### Conclusion sur le dataset séparé en deux\n",
    "> Ici, p-value > 0.05 donc on ne rejette pas $H_0$."
   ]
  },
  {
   "cell_type": "markdown",
   "metadata": {},
   "source": [
    "### Séparation du dataset en 3 selon l'age des femmes"
   ]
  },
  {
   "cell_type": "code",
   "execution_count": 49,
   "metadata": {},
   "outputs": [
    {
     "name": "stdout",
     "output_type": "stream",
     "text": [
      "    -----   Femmes de 30 ans ou moins   ------\n",
      "             cste      city      educ     exper  nwifeinc  kidslt6   kidsge6\n",
      "beta =  -2.111331 -0.194635  0.221973  0.052105  0.016097 -0.20869  0.089801\n",
      "\n",
      "dof = 12   (#obs:19 - #coeffs:7)\n",
      "ssr = 3.387215\n",
      "\n",
      "    -----   Femmes de plus de 30, mais 43 au maximum   ------\n",
      "             cste     city      educ     exper  nwifeinc   kidslt6   kidsge6\n",
      "beta =  -0.524523  0.08895  0.111627  0.021064   0.00284 -0.089247 -0.013521\n",
      "\n",
      "dof = 216   (#obs:223 - #coeffs:7)\n",
      "ssr = 106.093444\n",
      "\n",
      "    -----   Femmes de plus de 43 ans   ------\n",
      "             cste     city      educ     exper  nwifeinc   kidslt6   kidsge6\n",
      "beta =  -0.323201 -0.01884  0.085265  0.017837   0.00927 -0.009123 -0.024883\n",
      "\n",
      "dof = 179   (#obs:186 - #coeffs:7)\n",
      "ssr = 75.348171\n"
     ]
    }
   ],
   "source": [
    "# 1) Femmes de 30 ans ou moins\n",
    "print(\"    -----   Femmes de 30 ans ou moins   ------\")\n",
    "condition = df_mroz['age'] <= 30\n",
    "df_mroz_under30 = df_mroz[condition]\n",
    "y = df_mroz_under30.lwage\n",
    "X = df_mroz_under30[['city', 'educ', 'exper', 'nwifeinc', 'kidslt6', 'kidsge6']]\n",
    "Unrestricted_WomenUnder30 = regression_residuals(X, y, add_intercept=True)\n",
    "\n",
    "# 2) Femmes de plus de 30, mais 43 au maximum\n",
    "print(\"\\n    -----   Femmes de plus de 30, mais 43 au maximum   ------\")\n",
    "condition = (df_mroz['age'] > 30) & (df_mroz['age'] <= 43)\n",
    "df_mroz_30_43 = df_mroz[condition]\n",
    "y = df_mroz_30_43.lwage\n",
    "X = df_mroz_30_43[['city', 'educ', 'exper', 'nwifeinc', 'kidslt6', 'kidsge6']]\n",
    "Unrestricted_Women30_43 = regression_residuals(X, y, add_intercept=True)\n",
    "\n",
    "# 3) Femmes de plus de 43 ans\n",
    "print(\"\\n    -----   Femmes de plus de 43 ans   ------\")\n",
    "condition = df_mroz['age'] > 43\n",
    "df_mroz_over43 = df_mroz[condition]\n",
    "y = df_mroz_over43.lwage\n",
    "X = df_mroz_over43[['city', 'educ', 'exper', 'nwifeinc', 'kidslt6', 'kidsge6']]\n",
    "Unrestricted_WomenOver43 = regression_residuals(X, y, add_intercept=True)"
   ]
  },
  {
   "cell_type": "code",
   "execution_count": 50,
   "metadata": {},
   "outputs": [
    {
     "name": "stdout",
     "output_type": "stream",
     "text": [
      "F = 0.591585\n",
      "p value = 0.872035\n"
     ]
    }
   ],
   "source": [
    "### Test de Fisher après séparation du dataset\n",
    "\n",
    "# Dataset total (calculé à la question 9)\n",
    "SSR = Unrestricted_Model.ssr\n",
    "dof = Unrestricted_Model.dof\n",
    "# Femmes de 30 ans ou moins\n",
    "SSR1 = Unrestricted_WomenUnder30.ssr\n",
    "dof1 = Unrestricted_WomenUnder30.dof\n",
    "# Femmes de plus de 30, mais 43 au maximum\n",
    "SSR2 = Unrestricted_Women30_43.ssr\n",
    "dof2 = Unrestricted_Women30_43.dof\n",
    "# Femmes de plus de 43 ans\n",
    "SSR3 = Unrestricted_WomenOver43.ssr\n",
    "dof3 = Unrestricted_WomenOver43.dof\n",
    "\n",
    "F = (SSR - (SSR1+SSR2+SSR3)) / (SSR1+SSR2+SSR3)  *  (dof1+dof2+dof3) / (dof - (dof1+dof2+dof3))\n",
    "print(\"F = %.6f\" % F)\n",
    "\n",
    "# Compute p-value\n",
    "q = dof - (dof1+dof2+dof3)\n",
    "p_value = scipy.stats.f.sf(F, q, (dof1+dof2+dof3))\n",
    "print(\"p value = %.6f\" % p_value)"
   ]
  },
  {
   "cell_type": "markdown",
   "metadata": {},
   "source": [
    "#### Conclusion sur le dataset séparé en trois\n",
    "> Là encore, p-value > 0.05 donc on ne rejette pas $H_0$."
   ]
  },
  {
   "cell_type": "markdown",
   "metadata": {},
   "source": [
    "## Question 16 :\n",
    "\n",
    "**A partir de la variable kidslt6, créer un ensemble de variables binaires pour le nombre d’enfants de moins de 6 ans. Refaire la question 8 avec ces variables et en utilisant comme référence les femmes qui ont des enfants de plus de 6 ans. Ces catégories sont-elles mutuellement exclusives ? Interprétez les paramètres associés aux variables binaires. Faire le test de non significativité de l’ensemble des variables binaires. Donnez les p-valeurs**"
   ]
  },
  {
   "cell_type": "code",
   "execution_count": 51,
   "metadata": {},
   "outputs": [
    {
     "name": "stdout",
     "output_type": "stream",
     "text": [
      "Nombre minimum d'enfants de -6 ans : 0\n",
      "Nombre maximum d'enfants de -6 ans : 2\n"
     ]
    }
   ],
   "source": [
    "print(\"Nombre minimum d'enfants de -6 ans :\", df_mroz[\"kidslt6\"].min())\n",
    "print(\"Nombre maximum d'enfants de -6 ans :\", df_mroz[\"kidslt6\"].max())"
   ]
  },
  {
   "cell_type": "markdown",
   "metadata": {},
   "source": [
    "** Nous allons créer 3 variables binaires : Aucun d'enfant de -6 , Un enfant de -6 , Deux enfants de -6  \n",
    "Ces variables sont mutuellement exclusives par construction. **"
   ]
  },
  {
   "cell_type": "code",
   "execution_count": 52,
   "metadata": {
    "collapsed": true
   },
   "outputs": [],
   "source": [
    "df_mroz[\"0_kidslt6\"] = df_mroz[\"kidslt6\"].map(lambda x : 1 if x==0 else 0)\n",
    "df_mroz[\"1_kidslt6\"] = df_mroz[\"kidslt6\"].map(lambda x : 1 if x==1 else 0)\n",
    "df_mroz[\"2_kidslt6\"] = df_mroz[\"kidslt6\"].map(lambda x : 1 if x==2 else 0)"
   ]
  },
  {
   "cell_type": "markdown",
   "metadata": {},
   "source": [
    "** On enlève la variable 'Aucun enfant de -6 ans' **"
   ]
  },
  {
   "cell_type": "code",
   "execution_count": 53,
   "metadata": {},
   "outputs": [
    {
     "name": "stdout",
     "output_type": "stream",
     "text": [
      "             cste      city      educ     exper  nwifeinc   kidsge6  \\\n",
      "beta =  -0.397551  0.034609  0.102219  0.015437  0.004903 -0.011594   \n",
      "\n",
      "         1_kidslt6  2_kidslt6  \n",
      "beta =    -0.05403  -0.065028  \n",
      "\n",
      "dof = 420   (#obs:428 - #coeffs:8)\n",
      "ssr = 188.582182\n"
     ]
    }
   ],
   "source": [
    "### UNRESTRICTED MODEL\n",
    "y = df_mroz.lwage\n",
    "X = df_mroz[['city', 'educ', 'exper', 'nwifeinc', 'kidsge6', '1_kidslt6', '2_kidslt6']]\n",
    "\n",
    "binary_kidslt6_Model = regression_residuals(X, y, add_intercept=True)"
   ]
  },
  {
   "cell_type": "markdown",
   "metadata": {},
   "source": [
    "#### Conclusion\n",
    "> Avoir 1 enfant de -6 ans diminue le salaire de 5.4 % par rapport à une femme sans enfant de -6 ans (catégorie de référence).\n",
    "\n",
    "> Avoir 2 enfants de -6 ans diminue le salaire de 6.5 % par rapport à une femme sans enfant de -6 ans (catégorie de référence)."
   ]
  },
  {
   "cell_type": "markdown",
   "metadata": {},
   "source": [
    "---\n",
    "# <center>Partie 2. Séries temporelles</center>\n",
    "---"
   ]
  },
  {
   "cell_type": "markdown",
   "metadata": {},
   "source": [
    "## Question 1 :\n",
    "\n",
    "**Importer les données du fichier quarterly.xls (corriger le problème éventuel d’observations manquantes)**"
   ]
  },
  {
   "cell_type": "code",
   "execution_count": 54,
   "metadata": {
    "collapsed": true
   },
   "outputs": [],
   "source": [
    "#filepath2 = \"/home/robin/Bureau/projet ses722/quarterly.xls\"\n",
    "filepath2 = \"./data/quarterly.xls\"\n",
    "\n",
    "# Import\n",
    "df = pd.read_excel(filepath2)\n",
    "\n",
    "# Transform date in a correct datetime format\n",
    "df['DATE'] = pd.to_datetime(df['DATE'])"
   ]
  },
  {
   "cell_type": "code",
   "execution_count": 55,
   "metadata": {},
   "outputs": [
    {
     "name": "stdout",
     "output_type": "stream",
     "text": [
      "Nombre de valeurs manquantes =  0\n"
     ]
    }
   ],
   "source": [
    "# Verification de possibles valeurs manquantes\n",
    "number_null = df.isnull().sum().sum()\n",
    "number_na = df.isna().sum().sum()\n",
    "\n",
    "print(\"Nombre de valeurs manquantes = \", number_null + number_na)"
   ]
  },
  {
   "cell_type": "code",
   "execution_count": 56,
   "metadata": {
    "scrolled": false
   },
   "outputs": [
    {
     "data": {
      "text/html": [
       "<div>\n",
       "<style scoped>\n",
       "    .dataframe tbody tr th:only-of-type {\n",
       "        vertical-align: middle;\n",
       "    }\n",
       "\n",
       "    .dataframe tbody tr th {\n",
       "        vertical-align: top;\n",
       "    }\n",
       "\n",
       "    .dataframe thead th {\n",
       "        text-align: right;\n",
       "    }\n",
       "</style>\n",
       "<table border=\"1\" class=\"dataframe\">\n",
       "  <thead>\n",
       "    <tr style=\"text-align: right;\">\n",
       "      <th></th>\n",
       "      <th>DATE</th>\n",
       "      <th>FFR</th>\n",
       "      <th>Tbill</th>\n",
       "      <th>Tb1yr</th>\n",
       "      <th>r5</th>\n",
       "      <th>r10</th>\n",
       "      <th>PPINSA</th>\n",
       "      <th>Finished</th>\n",
       "      <th>CPI</th>\n",
       "      <th>CPICORE</th>\n",
       "      <th>M1NSA</th>\n",
       "      <th>M2SA</th>\n",
       "      <th>M2NSA</th>\n",
       "      <th>Unemp</th>\n",
       "      <th>IndProd</th>\n",
       "      <th>RGDP</th>\n",
       "      <th>Potent</th>\n",
       "      <th>Deflator</th>\n",
       "      <th>Curr</th>\n",
       "    </tr>\n",
       "  </thead>\n",
       "  <tbody>\n",
       "    <tr>\n",
       "      <th>0</th>\n",
       "      <td>1960-01-01</td>\n",
       "      <td>3.93</td>\n",
       "      <td>3.87</td>\n",
       "      <td>4.57</td>\n",
       "      <td>4.64</td>\n",
       "      <td>4.49</td>\n",
       "      <td>31.67</td>\n",
       "      <td>33.20</td>\n",
       "      <td>29.40</td>\n",
       "      <td>18.92</td>\n",
       "      <td>140.53</td>\n",
       "      <td>896.1</td>\n",
       "      <td>299.40</td>\n",
       "      <td>5.13</td>\n",
       "      <td>23.93</td>\n",
       "      <td>2845.3</td>\n",
       "      <td>2824.2</td>\n",
       "      <td>18.521</td>\n",
       "      <td>31.830</td>\n",
       "    </tr>\n",
       "    <tr>\n",
       "      <th>1</th>\n",
       "      <td>1960-04-01</td>\n",
       "      <td>3.70</td>\n",
       "      <td>2.99</td>\n",
       "      <td>3.87</td>\n",
       "      <td>4.30</td>\n",
       "      <td>4.26</td>\n",
       "      <td>31.73</td>\n",
       "      <td>33.40</td>\n",
       "      <td>29.57</td>\n",
       "      <td>19.00</td>\n",
       "      <td>138.40</td>\n",
       "      <td>903.3</td>\n",
       "      <td>300.03</td>\n",
       "      <td>5.23</td>\n",
       "      <td>23.41</td>\n",
       "      <td>2832.0</td>\n",
       "      <td>2851.2</td>\n",
       "      <td>18.579</td>\n",
       "      <td>31.862</td>\n",
       "    </tr>\n",
       "    <tr>\n",
       "      <th>2</th>\n",
       "      <td>1960-07-01</td>\n",
       "      <td>2.94</td>\n",
       "      <td>2.36</td>\n",
       "      <td>3.07</td>\n",
       "      <td>3.67</td>\n",
       "      <td>3.83</td>\n",
       "      <td>31.63</td>\n",
       "      <td>33.43</td>\n",
       "      <td>29.59</td>\n",
       "      <td>19.07</td>\n",
       "      <td>139.60</td>\n",
       "      <td>919.4</td>\n",
       "      <td>305.50</td>\n",
       "      <td>5.53</td>\n",
       "      <td>23.02</td>\n",
       "      <td>2836.6</td>\n",
       "      <td>2878.7</td>\n",
       "      <td>18.648</td>\n",
       "      <td>32.217</td>\n",
       "    </tr>\n",
       "    <tr>\n",
       "      <th>3</th>\n",
       "      <td>1960-10-01</td>\n",
       "      <td>2.30</td>\n",
       "      <td>2.31</td>\n",
       "      <td>2.99</td>\n",
       "      <td>3.75</td>\n",
       "      <td>3.89</td>\n",
       "      <td>31.70</td>\n",
       "      <td>33.67</td>\n",
       "      <td>29.78</td>\n",
       "      <td>19.14</td>\n",
       "      <td>142.67</td>\n",
       "      <td>932.8</td>\n",
       "      <td>312.30</td>\n",
       "      <td>6.27</td>\n",
       "      <td>22.47</td>\n",
       "      <td>2800.2</td>\n",
       "      <td>2906.7</td>\n",
       "      <td>18.700</td>\n",
       "      <td>32.624</td>\n",
       "    </tr>\n",
       "    <tr>\n",
       "      <th>4</th>\n",
       "      <td>1961-01-01</td>\n",
       "      <td>2.00</td>\n",
       "      <td>2.35</td>\n",
       "      <td>2.87</td>\n",
       "      <td>3.64</td>\n",
       "      <td>3.79</td>\n",
       "      <td>31.80</td>\n",
       "      <td>33.63</td>\n",
       "      <td>29.84</td>\n",
       "      <td>19.17</td>\n",
       "      <td>142.23</td>\n",
       "      <td>948.9</td>\n",
       "      <td>317.10</td>\n",
       "      <td>6.80</td>\n",
       "      <td>22.13</td>\n",
       "      <td>2816.9</td>\n",
       "      <td>2934.8</td>\n",
       "      <td>18.743</td>\n",
       "      <td>32.073</td>\n",
       "    </tr>\n",
       "  </tbody>\n",
       "</table>\n",
       "</div>"
      ],
      "text/plain": [
       "        DATE   FFR  Tbill  Tb1yr    r5   r10  PPINSA  Finished    CPI  \\\n",
       "0 1960-01-01  3.93   3.87   4.57  4.64  4.49   31.67     33.20  29.40   \n",
       "1 1960-04-01  3.70   2.99   3.87  4.30  4.26   31.73     33.40  29.57   \n",
       "2 1960-07-01  2.94   2.36   3.07  3.67  3.83   31.63     33.43  29.59   \n",
       "3 1960-10-01  2.30   2.31   2.99  3.75  3.89   31.70     33.67  29.78   \n",
       "4 1961-01-01  2.00   2.35   2.87  3.64  3.79   31.80     33.63  29.84   \n",
       "\n",
       "   CPICORE   M1NSA   M2SA   M2NSA  Unemp  IndProd    RGDP  Potent  Deflator  \\\n",
       "0    18.92  140.53  896.1  299.40   5.13    23.93  2845.3  2824.2    18.521   \n",
       "1    19.00  138.40  903.3  300.03   5.23    23.41  2832.0  2851.2    18.579   \n",
       "2    19.07  139.60  919.4  305.50   5.53    23.02  2836.6  2878.7    18.648   \n",
       "3    19.14  142.67  932.8  312.30   6.27    22.47  2800.2  2906.7    18.700   \n",
       "4    19.17  142.23  948.9  317.10   6.80    22.13  2816.9  2934.8    18.743   \n",
       "\n",
       "     Curr  \n",
       "0  31.830  \n",
       "1  31.862  \n",
       "2  32.217  \n",
       "3  32.624  \n",
       "4  32.073  "
      ]
     },
     "execution_count": 56,
     "metadata": {},
     "output_type": "execute_result"
    }
   ],
   "source": [
    "# Affichage des 5 premières lignes\n",
    "df.head()"
   ]
  },
  {
   "cell_type": "markdown",
   "metadata": {
    "collapsed": true
   },
   "source": [
    "## Question 2 :\n",
    "\n",
    "**Calculer inf, le taux d’inflation à partir de la variable CPI. Faire un graphique dans le temps de inf. Commentez.**"
   ]
  },
  {
   "cell_type": "code",
   "execution_count": 57,
   "metadata": {
    "collapsed": true
   },
   "outputs": [],
   "source": [
    "# Calcul du taux d'inflation\n",
    "CPI_t        = df['CPI'][1:].values\n",
    "CPI_t_minus1 = df['CPI'][:-1].values\n",
    "\n",
    "inflation = 100 * (CPI_t - CPI_t_minus1) / CPI_t_minus1                # OR : np.log(CPI_t/CPI_t_minus1)\n",
    "inflation = np.insert(inflation, 0, values=0) # rajoute un 0 au début\n",
    "\n",
    "df['inf'] = inflation  # ajoute l'inflation dans le dataframe"
   ]
  },
  {
   "cell_type": "code",
   "execution_count": 58,
   "metadata": {},
   "outputs": [
    {
     "data": {
      "image/png": "[encoded data removed]",
      "text/plain": [
       "<matplotlib.figure.Figure at 0x7f73db2338d0>"
      ]
     },
     "metadata": {},
     "output_type": "display_data"
    }
   ],
   "source": [
    "# Graphique\n",
    "df.plot(x='DATE', y='inf', title=\"Evolution du taux d'inflation\", figsize=(18,6))\n",
    "plt.show()"
   ]
  },
  {
   "cell_type": "markdown",
   "metadata": {},
   "source": [
    "#### Commentaire :\n",
    "> Taux d'inflation croissant durant les années 1960.\n",
    "\n",
    "> Puis pic d'inflation au début des années 1970, qui semble correspondre au Premier choc pétrolier (1973).\n",
    "\n",
    "> Second pic à la fin de cette même décennie, qui montre le Second choc pétrolier (1979).\n",
    "\n",
    "> Enfin, en 2008, on peut remarquer une très forte chute de l'inflation dûe certainement dûe à la crise économique dite des \"sub-primes\".\n",
    "\n",
    "> ** Il ne semble pas y avoir de saisonnalité fortement marquée. La série ne semble pas stationnaire.   ????? VRAI ???**"
   ]
  },
  {
   "cell_type": "markdown",
   "metadata": {},
   "source": [
    "## Question 3 :\n",
    "\n",
    "**Interpréter l'autocorrélogramme et l'autocorrélogrammes partiels de inf. Quelle est la différence entre ces deux graphiques ?**"
   ]
  },
  {
   "cell_type": "code",
   "execution_count": 59,
   "metadata": {
    "scrolled": false
   },
   "outputs": [
    {
     "data": {
      "image/png": "[encoded data removed]",
      "text/plain": [
       "<matplotlib.figure.Figure at 0x7f73dd294630>"
      ]
     },
     "metadata": {},
     "output_type": "display_data"
    }
   ],
   "source": [
    "import pylab as pl\n",
    "import statsmodels.api as sm\n",
    "fig, axes = pl.subplots(2,1, figsize=(15,10))\n",
    "fig.subplots_adjust(hspace=0.5)\n",
    "fig=sm.graphics.tsa.plot_acf(df.inf.astype(np.float64),ax=axes[0])\n",
    "axes[0].set_title(\"Autocorrelogramme de inf\")\n",
    "fig=sm.graphics.tsa.plot_pacf(df.inf, ax=axes[1])\n",
    "axes[1].set_title(\"Autocorrelogramme partiel de inf\")\n",
    "plt.show()"
   ]
  },
  {
   "cell_type": "markdown",
   "metadata": {},
   "source": [
    "Par lecture graphique :\n",
    "* L'autocorrelation semble tendre vers 0\n",
    "* L'autocorrelation partielle semble tomber a zero rapidement.\n",
    "* il s'agit probablement d'un processus AR, selon l'autocorrélogramme partiel le nombre de retard significatif se situe en 1 et 5."
   ]
  },
  {
   "cell_type": "markdown",
   "metadata": {},
   "source": [
    "## Question 4 :\n",
    "\n",
    "**Proposer une modélisation AR(p) de inf, en utilisant tous les outils vus au cours.**"
   ]
  },
  {
   "cell_type": "markdown",
   "metadata": {},
   "source": [
    "* Objectif\n",
    "    - Modélisation d'un processus stochastique qui génère la série temporelle observée.\n",
    "    - Décompostion prévision erreur.\n",
    "    \n",
    "    \n",
    "* Tendance = série non stationnaire:\n",
    "* La distribution de xt et distribution xt-1\n",
    "\n",
    "\n",
    "* Solution : stationnariser\n",
    "* Modèle en différence\n",
    "* Modèle en taux de croissance\n",
    "\n",
    "\n",
    "* Sous l'hypothèse de stationnarité:\n",
    "* Estimateurs MCO = meilleur non biaisé\n",
    "    \n",
    "KPSS test : Computes the Kwiatkowski-Phillips-Schmidt-Shin (KPSS) test for the null hypothesis that x is level or trend stationary."
   ]
  },
  {
   "cell_type": "code",
   "execution_count": 60,
   "metadata": {},
   "outputs": [
    {
     "name": "stdout",
     "output_type": "stream",
     "text": [
      "test stats :  -3.252038584894522\n",
      "p-value :  0.0745220986364763\n",
      "usedlag :  2\n",
      "nombre observations :  209\n",
      "valeurs critiques :  {'1%': -4.0027517721652925, '5%': -3.4317085320958416, '10%': -3.139513599307244}\n",
      "maximized information criterion :  275.4946609992428\n"
     ]
    }
   ],
   "source": [
    "import statsmodels.tsa.stattools as ts\n",
    "\n",
    "unit_test = ts.adfuller(df.inf, regression=\"ct\", autolag='AIC')\n",
    "\n",
    "print(\"test stats : \", format(unit_test[0]))\n",
    "print(\"p-value : \", format(unit_test[1]))\n",
    "print(\"usedlag : \", format(unit_test[2]))\n",
    "print(\"nombre observations : \", format(unit_test[3]))\n",
    "print(\"valeurs critiques : \", format(unit_test[4]))\n",
    "print(\"maximized information criterion : \", format(unit_test[5]))"
   ]
  },
  {
   "cell_type": "markdown",
   "metadata": {},
   "source": [
    "La série est non stationnaire car p-value est supèrieure à 5% donc nous allons la stationnariser en calculant le différentiel."
   ]
  },
  {
   "cell_type": "code",
   "execution_count": 61,
   "metadata": {
    "collapsed": true
   },
   "outputs": [],
   "source": [
    "inf_t        = df['inf'][1:].values\n",
    "inf_t_minus1 = df['inf'][:-1].values\n",
    "\n",
    "diff_inf = inf_t - inf_t_minus1\n",
    "diff_inf = np.insert(diff_inf, 0, values=0) # rajoute un 0 au début\n",
    "\n",
    "df['diff_inf'] = diff_inf  # ajoute le différentiel d'inflation dans le dataframe"
   ]
  },
  {
   "cell_type": "code",
   "execution_count": 62,
   "metadata": {},
   "outputs": [
    {
     "name": "stdout",
     "output_type": "stream",
     "text": [
      "test stats :  -10.044746288509446\n",
      "p-value :  1.855427697120856e-15\n",
      "usedlag :  3\n",
      "nombre observations :  208\n",
      "valeurs critiques :  {'1%': -4.002966509244673, '5%': -3.43181159172131, '10%': -3.139573978276485}\n",
      "maximized information criterion :  284.5278606513089\n"
     ]
    }
   ],
   "source": [
    "unit_test = ts.adfuller(df['diff_inf'], regression=\"ct\", autolag = 'AIC')\n",
    "print(\"test stats : \", format(unit_test[0]))\n",
    "print(\"p-value : \", format(unit_test[1]))\n",
    "print(\"usedlag : \", format(unit_test[2]))\n",
    "print(\"nombre observations : \", format(unit_test[3]))\n",
    "print(\"valeurs critiques : \", format(unit_test[4]))\n",
    "print(\"maximized information criterion : \", format(unit_test[5]))"
   ]
  },
  {
   "cell_type": "code",
   "execution_count": 63,
   "metadata": {
    "collapsed": true
   },
   "outputs": [],
   "source": [
    "ar_model = AR(list(df[\"diff_inf\"]))\n",
    "m = ar_model.fit(2, ic='aic', trend='ct')"
   ]
  },
  {
   "cell_type": "code",
   "execution_count": 64,
   "metadata": {
    "scrolled": true
   },
   "outputs": [
    {
     "name": "stdout",
     "output_type": "stream",
     "text": [
      "Constante + Betas =  [ 2.97568903e-02 -2.70995374e-04 -3.70305920e-01 -3.49629996e-01]\n",
      "\n",
      "Résidus =  [-3.25958599e-01  5.58348392e-01 -4.35363969e-01 -2.25977972e-01\n",
      "  1.66313782e-01 -2.17637749e-01  2.91573399e-01 -5.76338143e-02\n",
      " -1.45145350e-02 -1.31085144e-01  2.30751523e-02 -1.78635978e-01\n",
      "  4.05256734e-01 -2.75906574e-01  1.62181700e-01 -3.52518209e-01\n",
      " -7.67488297e-04  1.32812439e-01 -4.91037631e-02  3.24632976e-01\n",
      " -3.05022173e-01  2.09238170e-01  3.52997450e-01  1.75540485e-01\n",
      "  6.53013517e-02 -1.19911046e-01 -5.84878582e-01  9.28916899e-02\n",
      "  3.06662321e-01  3.48139850e-01  2.48147705e-02 -4.03664312e-02\n",
      "  3.26418315e-01 -9.67012095e-03  8.24841944e-02  2.57888692e-01\n",
      " -8.55315315e-02  1.93269933e-01  3.46863482e-02 -1.47129452e-01\n",
      " -4.31855412e-01  2.01844234e-01 -6.12156602e-01 -8.18151033e-03\n",
      " -1.36329245e-01 -2.15713985e-01 -2.07867404e-02 -2.32565095e-01\n",
      "  9.10713908e-02  2.38727289e-01  6.36181654e-01  7.95973324e-01\n",
      "  2.48886244e-01  6.72271662e-01  6.07436291e-01  4.75900807e-02\n",
      "  1.51498878e-01  2.08692645e-01 -8.15424829e-01 -1.20362053e+00\n",
      "  1.20867282e-01 -2.08802351e-01 -4.93706329e-01 -5.77022633e-01\n",
      "  3.52560478e-01  1.47918804e-02  5.71257782e-01 -1.84130389e-02\n",
      " -2.56490046e-01 -9.48116920e-02  1.34852232e-01  6.79202913e-01\n",
      "  3.27451107e-01  1.99165864e-01  2.01797265e-01  7.22709588e-01\n",
      "  3.47533497e-01  1.78137515e-01  7.68562995e-01 -3.05892437e-01\n",
      " -1.44942637e+00  1.75293011e-01 -2.39596808e-01 -3.63984679e-01\n",
      "  4.20487591e-01 -1.14195621e+00 -9.33913454e-01 -1.22371425e-01\n",
      "  2.25462055e-01 -1.12668710e+00 -6.69209205e-01  4.92114737e-01\n",
      "  1.38969795e-01  3.29721762e-01  3.57987350e-01 -3.11114772e-01\n",
      " -1.08161972e-01 -2.02782259e-01  2.66579005e-02 -1.20821487e-03\n",
      " -2.66852628e-01  2.83149304e-01 -4.49618435e-01 -1.06323451e+00\n",
      "  5.56296233e-01  1.41285566e-01  9.20799663e-01  1.47985746e-01\n",
      "  7.54626223e-02 -1.85030412e-01 -2.22536410e-01  2.71848945e-01\n",
      "  1.50735172e-01  3.10012062e-02  2.40943332e-02  4.47644426e-01\n",
      " -6.33329601e-01  9.59520753e-02  4.97278351e-01 -3.81266490e-01\n",
      "  7.11231168e-01 -1.71563766e-04 -7.03739222e-01 -5.11487083e-01\n",
      " -2.20804162e-01  7.95681984e-02 -5.69997108e-02  5.68353466e-02\n",
      " -1.37136691e-02  1.42430509e-01 -9.51963578e-02 -2.09407954e-02\n",
      " -3.02662922e-01  2.71780048e-01 -2.76345370e-01  7.82667654e-02\n",
      "  2.79576783e-01 -1.79373203e-01  1.57436311e-01  2.42134132e-02\n",
      " -2.18141348e-01 -4.07561655e-02  2.62942537e-01  1.17443193e-01\n",
      " -1.63348504e-01  1.89024901e-01 -2.45089160e-01 -3.58048313e-01\n",
      "  4.76483272e-02  2.07613683e-02 -2.16787081e-01  2.40604592e-02\n",
      "  1.29136196e-01  7.36041207e-02 -4.01944866e-02  3.44754966e-01\n",
      "  1.09680058e-01  1.38665585e-01  2.63103527e-01 -1.03172670e-01\n",
      "  1.59641404e-01 -2.14390940e-01  2.32908122e-01 -2.24516810e-01\n",
      " -4.11483380e-01 -5.85285938e-01  1.32391815e-01  5.02586519e-01\n",
      "  7.48277237e-02  1.43980356e-01  3.87518766e-01 -9.94806446e-01\n",
      "  6.34388027e-01 -4.27688522e-01  6.68561922e-01  3.70145535e-03\n",
      "  9.89937922e-03  3.76102462e-01 -4.37943224e-01  1.30548817e-01\n",
      "  7.21367504e-01 -1.93427132e-01 -3.09738381e-01  4.42710932e-02\n",
      "  5.98717942e-02 -1.18913719e+00  9.29784761e-01  2.10935047e-01\n",
      "  6.77432683e-02  4.81580420e-01 -7.54060919e-02  3.95058307e-01\n",
      "  2.91926916e-01 -3.64187919e+00  3.13502756e-01  4.44554969e-01\n",
      "  1.40242327e+00  4.60448257e-01 -4.64891763e-01 -4.68932018e-01\n",
      "  1.23747087e-01  4.97790050e-01  6.54946967e-01  3.51393026e-01\n",
      " -2.61547596e-01 -4.80197271e-01 -3.56332201e-02 -3.42231371e-01\n",
      "  2.55696873e-01  3.76918284e-02]\n",
      "\n",
      "MSE =  -1.2972691703929567e-14\n"
     ]
    }
   ],
   "source": [
    "print(\"Constante + Betas = \", m.params)\n",
    "print()\n",
    "print(\"Résidus = \", m.resid)\n",
    "print()\n",
    "print(\"MSE = \", (0.5* m.resid.mean()))"
   ]
  },
  {
   "cell_type": "markdown",
   "metadata": {},
   "source": [
    "## Question 5 :\n",
    "\n",
    "**Estimer le modèle de la courbe de Philips qui explique le taux de chômage (Unemp) en fonction du taux d’inflation et une constante.**"
   ]
  },
  {
   "cell_type": "code",
   "execution_count": 81,
   "metadata": {
    "collapsed": true
   },
   "outputs": [],
   "source": [
    "cho_t        = df['Unemp'][1:].values\n",
    "cho_t_minus1 = df['Unemp'][:-1].values\n",
    "\n",
    "diff_cho = cho_t - cho_t_minus1\n",
    "diff_cho = np.insert(diff_cho, 0, values=0) # rajoute un 0 au début\n",
    "\n",
    "df['diff_cho'] = diff_cho  # ajoute le différentiel d'inflation dans le dataframe"
   ]
  },
  {
   "cell_type": "code",
   "execution_count": 83,
   "metadata": {},
   "outputs": [
    {
     "name": "stdout",
     "output_type": "stream",
     "text": [
      "                            OLS Regression Results                            \n",
      "==============================================================================\n",
      "Dep. Variable:               diff_cho   R-squared:                       0.024\n",
      "Model:                            OLS   Adj. R-squared:                  0.019\n",
      "Method:                 Least Squares   F-statistic:                     5.156\n",
      "Date:                Tue, 15 May 2018   Prob (F-statistic):             0.0242\n",
      "Time:                        16:42:55   Log-Likelihood:                -67.467\n",
      "No. Observations:                 212   AIC:                             138.9\n",
      "Df Residuals:                     210   BIC:                             145.6\n",
      "Df Model:                           1                                         \n",
      "Covariance Type:            nonrobust                                         \n",
      "==============================================================================\n",
      "                 coef    std err          t      P>|t|      [0.025      0.975]\n",
      "------------------------------------------------------------------------------\n",
      "const          0.0130      0.023      0.566      0.572      -0.032       0.058\n",
      "diff_inf      -0.0979      0.043     -2.271      0.024      -0.183      -0.013\n",
      "==============================================================================\n",
      "Omnibus:                       75.122   Durbin-Watson:                   0.732\n",
      "Prob(Omnibus):                  0.000   Jarque-Bera (JB):              252.094\n",
      "Skew:                           1.448   Prob(JB):                     1.81e-55\n",
      "Kurtosis:                       7.489   Cond. No.                         1.88\n",
      "==============================================================================\n",
      "\n",
      "Warnings:\n",
      "[1] Standard Errors assume that the covariance matrix of the errors is correctly specified.\n"
     ]
    }
   ],
   "source": [
    "import statsmodels.api as sm\n",
    "\n",
    "X = sm.add_constant(df.diff_inf)\n",
    "y = df.diff_cho\n",
    "model = sm.OLS(y, X)\n",
    "results = model.fit()\n",
    "print(results.summary())"
   ]
  },
  {
   "cell_type": "code",
   "execution_count": 84,
   "metadata": {},
   "outputs": [
    {
     "data": {
      "image/png": "[encoded data removed]",
      "text/plain": [
       "<matplotlib.figure.Figure at 0x7f73d777a908>"
      ]
     },
     "metadata": {},
     "output_type": "display_data"
    }
   ],
   "source": [
    "plt.scatter(df['inf'], df['diff_cho'])\n",
    "plt.xlabel(\"inflation\")\n",
    "plt.ylabel(\"chômage\")\n",
    "plt.title(\"Courbe de Phillips\")\n",
    "plt.show()"
   ]
  },
  {
   "cell_type": "markdown",
   "metadata": {},
   "source": [
    "## Question 6 :\n",
    "\n",
    "**Tester l’autocorrélation des erreurs.**"
   ]
  },
  {
   "cell_type": "code",
   "execution_count": 85,
   "metadata": {},
   "outputs": [
    {
     "data": {
      "text/plain": [
       "array([[0.63439803]])"
      ]
     },
     "execution_count": 85,
     "metadata": {},
     "output_type": "execute_result"
    }
   ],
   "source": [
    "u_t = results.resid[1:]\n",
    "u_t_minus1 = results.resid[:-1]\n",
    "\n",
    "y = u_t.reshape(-1, 1)\n",
    "X = u_t_minus1.reshape(-1, 1)\n",
    "\n",
    "rho = np.linalg.inv(X.T.dot(X)).dot(X.T).dot(y)\n",
    "rho"
   ]
  },
  {
   "cell_type": "code",
   "execution_count": 86,
   "metadata": {},
   "outputs": [
    {
     "data": {
      "text/plain": [
       "0.1111719743421883"
      ]
     },
     "execution_count": 86,
     "metadata": {},
     "output_type": "execute_result"
    }
   ],
   "source": [
    "np.var(u_t)"
   ]
  },
  {
   "cell_type": "code",
   "execution_count": 87,
   "metadata": {},
   "outputs": [
    {
     "data": {
      "text/plain": [
       "0.11096138714764275"
      ]
     },
     "execution_count": 87,
     "metadata": {},
     "output_type": "execute_result"
    }
   ],
   "source": [
    "np.var(u_t_minus1)"
   ]
  },
  {
   "cell_type": "code",
   "execution_count": 88,
   "metadata": {},
   "outputs": [
    {
     "name": "stdout",
     "output_type": "stream",
     "text": [
      "                            OLS Regression Results                            \n",
      "==============================================================================\n",
      "Dep. Variable:                      y   R-squared:                       0.402\n",
      "Model:                            OLS   Adj. R-squared:                  0.399\n",
      "Method:                 Least Squares   F-statistic:                     141.0\n",
      "Date:                Tue, 15 May 2018   Prob (F-statistic):           3.25e-25\n",
      "Time:                        16:43:15   Log-Likelihood:                -13.455\n",
      "No. Observations:                 211   AIC:                             28.91\n",
      "Df Residuals:                     210   BIC:                             32.26\n",
      "Df Model:                           1                                         \n",
      "Covariance Type:            nonrobust                                         \n",
      "==============================================================================\n",
      "                 coef    std err          t      P>|t|      [0.025      0.975]\n",
      "------------------------------------------------------------------------------\n",
      "x1             0.6344      0.053     11.874      0.000       0.529       0.740\n",
      "==============================================================================\n",
      "Omnibus:                       40.982   Durbin-Watson:                   1.986\n",
      "Prob(Omnibus):                  0.000   Jarque-Bera (JB):              114.066\n",
      "Skew:                           0.813   Prob(JB):                     1.70e-25\n",
      "Kurtosis:                       6.215   Cond. No.                         1.00\n",
      "==============================================================================\n",
      "\n",
      "Warnings:\n",
      "[1] Standard Errors assume that the covariance matrix of the errors is correctly specified.\n"
     ]
    }
   ],
   "source": [
    "model = sm.OLS(y, X)\n",
    "results = model.fit()\n",
    "print(results.summary())"
   ]
  },
  {
   "cell_type": "markdown",
   "metadata": {},
   "source": [
    "Ici la variable rho est proche de 0 donc on en conclu que u_t et u_t_minus1 sont autocoréllés (leur variances respectives sont très proches l'une de l'autre)"
   ]
  },
  {
   "cell_type": "markdown",
   "metadata": {},
   "source": [
    "La statistique de test est approximativement égale à 2 * (1-r) où r est l'autocorrélation de l'échantillon des résidus. Ainsi, pour r == 0, n'indiquant aucune corrélation sérielle, la statistique de test est égale à 2. Cette statistique sera toujours comprise entre 0 et 4. Plus la statistique est proche de 0, plus il y a de preuves de corrélation sérielle positive. Le plus proche de 4, plus la preuve de corrélation sérielle négative."
   ]
  },
  {
   "cell_type": "code",
   "execution_count": 89,
   "metadata": {},
   "outputs": [
    {
     "data": {
      "text/plain": [
       "array([[0.63439803]])"
      ]
     },
     "execution_count": 89,
     "metadata": {},
     "output_type": "execute_result"
    }
   ],
   "source": [
    "rho"
   ]
  },
  {
   "cell_type": "markdown",
   "metadata": {},
   "source": [
    "#### Conclusion :\n",
    "> On voit que les erreurs ne s'expliquent pas en fonction des erreurs passées. Il n'est donc pas nécessaire de faire un modèle autorégréssif."
   ]
  },
  {
   "cell_type": "markdown",
   "metadata": {},
   "source": [
    "## Question 7 :\n",
    "\n",
    "**Corriger l’autocorrélation des erreurs par la méthode vue en cours.**"
   ]
  },
  {
   "cell_type": "code",
   "execution_count": 90,
   "metadata": {},
   "outputs": [],
   "source": [
    "X_inf = df['diff_inf'].values\n",
    "X_inf = np.vstack((np.transpose(\n",
    "    (np.ones(X_inf.shape[0]), X_inf))))\n",
    "\n",
    "y_unemp = df['diff_cho'].values\n",
    "\n",
    "# compute new y from 1 to n\n",
    "y_part = np.array([y_unemp[i] - rho * y_unemp[i - 1]\n",
    "                   for i in range(1, y_unemp.shape[0])])\n",
    "\n",
    "# compute new X from 1 to n\n",
    "X_part = np.zeros((X_inf.shape[0] - 1, X_inf.shape[1]))\n",
    "for i in range(1, X_inf.shape[0]):\n",
    "    X_part[i - 1] = X_inf[i] - rho * X_inf[i - 1]\n",
    "\n",
    "# mcg correction\n",
    "new_y = np.vstack((np.sqrt(\n",
    "    1 - rho**2) * y_unemp[0].reshape(-1, 1), y_part.reshape(-1, 1)))\n",
    "new_X_inf = np.vstack((np.transpose(\n",
    "    (np.sqrt(1 - rho**2) * X_inf[0]).reshape(-1, 1)), X_part))"
   ]
  },
  {
   "cell_type": "code",
   "execution_count": 91,
   "metadata": {
    "collapsed": true
   },
   "outputs": [],
   "source": [
    "X = sm.add_constant(new_X_inf)\n",
    "y = new_y\n",
    "model = sm.OLS(y, X)\n",
    "results = model.fit()"
   ]
  },
  {
   "cell_type": "code",
   "execution_count": 92,
   "metadata": {},
   "outputs": [
    {
     "data": {
      "text/plain": [
       "array([[0.06333157]])"
      ]
     },
     "execution_count": 92,
     "metadata": {},
     "output_type": "execute_result"
    }
   ],
   "source": [
    "u_t = results.resid[1:]\n",
    "u_t_minus1 = results.resid[:-1]\n",
    "\n",
    "y = u_t.reshape(-1, 1)\n",
    "X = u_t_minus1.reshape(-1, 1)\n",
    "\n",
    "rho = np.linalg.inv(X.T.dot(X)).dot(X.T).dot(y)\n",
    "rho"
   ]
  },
  {
   "cell_type": "markdown",
   "metadata": {},
   "source": [
    "#### Conclusion :\n",
    "> Le rho est 10 fois plus proche de 0 cela veut dire que l'autocorrélation est corrigée."
   ]
  },
  {
   "cell_type": "markdown",
   "metadata": {},
   "source": [
    "## Question 8 :\n",
    "\n",
    "**Tester la stabilité de la relation chômage-inflation sur deux sous-périodes de taille identique.**"
   ]
  },
  {
   "cell_type": "markdown",
   "metadata": {},
   "source": [
    "Le test de Chow est un test statistique et économétrique afin de déterminer si les coefficients de deux séries linéaires sont égaux. Les coefficients sont établis par régression linéaire.\n",
    "\n",
    "Il est surtout utilisé dans le cadre de séries temporelles pour savoir s'il y a une cassure significative par une certaine date qui séparerait les données en deux blocs ; il permet également d'évaluer l'impact des variables indépendantes sur les deux groupes ainsi construits. Ce test s'appuie sur la loi de Fisher.\n",
    "\n",
    "\n",
    "Cc : Wikipedia"
   ]
  },
  {
   "cell_type": "code",
   "execution_count": 93,
   "metadata": {
    "collapsed": true
   },
   "outputs": [],
   "source": [
    "import chow_test\n",
    "y1 = df.loc[df['DATE'] < '1986-01-01']['diff_cho']\n",
    "x1 = df.loc[df['DATE'] < '1986-01-01']['diff_inf']\n",
    "y2 = df.loc[df['DATE'] >= '1986-01-01']['diff_cho']\n",
    "x2 = df.loc[df['DATE'] >= '1986-01-01']['diff_inf']"
   ]
  },
  {
   "cell_type": "code",
   "execution_count": 94,
   "metadata": {},
   "outputs": [
    {
     "data": {
      "text/plain": [
       "array([4.32224998])"
      ]
     },
     "execution_count": 94,
     "metadata": {},
     "output_type": "execute_result"
    }
   ],
   "source": [
    "f_test = chow_test.f_value(y1, x1, y2, x2)\n",
    "f_test"
   ]
  },
  {
   "cell_type": "markdown",
   "metadata": {},
   "source": [
    "La borne du Fisher $ F_{2;210}$ est d'environ 3,041 nettement inférieure à 4,322, on décide donc H1 le modèle est instalable."
   ]
  },
  {
   "cell_type": "markdown",
   "metadata": {},
   "source": [
    "## Question 9 :\n",
    "\n",
    "**Estimer la courbe de Philips en ajoutant les délais d’ordre 1, 2, 3 et 4 de l’inflation. Faire le test de Granger de non causalité de l’inflation sur le chômage. Donnez la p-valeur**"
   ]
  },
  {
   "cell_type": "code",
   "execution_count": 95,
   "metadata": {
    "collapsed": true
   },
   "outputs": [],
   "source": [
    "df['lag1_inf']= df['diff_inf'].shift(1)\n",
    "df['lag2_inf']= df['diff_inf'].shift(2)\n",
    "df['lag3_inf']= df['diff_inf'].shift(3)\n",
    "df['lag4_inf']= df['diff_inf'].shift(4)"
   ]
  },
  {
   "cell_type": "code",
   "execution_count": 96,
   "metadata": {
    "collapsed": true
   },
   "outputs": [],
   "source": [
    "df1 = df[['diff_cho', 'diff_inf', 'lag1_inf','lag2_inf','lag3_inf','lag4_inf']]\n",
    "df1 = df1.dropna()"
   ]
  },
  {
   "cell_type": "code",
   "execution_count": 98,
   "metadata": {},
   "outputs": [],
   "source": [
    "from sklearn.linear_model import LinearRegression\n",
    "\n",
    "X = df1[['diff_inf', 'lag1_inf','lag2_inf','lag3_inf','lag4_inf']]\n",
    "y = df1['diff_cho']\n",
    "model = LinearRegression()\n",
    "model.fit(X, y)\n",
    "y_pred = model.predict(X)"
   ]
  },
  {
   "cell_type": "code",
   "execution_count": 99,
   "metadata": {},
   "outputs": [
    {
     "data": {
      "image/png": "[encoded data removed]",
      "text/plain": [
       "<matplotlib.figure.Figure at 0x7f73d7734e80>"
      ]
     },
     "metadata": {},
     "output_type": "display_data"
    }
   ],
   "source": [
    "plt.plot(df['diff_cho'])\n",
    "plt.plot(model.predict(X))\n",
    "plt.title(\"Prédiction du chômage\")\n",
    "plt.show()"
   ]
  },
  {
   "cell_type": "code",
   "execution_count": 100,
   "metadata": {},
   "outputs": [
    {
     "name": "stdout",
     "output_type": "stream",
     "text": [
      "\n",
      "Granger Causality\n",
      "number of lags (no zero) 1\n",
      "ssr based F test:         F=0.4906  , p=0.4844  , df_denom=208, df_num=1\n",
      "ssr based chi2 test:   chi2=0.4977  , p=0.4805  , df=1\n",
      "likelihood ratio test: chi2=0.4971  , p=0.4808  , df=1\n",
      "parameter F test:         F=0.4906  , p=0.4844  , df_denom=208, df_num=1\n",
      "\n",
      "Granger Causality\n",
      "number of lags (no zero) 2\n",
      "ssr based F test:         F=0.5109  , p=0.6007  , df_denom=205, df_num=2\n",
      "ssr based chi2 test:   chi2=1.0468  , p=0.5925  , df=2\n",
      "likelihood ratio test: chi2=1.0442  , p=0.5933  , df=2\n",
      "parameter F test:         F=0.5109  , p=0.6007  , df_denom=205, df_num=2\n",
      "\n",
      "Granger Causality\n",
      "number of lags (no zero) 3\n",
      "ssr based F test:         F=0.6549  , p=0.5807  , df_denom=202, df_num=3\n",
      "ssr based chi2 test:   chi2=2.0329  , p=0.5656  , df=3\n",
      "likelihood ratio test: chi2=2.0231  , p=0.5676  , df=3\n",
      "parameter F test:         F=0.6549  , p=0.5807  , df_denom=202, df_num=3\n",
      "\n",
      "Granger Causality\n",
      "number of lags (no zero) 4\n",
      "ssr based F test:         F=0.7654  , p=0.5489  , df_denom=199, df_num=4\n",
      "ssr based chi2 test:   chi2=3.2001  , p=0.5249  , df=4\n",
      "likelihood ratio test: chi2=3.1757  , p=0.5289  , df=4\n",
      "parameter F test:         F=0.7654  , p=0.5489  , df_denom=199, df_num=4\n"
     ]
    }
   ],
   "source": [
    "from statsmodels.tsa.stattools import grangercausalitytests\n",
    "test = grangercausalitytests(df[['diff_cho', 'diff_inf']],\n",
    "                      maxlag=4, addconst=True, verbose=True)"
   ]
  },
  {
   "cell_type": "markdown",
   "metadata": {},
   "source": [
    "- Toutes les pvalues sont supérieures à 5% cela veut dire que l'inflation n'a pas d'influence sur le chômage."
   ]
  },
  {
   "cell_type": "markdown",
   "metadata": {
    "collapsed": true
   },
   "source": [
    "---\n",
    "# ANNEXE\n",
    "---"
   ]
  },
  {
   "cell_type": "code",
   "execution_count": 101,
   "metadata": {
    "collapsed": true
   },
   "outputs": [],
   "source": [
    "def print_model(X, y, model_name=None):\n",
    "    \n",
    "    feat = []\n",
    "    for i, feat_name in enumerate(X.columns):\n",
    "        if feat_name == \"cste\":\n",
    "            feat.append(\"β0\")\n",
    "        else:\n",
    "            feat.append(\"β\"+str(i)+\"*\"+feat_name)\n",
    "    \n",
    "    if model_name:\n",
    "        print(\" -- \" + model_name + \" -- \")\n",
    "    print(y.name + \" = \" + \" + \".join(feat))\n",
    "    print()\n",
    "    "
   ]
  },
  {
   "cell_type": "code",
   "execution_count": null,
   "metadata": {
    "collapsed": true
   },
   "outputs": [],
   "source": []
  }
 ],
 "metadata": {
  "kernelspec": {
   "display_name": "Python 3",
   "language": "python",
   "name": "python3"
  },
  "language_info": {
   "codemirror_mode": {
    "name": "ipython",
    "version": 3
   },
   "file_extension": ".py",
   "mimetype": "text/x-python",
   "name": "python",
   "nbconvert_exporter": "python",
   "pygments_lexer": "ipython3",
   "version": "3.6.3"
  }
 },
 "nbformat": 4,
 "nbformat_minor": 2
}
